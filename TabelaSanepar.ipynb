{
  "nbformat": 4,
  "nbformat_minor": 0,
  "metadata": {
    "colab": {
      "name": "TabelaSanepar.ipynb",
      "provenance": [],
      "collapsed_sections": [],
      "authorship_tag": "ABX9TyNlDOY/L9VQGYtGyHzFZGxa",
      "include_colab_link": true
    },
    "kernelspec": {
      "name": "python3",
      "display_name": "Python 3"
    }
  },
  "cells": [
    {
      "cell_type": "markdown",
      "metadata": {
        "id": "view-in-github",
        "colab_type": "text"
      },
      "source": [
        "<a href=\"https://colab.research.google.com/github/cesarofuchi/python_projects/blob/master/TabelaSanepar.ipynb\" target=\"_parent\"><img src=\"https://colab.research.google.com/assets/colab-badge.svg\" alt=\"Open In Colab\"/></a>"
      ]
    },
    {
      "cell_type": "markdown",
      "metadata": {
        "id": "j69yxmKl_kkn"
      },
      "source": [
        "# Geração de tabela com rodizio de água por bairro em Curitiba\n",
        "\n",
        "\n",
        "A seca pelo qual Curitiba e região metropolitana esta passando pode estar longe de acabar. A data do rodízio intermitente de água é bem noticiada, porém não é avisado regularmente no meu condominio. \n",
        " \n",
        "![picture](https://github.com/cesarofuchi/python_projects/blob/main/sanepar/img/banner_20porcento.jpg?raw=true)\n",
        "*texto em itálico*\n",
        "\n",
        "Assim, decidi fazer um script para retirar da tabela oficial da agência de notícias do Paraná http://www.aen.pr.gov.br/ as informações para criar um relatório das datas do rodizio. \n",
        "\n",
        "Para que isso funcione, é preciso atualizar o link da tabela que esta em formato pdf\n",
        "\n",
        "Primeiramente devemos fazer o download da tabela para deixar aqui na maquina virtual. \n",
        "\n",
        "Vou usar a biblioteca requests para fazer uma requisição dos dados e depois salvar na máquina local.\n",
        "\n",
        "\n"
      ]
    },
    {
      "cell_type": "code",
      "metadata": {
        "id": "31D-iKgR8oCr"
      },
      "source": [
        "import requests\n",
        "#import textract\n",
        "response = requests.get(\"http://www.aen.pr.gov.br/arquivos/0910rodizioatualizada.pdf\")\n",
        "#myfile = open(\"out.pdf\", \"w\")\n",
        "\n",
        "with open('document.pdf', 'wb') as fw:\n",
        "    fw.write(response.content)\n"
      ],
      "execution_count": 4,
      "outputs": []
    },
    {
      "cell_type": "markdown",
      "metadata": {
        "id": "y8xA3KMT_T3M"
      },
      "source": [
        "Para extrar e manipular os dados da tabela será utilizada a biblioteca PDF Plumber.\n",
        "\n",
        "Lembrando: Nativamente, o Google Colab não possui essa biblioteca instalada, então nós precisamos instalar a mesma no nosso ambiente.\n",
        "\n",
        "Para isso, vamos utilizar o gerenciador de pacotes pip, e com o comando install vamos instalar a biblioteca."
      ]
    },
    {
      "cell_type": "code",
      "metadata": {
        "id": "3ilgWH859w8a",
        "outputId": "ec8f3745-9b13-4ef2-fd3b-59b554068a99",
        "colab": {
          "base_uri": "https://localhost:8080/",
          "height": 374
        }
      },
      "source": [
        "!pip install pdfplumber"
      ],
      "execution_count": 5,
      "outputs": [
        {
          "output_type": "stream",
          "text": [
            "Collecting pdfplumber\n",
            "  Downloading https://files.pythonhosted.org/packages/2c/06/eb883f00ea3d78a2f860c593645498c39120f763d30b099cc98c4392b312/pdfplumber-0.5.23.tar.gz\n",
            "Collecting pdfminer.six==20200517\n",
            "\u001b[?25l  Downloading https://files.pythonhosted.org/packages/b0/c0/ef1c8758bbd86edb10b5443700aac97d0ba27a9ca2e7696db8cd1fdbd5a8/pdfminer.six-20200517-py3-none-any.whl (5.6MB)\n",
            "\u001b[K     |████████████████████████████████| 5.6MB 6.2MB/s \n",
            "\u001b[?25hRequirement already satisfied: Pillow>=7.0.0 in /usr/local/lib/python3.6/dist-packages (from pdfplumber) (7.0.0)\n",
            "Collecting Wand\n",
            "\u001b[?25l  Downloading https://files.pythonhosted.org/packages/21/4d/0c33672e992ed80983895b36d3fbc3203f8e4a0fd36eb74ea07a563ae3ad/Wand-0.6.3-py2.py3-none-any.whl (133kB)\n",
            "\u001b[K     |████████████████████████████████| 143kB 38.4MB/s \n",
            "\u001b[?25hRequirement already satisfied: sortedcontainers in /usr/local/lib/python3.6/dist-packages (from pdfminer.six==20200517->pdfplumber) (2.2.2)\n",
            "Requirement already satisfied: chardet; python_version > \"3.0\" in /usr/local/lib/python3.6/dist-packages (from pdfminer.six==20200517->pdfplumber) (3.0.4)\n",
            "Collecting pycryptodome\n",
            "\u001b[?25l  Downloading https://files.pythonhosted.org/packages/17/55/17fa0b55849dc135f7bc400993a9206bf06d1b5d9520b0bc8d47c57aaef5/pycryptodome-3.9.8-cp36-cp36m-manylinux1_x86_64.whl (13.7MB)\n",
            "\u001b[K     |████████████████████████████████| 13.7MB 262kB/s \n",
            "\u001b[?25hBuilding wheels for collected packages: pdfplumber\n",
            "  Building wheel for pdfplumber (setup.py) ... \u001b[?25l\u001b[?25hdone\n",
            "  Created wheel for pdfplumber: filename=pdfplumber-0.5.23-cp36-none-any.whl size=29176 sha256=a6e4d55a00babdefbdc328c0a2b0ef653512f7ff98fd15cb06d0dd8a2d24fb41\n",
            "  Stored in directory: /root/.cache/pip/wheels/f6/4d/ae/abb7b92fbed5d09a835c259f26d2a3223ea929a0ad6d322097\n",
            "Successfully built pdfplumber\n",
            "Installing collected packages: pycryptodome, pdfminer.six, Wand, pdfplumber\n",
            "Successfully installed Wand-0.6.3 pdfminer.six-20200517 pdfplumber-0.5.23 pycryptodome-3.9.8\n"
          ],
          "name": "stdout"
        }
      ]
    },
    {
      "cell_type": "code",
      "metadata": {
        "id": "RLMvsb0CDpJu"
      },
      "source": [
        "#biblioteca para manipular arquivos\n",
        "import pdfplumber"
      ],
      "execution_count": 6,
      "outputs": []
    },
    {
      "cell_type": "code",
      "metadata": {
        "id": "79HPMu-bK1ik"
      },
      "source": [
        "relatorio = pdfplumber.open(\"document.pdf\")"
      ],
      "execution_count": 7,
      "outputs": []
    },
    {
      "cell_type": "code",
      "metadata": {
        "id": "U3rFJL40LCOX"
      },
      "source": [
        "# abrir a primeira pagina do relatorio\n",
        "\n",
        "pagina = relatorio.pages[0]\n",
        "texto = pagina.extract_text()"
      ],
      "execution_count": 8,
      "outputs": []
    },
    {
      "cell_type": "code",
      "metadata": {
        "id": "lIKYl7v-DMhd"
      },
      "source": [
        "tabela=relatorio.pages[1].extract_table()"
      ],
      "execution_count": 9,
      "outputs": []
    },
    {
      "cell_type": "code",
      "metadata": {
        "id": "zIMeEBnPEXGj"
      },
      "source": [
        "#iterar por todas as paginas e concatenar as tabelas\n",
        "table=[]\n",
        "for i in range(len(relatorio.pages)):  \n",
        "  pagina=relatorio.pages[i]\n",
        "  table=table+pagina.extract_table()\n",
        "\n",
        "  #pagina=relatorio.pages[i]\n",
        "  "
      ],
      "execution_count": 24,
      "outputs": []
    },
    {
      "cell_type": "code",
      "metadata": {
        "id": "sztdksMQtzzO",
        "outputId": "5a8b1386-4ab9-4d34-eeb5-79f527ee021f",
        "colab": {
          "base_uri": "https://localhost:8080/",
          "height": 34
        }
      },
      "source": [
        "len(table)"
      ],
      "execution_count": 25,
      "outputs": [
        {
          "output_type": "execute_result",
          "data": {
            "text/plain": [
              "408"
            ]
          },
          "metadata": {
            "tags": []
          },
          "execution_count": 25
        }
      ]
    },
    {
      "cell_type": "code",
      "metadata": {
        "id": "dTOBttI_PuhW"
      },
      "source": [
        "# o que tem em uma linha da tabela\n",
        "#table[2][0]=='GCBR'\n",
        "#procura por codigo\n",
        "str_procura='GCBR'\n",
        "coluna=0\n",
        "#procura por bairro (não funciona pois o mesmo bairro tem diferentes rodizios)\n",
        "#str_procura=\"Batel\"\n",
        "\n",
        "#procura por reservatório\n",
        "str_procura=\"área do Recalque Alto do Reservatório Cajuru\"\n",
        "str_procura=\"área da Gravidade do Reservatório Batel\"\n",
        "coluna=5\n",
        "\n",
        "resultado=[]\n",
        "j=0\n",
        "for i in range(len(table)):\n",
        "  if table[i][coluna] is not None:\n",
        "    if table[i][coluna].find(str_procura)>=0:\n",
        "      # resultado encontrado, separar os dados de inicio e fim do rodizio\n",
        "      resultado.append([table[i][2],table[i][4]])\n",
        "      local=table[i][5]\n",
        "      #print('inicio=',table[i][2],' fim=', table[i][4])\n",
        "      #print(table[i])\n",
        "#adicionando nomes para as colunas\n",
        "resultado.insert(0,['Início','Fim'])"
      ],
      "execution_count": 45,
      "outputs": []
    },
    {
      "cell_type": "code",
      "metadata": {
        "id": "30aYJD3SVGtf",
        "outputId": "b8bc6e34-7514-4912-f03a-64c72d7a902f",
        "colab": {
          "base_uri": "https://localhost:8080/",
          "height": 35
        }
      },
      "source": [
        "resultado\n",
        "local"
      ],
      "execution_count": 46,
      "outputs": [
        {
          "output_type": "execute_result",
          "data": {
            "application/vnd.google.colaboratory.intrinsic+json": {
              "type": "string"
            },
            "text/plain": [
              "'Curitiba (área da Gravidade do Reservatório Batel): Bigorrilho, Camp.Siqueira, Semináro, \\nBatel, Mercês, Centro.'"
            ]
          },
          "metadata": {
            "tags": []
          },
          "execution_count": 46
        }
      ]
    },
    {
      "cell_type": "markdown",
      "metadata": {
        "id": "YVtdss3HMnkW"
      },
      "source": [
        "Agora que sabemos uma forma de separar os dados, vamos buscar a informação que estamos buscando: Rodízio da minha região.\n",
        "\n",
        "Analisando o output de cima, conseguimos identificar as datas pelo grupo\n",
        "\n",
        "Aqui, vamos fazer o split, como havíamos feito anteriormente, mas somente na linha [6].\n",
        "Tarefa 1 : Encontrar o grupo\n",
        "A informação de grupo esta na último caracter de uma linha que tenha data no começo. \n",
        "\n",
        "   \n",
        "\n"
      ]
    },
    {
      "cell_type": "markdown",
      "metadata": {
        "id": "VGeRS5QSO91s"
      },
      "source": [
        ""
      ]
    },
    {
      "cell_type": "code",
      "metadata": {
        "id": "IucB09PHPhbM",
        "outputId": "204fbae2-977b-4bcc-cc82-189e9fec9d00",
        "colab": {
          "base_uri": "https://localhost:8080/",
          "height": 119
        }
      },
      "source": [
        "!pip install reportlab"
      ],
      "execution_count": 17,
      "outputs": [
        {
          "output_type": "stream",
          "text": [
            "Collecting reportlab\n",
            "\u001b[?25l  Downloading https://files.pythonhosted.org/packages/7a/f8/c207f6017e8a841e1d229fd6b88b5de72884fe043bdb7e1c271b7a32d76b/reportlab-3.5.53-cp36-cp36m-manylinux2010_x86_64.whl (2.6MB)\n",
            "\u001b[K     |████████████████████████████████| 2.6MB 2.7MB/s \n",
            "\u001b[?25hRequirement already satisfied: pillow>=4.0.0 in /usr/local/lib/python3.6/dist-packages (from reportlab) (7.0.0)\n",
            "Installing collected packages: reportlab\n",
            "Successfully installed reportlab-3.5.53\n"
          ],
          "name": "stdout"
        }
      ]
    },
    {
      "cell_type": "code",
      "metadata": {
        "id": "I05iMG_RckXd"
      },
      "source": [
        "#colando imagem no relatório\n",
        "\n",
        "response = requests.get(\"https://github.com/cesarofuchi/python_projects/blob/main/sanepar/img/banner_20porcento.jpg?raw=true\")\n",
        "#myfile = open(\"out.pdf\", \"w\")\n",
        "\n",
        "with open('image.jpg', 'wb') as fw:  \n",
        "    fw.write(response.content)"
      ],
      "execution_count": 47,
      "outputs": []
    },
    {
      "cell_type": "code",
      "metadata": {
        "id": "2-QFnlBKQMKM",
        "outputId": "46c7fedb-2492-4fd2-e76b-be42a4593ea2",
        "colab": {
          "base_uri": "https://localhost:8080/",
          "height": 34
        }
      },
      "source": [
        "from reportlab.pdfgen import canvas\n",
        "from reportlab.platypus import Frame, Image\n",
        "from reportlab.lib.units import cm\n",
        "from reportlab.lib import colors\n",
        "from reportlab.platypus import Paragraph, Frame, Table, Spacer, TableStyle\n",
        "from reportlab.lib.styles import getSampleStyleSheet\n",
        "\n",
        "\n",
        "\n",
        "#def GeneratePDF(lista):\n",
        "\n",
        "\n",
        "lista = resultado\n",
        "\n",
        "#GeneratePDF(lista)\n",
        "\n",
        "#    try:\n",
        "nome_pdf = \"rodizio_sanepar\" #input('Informe o nome do PDF: ')\n",
        "c = canvas.Canvas('{}.pdf'.format(nome_pdf))\n",
        "# padrão é formato A4 (21 cm)\n",
        "# posição em CM, posição (0,0) canto inferior esquerdo\n",
        "c.setTitle(nome_pdf)\n",
        "c.setFont(\"Helvetica-Bold\", 15)\n",
        "\n",
        "# colocar tabela\n",
        "rtable=Table(resultado)\n",
        "# propriedades da tabela\n",
        "table_size=16\n",
        "table_leading=table_size+2\n",
        "rtable.setStyle(TableStyle([\n",
        "  ('LEADING', (0, 0), (-1, -1), table_leading),\n",
        "  ('SIZE', (0, 0), (-1, -1), table_size),\n",
        "  ('INNERGRID', (0, 0), (-1, -1), 0.25, colors.black),\n",
        "  ('BOX', (0, 0), (-1, -1), 0.25, colors.black)\n",
        "]))\n",
        "\n",
        "story = [Paragraph(\"RODÍZIO DE ABASTECIMENTO\", getSampleStyleSheet()['Heading1']),\n",
        "         Spacer(1, 5),\n",
        "         Paragraph(local, getSampleStyleSheet()['Heading2']),\n",
        "         Spacer(1, 5),\n",
        "         rtable]\n",
        "\n",
        "f = Frame(3*cm, 17*cm, 15 * cm, 9 * cm)\n",
        "f.addFromList(story,c)\n",
        "c.drawImage(\"/content/image.jpg\", 6*cm, 7*cm, width=12*cm, preserveAspectRatio=True)\n",
        "\n",
        "c.save()\n",
        "print('{}.pdf criado com sucesso!'.format(nome_pdf))\n"
      ],
      "execution_count": 48,
      "outputs": [
        {
          "output_type": "stream",
          "text": [
            "rodizio_sanepar.pdf criado com sucesso!\n"
          ],
          "name": "stdout"
        }
      ]
    },
    {
      "cell_type": "code",
      "metadata": {
        "id": "GRhFa6BA3w-j"
      },
      "source": [
        ""
      ],
      "execution_count": null,
      "outputs": []
    }
  ]
}