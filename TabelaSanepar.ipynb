{
  "nbformat": 4,
  "nbformat_minor": 0,
  "metadata": {
    "colab": {
      "name": "TabelaSanepar.ipynb",
      "provenance": [],
      "collapsed_sections": [],
      "toc_visible": true,
      "include_colab_link": true
    },
    "kernelspec": {
      "name": "python3",
      "display_name": "Python 3"
    }
  },
  "cells": [
    {
      "cell_type": "markdown",
      "metadata": {
        "id": "view-in-github",
        "colab_type": "text"
      },
      "source": [
        "<a href=\"https://colab.research.google.com/github/cesarofuchi/Projects/blob/main/TabelaSanepar.ipynb\" target=\"_parent\"><img src=\"https://colab.research.google.com/assets/colab-badge.svg\" alt=\"Open In Colab\"/></a>"
      ]
    },
    {
      "cell_type": "markdown",
      "metadata": {
        "id": "j69yxmKl_kkn"
      },
      "source": [
        "<h1> Relatório com previsão de rodizio de água para sua região em Curitiba</h1>\n",
        "\n",
        "A seca pelo qual Curitiba e região metropolitana esta passando pode estar longe de acabar. A Sanepar tem feito um esforço para divulgar o META 20 para economizarmos 20% de água e assim diminuirmos o tempo de rodízio. Os rodízios de água mudam de acordo com os níveis de água dos reservatórios. No meu condomínio o rodízio é avisado no dia por whatsapp, e se você for como eu, que não se informa como deveria, tem que ficar revisando as mensagens para ter certeza de quando começa e quando termina. \n",
        "\n",
        "Pelo site da [Sanepar](http://site.sanepar.com.br/mapa-rodizio-abastecimento-curitiba-rmc) é possível verificar pelo endereço como está a previsão do abastecimento em sua região. Porém ele só informa quando será o próximo rodízio.\n",
        " \n",
        "![picture](https://github.com/cesarofuchi/Projects/blob/main/sanepar/img/banner_20porcento.jpg?raw=true)\n",
        "\n",
        "## Obtendo os dados\n",
        "Acontece que na [agência estadual de notícias](http://www.aen.pr.gov.br/)  existe uma [tabela](http://www.aen.pr.gov.br/arquivos/0910rodizioatualizada.pdf) mais detalhada, com uma previsão maior das datas de rodízio. \n",
        "\n",
        "\n",
        "![picture](https://github.com/cesarofuchi/Projects/blob/main/sanepar/img/Tabela.JPG?raw=true)\n",
        "\n",
        "A tabela possui as datas de início e término do rodízio, quais os bairros afetados e o Grupo do rodízio. Em Curitiba, atualmente temos 3 grupos, mas isso já mudou antes também. \n",
        "\n",
        "Um mesmo bairro pode ter dias diferentes de rodízio, então é preciso se informar qual o seu reservatório de abastecimento, fazendo uma procura pelo bairro e pelas datas de início e término do rodízio (pode conferir pelo site da sanepar isso). \n",
        "\n",
        "Feito isso podemos usar o identificador da primeira coluna ou o nome da sua área (na penúltima coluna) para saber qual a sua micro-região. \n",
        "\n",
        "Exemplo: RISO - (Área do Recalque do Reservatório Iguaçu)\n",
        "\n",
        "# Atualização 12/11\n",
        "\n",
        "[tabela 12/11](http://www.aen.pr.gov.br/arquivos/1211rodizio.pdf)\n",
        "\n",
        "- Nessa atualização foram retirados os códigos de cada região. Portanto devemos procurar apenas pela string da região.\n",
        "- Tabelas separadas em uma mesma página: O código foi atualizado para que funcione com mais de  uma tabela por página\n",
        "\n",
        "\n",
        "#Continuando ...\n",
        "Munidos dessa informação vamos extrair as datas da sua região e gerar um relatório em PDF para você imprimir, deixar no elevador, na geladeira, ou simplemente deixar no celular para avaliar as datas em que faltará água na sua casa.\n",
        "\n",
        "Primeiramente devemos fazer o download da tabela para deixar aqui na maquina virtual. Esse link irá mudar de tempos em tempo, então procure a mais atualizada.\n",
        "\n",
        "Vou usar a biblioteca requests para salvar o arquivo na maquina local."
      ]
    },
    {
      "cell_type": "markdown",
      "metadata": {
        "id": "T2ZKYiaSduZa"
      },
      "source": [
        ""
      ]
    },
    {
      "cell_type": "code",
      "metadata": {
        "id": "31D-iKgR8oCr"
      },
      "source": [
        "import requests\n",
        "#import textract\n",
        "response = requests.get(\"http://www.aen.pr.gov.br/arquivos/1211rodizio.pdf\")\n",
        "#myfile = open(\"out.pdf\", \"w\")\n",
        "\n",
        "with open('document.pdf', 'wb') as fw:\n",
        "    fw.write(response.content)\n"
      ],
      "execution_count": 1,
      "outputs": []
    },
    {
      "cell_type": "markdown",
      "metadata": {
        "id": "y8xA3KMT_T3M"
      },
      "source": [
        "A tabela está salva como \"document.pdf\"\n",
        "\n",
        "## Extração dos dados da tabela em PDF\n",
        "\n",
        "\n",
        "Para extrar e manipular os dados da tabela será utilizada a biblioteca de Python [PDF Plumber](https://github.com/jsvine/pdfplumber). Ela possui uma grande gama de funções e argumentos, e aqui nós vamos começar a nos aventurar com essas funções.\n",
        "\n",
        "Lembrando: Nativamente, o Google Colab não possui essa biblioteca instalada, então nós precisamos instalar a mesma no nosso ambiente.\n",
        "\n",
        "Para isso, vamos utilizar o gerenciador de pacotes pip, e com o comando install vamos instalar a biblioteca."
      ]
    },
    {
      "cell_type": "code",
      "metadata": {
        "id": "3ilgWH859w8a",
        "outputId": "df405cd3-1b1e-4814-c4db-4f0981f1a308",
        "colab": {
          "base_uri": "https://localhost:8080/"
        }
      },
      "source": [
        "!pip install pdfplumber"
      ],
      "execution_count": 2,
      "outputs": [
        {
          "output_type": "stream",
          "text": [
            "Collecting pdfplumber\n",
            "\u001b[?25l  Downloading https://files.pythonhosted.org/packages/36/90/0e3da2c9a963af03e1cd66d568eacb599c50b9da7b87f7ddeff9f5e73312/pdfplumber-0.5.24.tar.gz (42kB)\n",
            "\u001b[K     |████████████████████████████████| 51kB 5.1MB/s \n",
            "\u001b[?25hCollecting pdfminer.six==20200517\n",
            "\u001b[?25l  Downloading https://files.pythonhosted.org/packages/b0/c0/ef1c8758bbd86edb10b5443700aac97d0ba27a9ca2e7696db8cd1fdbd5a8/pdfminer.six-20200517-py3-none-any.whl (5.6MB)\n",
            "\u001b[K     |████████████████████████████████| 5.6MB 7.0MB/s \n",
            "\u001b[?25hRequirement already satisfied: Pillow>=7.0.0 in /usr/local/lib/python3.6/dist-packages (from pdfplumber) (7.0.0)\n",
            "Collecting Wand\n",
            "\u001b[?25l  Downloading https://files.pythonhosted.org/packages/21/4d/0c33672e992ed80983895b36d3fbc3203f8e4a0fd36eb74ea07a563ae3ad/Wand-0.6.3-py2.py3-none-any.whl (133kB)\n",
            "\u001b[K     |████████████████████████████████| 143kB 40.5MB/s \n",
            "\u001b[?25hCollecting pycryptodome\n",
            "\u001b[?25l  Downloading https://files.pythonhosted.org/packages/2b/6f/7e38d7c97fbbc3987539c804282c33f56b6b07381bf2390deead696440c5/pycryptodome-3.9.9-cp36-cp36m-manylinux1_x86_64.whl (13.7MB)\n",
            "\u001b[K     |████████████████████████████████| 13.7MB 294kB/s \n",
            "\u001b[?25hRequirement already satisfied: sortedcontainers in /usr/local/lib/python3.6/dist-packages (from pdfminer.six==20200517->pdfplumber) (2.2.2)\n",
            "Requirement already satisfied: chardet; python_version > \"3.0\" in /usr/local/lib/python3.6/dist-packages (from pdfminer.six==20200517->pdfplumber) (3.0.4)\n",
            "Building wheels for collected packages: pdfplumber\n",
            "  Building wheel for pdfplumber (setup.py) ... \u001b[?25l\u001b[?25hdone\n",
            "  Created wheel for pdfplumber: filename=pdfplumber-0.5.24-cp36-none-any.whl size=31125 sha256=c6d56fe7eb17c5252d226be7d9edb40d46ea1dec7f67f28885131eb4320b1e9a\n",
            "  Stored in directory: /root/.cache/pip/wheels/42/e7/9d/783e40e447a240ace74b520158a133175853f3c3b2999f4520\n",
            "Successfully built pdfplumber\n",
            "Installing collected packages: pycryptodome, pdfminer.six, Wand, pdfplumber\n",
            "Successfully installed Wand-0.6.3 pdfminer.six-20200517 pdfplumber-0.5.24 pycryptodome-3.9.9\n"
          ],
          "name": "stdout"
        }
      ]
    },
    {
      "cell_type": "markdown",
      "metadata": {
        "id": "syIqqYvOUI8H"
      },
      "source": [
        "### pdfplumber.open()\n",
        "\n",
        "Para abrir um arquivo, vamos associá-lo a uma variável, para que ele possa ser facilmente acessado depois.\n",
        "\n",
        "Utilizamos o comando `pdfplumber.open('caminho/do/meu/arquivo')` com o caminho do arquivo dentro dos parênteses, dentro de aspas, simples ou duplas."
      ]
    },
    {
      "cell_type": "code",
      "metadata": {
        "id": "RLMvsb0CDpJu"
      },
      "source": [
        "#biblioteca para manipular arquivos\n",
        "import pdfplumber"
      ],
      "execution_count": 3,
      "outputs": []
    },
    {
      "cell_type": "code",
      "metadata": {
        "id": "79HPMu-bK1ik"
      },
      "source": [
        "#carregar a tabela em pdf\n",
        "pdf = pdfplumber.open(\"document.pdf\")"
      ],
      "execution_count": 4,
      "outputs": []
    },
    {
      "cell_type": "markdown",
      "metadata": {
        "id": "f6haIldHUf2a"
      },
      "source": [
        "### pages\n",
        "Para acessar as páginas existentes no arquivo, utilizamos a função `pages`.\n",
        "\n",
        "Ela retorna uma lista com as páginas do arquivo.\n",
        "\n",
        "Perceba que a tabela de rodízio possui muitas páginas"
      ]
    },
    {
      "cell_type": "code",
      "metadata": {
        "id": "NCNtk4tuUnEY",
        "outputId": "c510638a-aeb1-41d4-e716-8bbefc22c395",
        "colab": {
          "base_uri": "https://localhost:8080/"
        }
      },
      "source": [
        "pdf.pages"
      ],
      "execution_count": 5,
      "outputs": [
        {
          "output_type": "execute_result",
          "data": {
            "text/plain": [
              "[<Page:1>,\n",
              " <Page:2>,\n",
              " <Page:3>,\n",
              " <Page:4>,\n",
              " <Page:5>,\n",
              " <Page:6>,\n",
              " <Page:7>,\n",
              " <Page:8>,\n",
              " <Page:9>,\n",
              " <Page:10>,\n",
              " <Page:11>,\n",
              " <Page:12>,\n",
              " <Page:13>,\n",
              " <Page:14>]"
            ]
          },
          "metadata": {
            "tags": []
          },
          "execution_count": 5
        }
      ]
    },
    {
      "cell_type": "code",
      "metadata": {
        "id": "xJL-L3b4U6Nr",
        "outputId": "2204778b-a133-4aab-8dd4-490858b05e7f",
        "colab": {
          "base_uri": "https://localhost:8080/"
        }
      },
      "source": [
        "pdf.metadata"
      ],
      "execution_count": 6,
      "outputs": [
        {
          "output_type": "execute_result",
          "data": {
            "text/plain": [
              "{'Author': 'Edymilson Luiz Dos Santos',\n",
              " 'CreationDate': \"D:20201109091508-03'00'\",\n",
              " 'Creator': 'Microsoft® Excel® 2013',\n",
              " 'ModDate': \"D:20201109091508-03'00'\",\n",
              " 'Producer': 'Microsoft® Excel® 2013'}"
            ]
          },
          "metadata": {
            "tags": []
          },
          "execution_count": 6
        }
      ]
    },
    {
      "cell_type": "markdown",
      "metadata": {
        "id": "P2HdKoJDYUDP"
      },
      "source": [
        "### extract_text()\n",
        "Para extrair um texto de um pdf utilizamos a função `extract_text`\n",
        "\n",
        "Ela retorna o texto em formato string para buscar a informação. Em geral esse processa implica em separar as linhas, procurar por expressões regulares 'regex', etc."
      ]
    },
    {
      "cell_type": "code",
      "metadata": {
        "id": "U3rFJL40LCOX",
        "outputId": "ff521067-c856-407c-a215-a37d097126a9",
        "colab": {
          "base_uri": "https://localhost:8080/",
          "height": 120
        }
      },
      "source": [
        "# abrir a primeira pagina do documento\n",
        "pagina = pdf.pages[0]\n",
        "texto = pagina.extract_text()\n",
        "texto"
      ],
      "execution_count": 7,
      "outputs": [
        {
          "output_type": "execute_result",
          "data": {
            "application/vnd.google.colaboratory.intrinsic+json": {
              "type": "string"
            },
            "text/plain": [
              "'10 de Novembro de 2020\\nInício Normalização Bairros afetados Grupo\\nCuritiba (área do Recalque Baixo do Reservatório Cajuru): Cabral, Juvevê, Hugo Lange, Alto da Glória, Centro, \\n10/11/2020 16:00 12/11/2020 04:00 Jardim Social, Bacacheri, Alto da XV, Cristo Rei, Prado Velho, Jardim Botânico. 2\\nCuritiba (área do Recalque Alto do Reservatório Cajuru): Agua Verde, Batel, Centro, Rebouças.\\n10/11/2020 16:00 12/11/2020 04:00 2\\nSão José dos Pinhais (área do Recalque do Reservatório São José Centro): São Domingos, Aristocrata, Aeroporto, \\n10/11/2020 16:00 12/11/2020 04:00 Águas Belas, Centro. 2\\nSão José dos Pinhais (Área do Reservatório São Marcos): São Marcos, Campina do Taquaral, Parque da Fonte.\\n10/11/2020 16:00 12/11/2020 04:00 2\\nPinhais (área do Recalque do Reservatório Jacob Macanhan): Alto Atuba 1 e 2, Emiliano Perneta 2, Centro 1 e 2, \\nPalmital 1 e 2, Sete Vilas, Estância Pinhais 2.\\n10/11/2020 16:00 12/11/2020 04:00 2\\nPinhais (Área da Gravidade do Reservatório Apoiado Alphaville): Alphaville Graciosa\\n10/11/2020 16:00 12/11/2020 04:00 2\\nPinhais (Área da Gravidade do Reservatório Elevado Alphaville): Alphaville Graciosa\\n10/11/2020 16:00 12/11/2020 04:00 2\\nPiraquara (área da Gravidade do Reservatório Piraquara): Vila Santa Helena, Jardim Àguas Claras, Jardim Dos \\nEstados, Jardim Veneza, Vila Osternak, Jardim Mirte, Jardim das Laranjeiras, Vila Remo, Jardim Olinda, Jardim \\nSanta Maria, Planta Rita de Cássia e Jardim Dos Estados, Vila Izabel, São Cristóvão, Vila Marumby, Vila Juliana, \\n10/11/2020 16:00 12/11/2020 04:00 Jardim Bom Jesus, Jardim Sta.Mônica, Vila Dalila, Jardim Esmeralda, Jardim Primavera, Ipanema. 2\\nPiraquara (área do Recalque do Reservatório Piraquara): Capoeira dos Dinos, Vila Fuck, Vila Militar, Vila Macedo, \\nVila Suzi, Planta Simone, Planta Cruzeiro, Vila Franca, São Cristóvão, Vila Juliana, Jardim Santa Clara, Jardim Santa \\n10/11/2020 16:00 12/11/2020 04:00 2\\nMaria, Planta São Tiago, Vila Santa Helena e Planta Deodoro.\\nSão José dos Pinhais (Área do Recalque do Reservatório Arujá): Barro Preto, Arujá, Del Rey, Bairro Preto, Campo \\n10/11/2020 16:00 12/11/2020 04:00 Largo da Roseira. 2\\nCuritiba (área da Gravidade do Reservatório São Francisco): Ahú, Alto da Glória, Batel, Bigorrilho, Bom Retiro, \\n10/11/2020 16:00 12/11/2020 04:00 Centro, Centro Cívico, Juvevê, Mercês, São Francisco, São Lourenço. 2\\nCuritiba (Área do Recalque do Reservatório São Francisco): Centro, Mercês, São Francisco.\\n10/11/2020 16:00 12/11/2020 04:00 2\\nCuritiba (área do Recalque do Reservatório Batel): Batel, Bigorrilho, Camp.Siqueira, Água Verde, Seminário, Vila \\n10/11/2020 16:00 12/11/2020 04:00 Izabel. 2\\nCuritiba (Área do Recalque Baixo do Reservatório Santa Felicidade): Cascatinha, Sta.Felicidade, São João.\\n10/11/2020 16:00 12/11/2020 04:00 Almirante Tamandaré (Área do Recalque Baixo do Reservatório Santa Felicidade): Tanguá. 2\\nCuritiba (Área da Gravidade do Reservatório Campo Comprido): Campo Comprido, Cidade Industrial, \\n10/11/2020 16:00 12/11/2020 04:00 Mossunguê. 2\\nCuritiba (área do Recalque do Reservatório Campo Comprido):  Augusta, Bigorrilho, Campina do Siqueira, Campo \\n10/11/2020 16:00 12/11/2020 04:00 Comprido, Santo Inácio, Cidade Industrial, Mossungue, Riviera, São Braz, Orleans. 2\\nCampo Largo (área da Válvula Ferraria): Jardim Keli Cristina, Vila Torres 1, Vila Rebouças, Vila Gilcy\\n10/11/2020 16:00 12/11/2020 04:00 2\\nColombo (área do Recalque Guarani Sta Cândida): Osasco, Campo Pequeno.\\nCuritiba: Atuba, Sta.Candida.\\n10/11/2020 16:00 12/11/2020 04:00 2\\nColombo (área da Válvula Colombo Sede II): Campo Pequeno, Osasco, Roça Grande, Curitibano.\\n10/11/2020 16:00 12/11/2020 04:00 2\\nColombo (área da Válvula Colombo Sede III): São Gabriel, Monza, Curitibano, Campo Pequeno.\\n10/11/2020 16:00 12/11/2020 04:00 2\\nCuritiba (área do Recalque Alto do Reservatório Portão): Santa Quitéria, Seminário, Portão, Vila Izabel, Água \\n10/11/2020 16:00 12/11/2020 04:00 Verde, Novo Mundo, Capão Raso. 2\\nCuritiba (área do Reservatório Pinheirinho): Capão Raso, CIC, Pinheirinho, Sítio Cercado, Tatuquara.\\n10/11/2020 16:00 12/11/2020 04:00 2\\nCuritiba (Área do Recalque do Reservatório Tatuquara): Campo de Santana, CIC, Ganchinho, Pinheirinho, Sítio \\n10/11/2020 16:00 12/11/2020 04:00 Cercado, Tatuquara, Umbará. 2\\nCuritiba (Área da Gravidade do Reservatório Parolin): Água Verde, Fanny, Guaira, Parolin, Prado Velho.\\n10/11/2020 16:00 12/11/2020 04:00 2\\nCuritiba (área do Recalque do Reservatório Parolin): Água Verde, Guaíra, Parolin, Prado Velho, Rebouças.\\n10/11/2020 16:00 12/11/2020 04:00 2\\nCuritiba (área do Recalque do Reservatório Campo do Santana): Campo de Santana, Caximba, Tatuquara\\n10/11/2020 16:00 12/11/2020 04:00 2\\nAraucária (área da Gravidade do Reservatório Costeira): Campina da Barra, Costeira, Iguaçu, Tindiquera.\\n10/11/2020 16:00 12/11/2020 04:00 2\\nAraucária (área do Recalque do Reservatório Costeira): Cachoeira, Campina da Barra, Costeira, Iguaçu, \\n10/11/2020 16:00 12/11/2020 04:00 Tindiquera. 2\\nSão José dos Pinhais: Parte do Roseira de S. Sebastião, Jurema, Borda do Campo (GRUPO-02)\\n10/11/2020 16:00 12/11/2020 04:00 2RPQ'"
            ]
          },
          "metadata": {
            "tags": []
          },
          "execution_count": 7
        }
      ]
    },
    {
      "cell_type": "markdown",
      "metadata": {
        "id": "WWYz8BHMTjVj"
      },
      "source": [
        "###extract_table()\n",
        "Para o caso de planilhas em pdf (como é o caso da [tabela](http://www.aen.pr.gov.br/arquivos/0910rodizioatualizada.pdf) de rodízio) existe uma função mais apropriada chamada `extract_table`, que retorna os dados em formato de lista"
      ]
    },
    {
      "cell_type": "code",
      "metadata": {
        "id": "oo3yE1kmpKII",
        "outputId": "10724f62-0cf1-4647-e0dd-33735a6cdc53",
        "colab": {
          "base_uri": "https://localhost:8080/"
        }
      },
      "source": [
        "pdf.pages[0].extract_table()"
      ],
      "execution_count": 8,
      "outputs": [
        {
          "output_type": "execute_result",
          "data": {
            "text/plain": [
              "[['10 de Novembro de 2020', None, None, ''],\n",
              " ['Início', 'Normalização', 'Bairros afetados', 'Grupo'],\n",
              " ['10/11/2020 16:00',\n",
              "  '12/11/2020 04:00',\n",
              "  'Curitiba (área do Recalque Baixo do Reservatório Cajuru): Cabral, Juvevê, Hugo Lange, Alto da Glória, Centro, \\nJardim Social, Bacacheri, Alto da XV, Cristo Rei, Prado Velho, Jardim Botânico.',\n",
              "  '2'],\n",
              " ['10/11/2020 16:00',\n",
              "  '12/11/2020 04:00',\n",
              "  'Curitiba (área do Recalque Alto do Reservatório Cajuru): Agua Verde, Batel, Centro, Rebouças.',\n",
              "  '2'],\n",
              " ['10/11/2020 16:00',\n",
              "  '12/11/2020 04:00',\n",
              "  'São José dos Pinhais (área do Recalque do Reservatório São José Centro): São Domingos, Aristocrata, Aeroporto, \\nÁguas Belas, Centro.',\n",
              "  '2'],\n",
              " ['10/11/2020 16:00',\n",
              "  '12/11/2020 04:00',\n",
              "  'São José dos Pinhais (Área do Reservatório São Marcos): São Marcos, Campina do Taquaral, Parque da Fonte.',\n",
              "  '2'],\n",
              " ['10/11/2020 16:00',\n",
              "  '12/11/2020 04:00',\n",
              "  'Pinhais (área do Recalque do Reservatório Jacob Macanhan): Alto Atuba 1 e 2, Emiliano Perneta 2, Centro 1 e 2, \\nPalmital 1 e 2, Sete Vilas, Estância Pinhais 2.',\n",
              "  '2'],\n",
              " ['10/11/2020 16:00',\n",
              "  '12/11/2020 04:00',\n",
              "  'Pinhais (Área da Gravidade do Reservatório Apoiado Alphaville): Alphaville Graciosa',\n",
              "  '2'],\n",
              " ['10/11/2020 16:00',\n",
              "  '12/11/2020 04:00',\n",
              "  'Pinhais (Área da Gravidade do Reservatório Elevado Alphaville): Alphaville Graciosa',\n",
              "  '2'],\n",
              " ['10/11/2020 16:00',\n",
              "  '12/11/2020 04:00',\n",
              "  'Piraquara (área da Gravidade do Reservatório Piraquara): Vila Santa Helena, Jardim Àguas Claras, Jardim Dos \\nEstados, Jardim Veneza, Vila Osternak, Jardim Mirte, Jardim das Laranjeiras, Vila Remo, Jardim Olinda, Jardim \\nSanta Maria, Planta Rita de Cássia e Jardim Dos Estados, Vila Izabel, São Cristóvão, Vila Marumby, Vila Juliana, \\nJardim Bom Jesus, Jardim Sta.Mônica, Vila Dalila, Jardim Esmeralda, Jardim Primavera, Ipanema.',\n",
              "  '2'],\n",
              " ['10/11/2020 16:00',\n",
              "  '12/11/2020 04:00',\n",
              "  'Piraquara (área do Recalque do Reservatório Piraquara): Capoeira dos Dinos, Vila Fuck, Vila Militar, Vila Macedo, \\nVila Suzi, Planta Simone, Planta Cruzeiro, Vila Franca, São Cristóvão, Vila Juliana, Jardim Santa Clara, Jardim Santa \\nMaria, Planta São Tiago, Vila Santa Helena e Planta Deodoro.',\n",
              "  '2'],\n",
              " ['10/11/2020 16:00',\n",
              "  '12/11/2020 04:00',\n",
              "  'São José dos Pinhais (Área do Recalque do Reservatório Arujá): Barro Preto, Arujá, Del Rey, Bairro Preto, Campo \\nLargo da Roseira.',\n",
              "  '2'],\n",
              " ['10/11/2020 16:00',\n",
              "  '12/11/2020 04:00',\n",
              "  'Curitiba (área da Gravidade do Reservatório São Francisco): Ahú, Alto da Glória, Batel, Bigorrilho, Bom Retiro, \\nCentro, Centro Cívico, Juvevê, Mercês, São Francisco, São Lourenço.',\n",
              "  '2'],\n",
              " ['10/11/2020 16:00',\n",
              "  '12/11/2020 04:00',\n",
              "  'Curitiba (Área do Recalque do Reservatório São Francisco): Centro, Mercês, São Francisco.',\n",
              "  '2'],\n",
              " ['10/11/2020 16:00',\n",
              "  '12/11/2020 04:00',\n",
              "  'Curitiba (área do Recalque do Reservatório Batel): Batel, Bigorrilho, Camp.Siqueira, Água Verde, Seminário, Vila \\nIzabel.',\n",
              "  '2'],\n",
              " ['10/11/2020 16:00',\n",
              "  '12/11/2020 04:00',\n",
              "  'Curitiba (Área do Recalque Baixo do Reservatório Santa Felicidade): Cascatinha, Sta.Felicidade, São João.\\nAlmirante Tamandaré (Área do Recalque Baixo do Reservatório Santa Felicidade): Tanguá.',\n",
              "  '2'],\n",
              " ['10/11/2020 16:00',\n",
              "  '12/11/2020 04:00',\n",
              "  'Curitiba (Área da Gravidade do Reservatório Campo Comprido): Campo Comprido, Cidade Industrial, \\nMossunguê.',\n",
              "  '2'],\n",
              " ['10/11/2020 16:00',\n",
              "  '12/11/2020 04:00',\n",
              "  'Curitiba (área do Recalque do Reservatório Campo Comprido):  Augusta, Bigorrilho, Campina do Siqueira, Campo \\nComprido, Santo Inácio, Cidade Industrial, Mossungue, Riviera, São Braz, Orleans.',\n",
              "  '2'],\n",
              " ['10/11/2020 16:00',\n",
              "  '12/11/2020 04:00',\n",
              "  'Campo Largo (área da Válvula Ferraria): Jardim Keli Cristina, Vila Torres 1, Vila Rebouças, Vila Gilcy',\n",
              "  '2'],\n",
              " ['10/11/2020 16:00',\n",
              "  '12/11/2020 04:00',\n",
              "  'Colombo (área do Recalque Guarani Sta Cândida): Osasco, Campo Pequeno.\\nCuritiba: Atuba, Sta.Candida.',\n",
              "  '2'],\n",
              " ['10/11/2020 16:00',\n",
              "  '12/11/2020 04:00',\n",
              "  'Colombo (área da Válvula Colombo Sede II): Campo Pequeno, Osasco, Roça Grande, Curitibano.',\n",
              "  '2'],\n",
              " ['10/11/2020 16:00',\n",
              "  '12/11/2020 04:00',\n",
              "  'Colombo (área da Válvula Colombo Sede III): São Gabriel, Monza, Curitibano, Campo Pequeno.',\n",
              "  '2'],\n",
              " ['10/11/2020 16:00',\n",
              "  '12/11/2020 04:00',\n",
              "  'Curitiba (área do Recalque Alto do Reservatório Portão): Santa Quitéria, Seminário, Portão, Vila Izabel, Água \\nVerde, Novo Mundo, Capão Raso.',\n",
              "  '2'],\n",
              " ['10/11/2020 16:00',\n",
              "  '12/11/2020 04:00',\n",
              "  'Curitiba (área do Reservatório Pinheirinho): Capão Raso, CIC, Pinheirinho, Sítio Cercado, Tatuquara.',\n",
              "  '2'],\n",
              " ['10/11/2020 16:00',\n",
              "  '12/11/2020 04:00',\n",
              "  'Curitiba (Área do Recalque do Reservatório Tatuquara): Campo de Santana, CIC, Ganchinho, Pinheirinho, Sítio \\nCercado, Tatuquara, Umbará.',\n",
              "  '2'],\n",
              " ['10/11/2020 16:00',\n",
              "  '12/11/2020 04:00',\n",
              "  'Curitiba (Área da Gravidade do Reservatório Parolin): Água Verde, Fanny, Guaira, Parolin, Prado Velho.',\n",
              "  '2'],\n",
              " ['10/11/2020 16:00',\n",
              "  '12/11/2020 04:00',\n",
              "  'Curitiba (área do Recalque do Reservatório Parolin): Água Verde, Guaíra, Parolin, Prado Velho, Rebouças.',\n",
              "  '2'],\n",
              " ['10/11/2020 16:00',\n",
              "  '12/11/2020 04:00',\n",
              "  'Curitiba (área do Recalque do Reservatório Campo do Santana): Campo de Santana, Caximba, Tatuquara',\n",
              "  '2'],\n",
              " ['10/11/2020 16:00',\n",
              "  '12/11/2020 04:00',\n",
              "  'Araucária (área da Gravidade do Reservatório Costeira): Campina da Barra, Costeira, Iguaçu, Tindiquera.',\n",
              "  '2'],\n",
              " ['10/11/2020 16:00',\n",
              "  '12/11/2020 04:00',\n",
              "  'Araucária (área do Recalque do Reservatório Costeira): Cachoeira, Campina da Barra, Costeira, Iguaçu, \\nTindiquera.',\n",
              "  '2'],\n",
              " ['10/11/2020 16:00',\n",
              "  '12/11/2020 04:00',\n",
              "  'São José dos Pinhais: Parte do Roseira de S. Sebastião, Jurema, Borda do Campo (GRUPO-02)',\n",
              "  '2RPQ']]"
            ]
          },
          "metadata": {
            "tags": []
          },
          "execution_count": 8
        }
      ]
    },
    {
      "cell_type": "markdown",
      "metadata": {
        "id": "1aDwBuXkpUJ1"
      },
      "source": [
        "###find_tables()\n",
        "\n",
        "Existem casos em que existem planilhas separadas na mesma página. A função `extract_table` somente retorna a maior tabela da página. Portanto devemos procurar essas planilhas pela função `find_table` e procurar se existem mais de uma tabela dentro da página na variável `tablesPage`. Dessa forma adicionamos mais um nível de tabelas no loop."
      ]
    },
    {
      "cell_type": "code",
      "metadata": {
        "id": "lIKYl7v-DMhd",
        "outputId": "0b381e14-bc1d-4605-d5b1-ba643478837f",
        "colab": {
          "base_uri": "https://localhost:8080/"
        }
      },
      "source": [
        "tableTest=[] \n",
        "#exemplo em que existe mais de uma tabela \n",
        "tablesPage=pdf.pages[1].find_tables()\n",
        "  #podem existir mais de uma tabela na mesma pagina\n",
        "for j in range(len(tablesPage)):\n",
        "  tableTest=tableTest+tablesPage[j].extract(x_tolerance = 1) \n",
        "tableTest"
      ],
      "execution_count": 9,
      "outputs": [
        {
          "output_type": "execute_result",
          "data": {
            "text/plain": [
              "[['10/11/2020 16:00',\n",
              "  '12/11/2020 04:00',\n",
              "  'Almirante Tamandaré: Vila Sta. Terezinha, Jardim Colonial, Jardim São Domingos, Vila Rachel, Recantos dos \\nPapagaios, Parte Alta Paraiso, Jardim Planalto, Jardim Valença Jardim Central , Mato Dentro, Jardim Dona \\nBelezária, Cinthia Mara, Boixininga, Vila Pacotuba, Jardim Bela Vista, Planta Maria Carla, Planta Mosacal.',\n",
              "  '1ALM'],\n",
              " ['10/11/2020 16:00',\n",
              "  '12/11/2020 04:00',\n",
              "  'Bocaiuva do Sul: Vila Esperança, Vila Palmira e Jardim Lucy',\n",
              "  '1BOS'],\n",
              " ['10/11/2020 16:00',\n",
              "  '12/11/2020 04:00',\n",
              "  'Colombo (área da gravidade colombo sede): Butiatumirim, Fervida, São João, Santa Gema, Cercadinho, Serrinha, \\nItajacuru, Centro (parcial).',\n",
              "  '1CSE'],\n",
              " ['10/11/2020 16:00',\n",
              "  '12/11/2020 04:00',\n",
              "  'Colombo (área da válvula Pau Brasil): Parque Embu',\n",
              "  '1CSE'],\n",
              " ['10/11/2020 09:00',\n",
              "  '11/11/2020 15:00',\n",
              "  'Quatro Barras: Santa Luzia',\n",
              "  '1BOC'],\n",
              " [None, None, None, ''],\n",
              " ['11 de Novembro de 2020', None, None, ''],\n",
              " ['Início', 'Normalização', 'Bairros afetados', 'Grupo'],\n",
              " ['11/11/2020 16:00',\n",
              "  '13/11/2020 04:00',\n",
              "  'Curitiba (área da Gravidade do Reservatório Corte Branco): Guabirotuba, Uberaba, Alto Boqueirão, Boqueirão, \\nHauer.',\n",
              "  '3'],\n",
              " ['11/11/2020 16:00',\n",
              "  '13/11/2020 04:00',\n",
              "  'Curitiba (Área do Recalque do Reservatório Corte Branco): Cajuru, Guabirotuba, Jardim das Américas, Uberaba.',\n",
              "  '3'],\n",
              " ['11/11/2020 16:00',\n",
              "  '13/11/2020 04:00',\n",
              "  'Curitiba (Área da Gravidade do Reservatório Cajuru): Jardim Botânico, Rebouças, Centro, Cristo Rei, Hugo Lange, \\nPrado Velho,  Juvevê, Alto da XV.',\n",
              "  '3'],\n",
              " ['11/11/2020 16:00',\n",
              "  '13/11/2020 04:00',\n",
              "  'Piraquara (área da Gravidade do Reservatório Guarituba Redondo): Planta Pontoni, Planta Ricardo Vagner, \\nJardim Alterosa, Jardim Itiberê, Jardim Dos Eucaliptos, Bosque Centenário, Planta Guarituba, Bosque Tarumã, Vila \\nIzabel, Vila Palmas, Vila Dirce, Vila Pedro Alcântara, Jardim Florença e Planta São Mateus',\n",
              "  '3'],\n",
              " ['11/11/2020 16:00',\n",
              "  '13/11/2020 04:00',\n",
              "  'Pinhais (Área da Gravidade do Reservatório Jacob Macanhan): Alto Atuba 1 e 2, Emiliano Perneta 1, Centro 1 e \\n2, Palmital 1 e 2, Rural, Estância Pinhais 1 e 2, Weissópolis 1, Vila Amélia 2',\n",
              "  '3'],\n",
              " ['11/11/2020 16:00',\n",
              "  '13/11/2020 04:00',\n",
              "  'São José dos Pinhais (Área da Gravidade do Reservatório Arujá): Aristocrata, Centro, Zaniolo, Braga, Cruzeiro, \\nAguas Belas, Ouro fino, Bom Jesus, Itália, Colônia Rio Grande, Pedro Moro, Santo Antônio, Costeira.',\n",
              "  '3'],\n",
              " ['11/11/2020 16:00',\n",
              "  '13/11/2020 04:00',\n",
              "  'Curitiba (Área da Gravidade do Reservatório Bacacheri): Bacacheri, Boa Vista.',\n",
              "  '3'],\n",
              " ['11/11/2020 16:00',\n",
              "  '13/11/2020 04:00',\n",
              "  'Curitiba (Área do Recalque Baixo do Reservatório Bacacheri): Ahú, Atuba, Bacacheri, Barrerinha, Boa Vista, \\nCabral, Centro Civico, Sta.Cândida, São Lourenço, Tingui, Juvevê.',\n",
              "  '3'],\n",
              " ['11/11/2020 16:00',\n",
              "  '13/11/2020 04:00',\n",
              "  'Curitiba (área da Gravidade do Reservatório Santa Cândida): Sta.Cândida, Tingui, Bacacheri, Atuba.',\n",
              "  '3'],\n",
              " ['11/11/2020 16:00',\n",
              "  '13/11/2020 04:00',\n",
              "  'Curitiba (área do Recalque Baixo do Reservatório Santa Cândida): Barrerinha, Boa Vista, Sta.Cândida.',\n",
              "  '3'],\n",
              " ['11/11/2020 16:00',\n",
              "  '13/11/2020 04:00',\n",
              "  'Curitiba (Área do Recalque Médio do Reservatório Santa Felicidade): Sta.Felicidade, Butiatuvinha.\\nCampo Magro (Área do Recalque Médio do Reservatório Santa Felicidade): Boa Vista.',\n",
              "  '3'],\n",
              " ['11/11/2020 16:00',\n",
              "  '13/11/2020 04:00',\n",
              "  'Campo Magro (Área do Booster Boa Vista): Boa Vista.',\n",
              "  '3'],\n",
              " ['11/11/2020 16:00',\n",
              "  '13/11/2020 04:00',\n",
              "  'Campo Magro (Área do Booster Santa Cecília): Boa Vista.',\n",
              "  '3'],\n",
              " ['11/11/2020 16:00',\n",
              "  '13/11/2020 04:00',\n",
              "  'Curitiba (área do Recalque Alto do Reservatório Santa Felicidade): Butiatuvinha, Lamenha Pequena, Santa \\nFelicidade.\\nAlmirante Tamandaré: Solar Tanguá, Nossa Sra. do Pilar, Tanguá.',\n",
              "  '3'],\n",
              " ['11/11/2020 16:00',\n",
              "  '13/11/2020 04:00',\n",
              "  'Curitiba (Área da Gravidade do Reservatório São Braz): Cascatinha, Sta.Felicidade, São Braz',\n",
              "  '3'],\n",
              " ['11/11/2020 16:00',\n",
              "  '13/11/2020 04:00',\n",
              "  'Curitiba (área do Recalque do Reservatório São Braz): Butiatuvinha, Cascatinha, Orleans, Sta.Felicidade, São Braz, \\nSto.Inácio',\n",
              "  '3'],\n",
              " ['11/11/2020 16:00',\n",
              "  '13/11/2020 04:00',\n",
              "  'Curitiba (área da Gravidade do Reservatório Vila Guarani): Santa Candida, Atuba.\\nColombo: Atuba, Guarani, Rio Pequeno, Rio Verde, Campo Pequeno e Alto da Cruz, Mauá, Guaraituba, Palmital, \\nVila Zumbi, Maracanã.',\n",
              "  '3'],\n",
              " ['11/11/2020 16:00',\n",
              "  '13/11/2020 04:00',\n",
              "  'Colombo (área do Recalque do Reservatório Vila Guarani): Guaraituba, Maracanã, Guarani, Monza, Atuba, Rio \\nPequeno, Campo Pequeno, São Gabriel',\n",
              "  '3'],\n",
              " ['11/11/2020 16:00',\n",
              "  '13/11/2020 04:00',\n",
              "  'Curitiba (área do Reservatório Ceasa): Campo de Santana, Caximba, CIC, Ganchinho, Tatuquara, Umbará, Sítio \\nCercado.',\n",
              "  '3'],\n",
              " ['11/11/2020 16:00',\n",
              "  '13/11/2020 04:00',\n",
              "  'Curitiba (Área do Recalque do Reservatório Xaxim): Alto Boqueirão, Boqueirão, Ganchinho, Hauer, Pinheirinho, \\nSítio Cercado, Xaxim.',\n",
              "  '3']]"
            ]
          },
          "metadata": {
            "tags": []
          },
          "execution_count": 9
        }
      ]
    },
    {
      "cell_type": "markdown",
      "metadata": {
        "id": "SpiOfNWvZ9Gw"
      },
      "source": [
        "A próxima etapa será juntar todas as páginas para depois extrairmos todas as datas de rodízio para a nossa região. \n",
        "O código a seguir concatena essas listas na variável table"
      ]
    },
    {
      "cell_type": "code",
      "metadata": {
        "id": "zIMeEBnPEXGj"
      },
      "source": [
        "#iterar por todas as paginas e concatenar as tabelas\n",
        "table=[]\n",
        "tablesPage=[]         \n",
        "for i in range(len(pdf.pages)):  \n",
        "  pagina=pdf.pages[i]  \n",
        "  tablesPage=pdf.pages[i].find_tables()\n",
        "    #podem existir mais de uma tabela na mesma pagina\n",
        "  for j in range(len(tablesPage)):\n",
        "    table=table+tablesPage[j].extract(x_tolerance = 1) \n",
        "  "
      ],
      "execution_count": 10,
      "outputs": []
    },
    {
      "cell_type": "markdown",
      "metadata": {
        "id": "EcNSVSVYewkF"
      },
      "source": [
        "Para extrair somente as datas da região escolhida, podemos usar a primeira coluna que é o código `coluna=0` ou a sexta coluna `coluna=5` se usarmos toda a string da área/reservatório e comparar com a string da nossa região `str_procura`. É preciso descomentar qual o conjunto escolhido.\n",
        "\n",
        "O código separa as datas de início e fim do rodizio da região na variável `resultado`"
      ]
    },
    {
      "cell_type": "code",
      "metadata": {
        "id": "dTOBttI_PuhW",
        "outputId": "6d059a21-f4a1-4154-ad39-5a5348a111e8",
        "colab": {
          "base_uri": "https://localhost:8080/"
        }
      },
      "source": [
        "# escolher método de procura pela sua região\n",
        "\n",
        "#procura por codigo\n",
        "#str_procura='RBBC'\n",
        "#coluna=0\n",
        "\n",
        "#procura por área / reservatório\n",
        "from datetime import datetime\n",
        "\n",
        "\n",
        "\n",
        "weekday_name = [\"SEG\", \"TER\", \"QUA\", \"QUI\", \"SEX\", \"SAB\", \"DOM\"]\n",
        "\n",
        "\n",
        "str_procura=\"área do Recalque Alto do Reservatório Cajuru\"\n",
        "coluna=-2\n",
        "\n",
        "resultado=[]\n",
        "\n",
        "for i in range(len(table)):\n",
        "  if table[i][coluna] is not None:\n",
        "    if table[i][coluna].find(str_procura)>=0:\n",
        "      # resultado encontrado, separar os dados de inicio e fim do rodizio\n",
        "\n",
        "      dt1=datetime.strptime(table[i][0], '%d/%m/%Y %H:%M')      \n",
        "      dt2=datetime.strptime(table[i][1], '%d/%m/%Y %H:%M')      \n",
        "      str1=weekday_name[dt1.weekday()]+' '+table[i][0]\n",
        "      str2=weekday_name[dt2.weekday()]+' '+table[i][1]\n",
        "      resultado.append([str1,str2])\n",
        "      # salvando o local para o relatório\n",
        "      textoLocal=table[i][coluna]\n",
        "\n",
        "      print('inicio=',table[i][0], weekday_name[dt1.weekday()],'fim=', table[i][1], weekday_name[dt1.weekday()], textoLocal)\n",
        "      \n",
        "#adicionando nomes para as colunas\n",
        "resultado.insert(0,['Início','Fim',])\n"
      ],
      "execution_count": 11,
      "outputs": [
        {
          "output_type": "stream",
          "text": [
            "inicio= 10/11/2020 16:00 TER fim= 12/11/2020 04:00 TER Curitiba (área do Recalque Alto do Reservatório Cajuru): Agua Verde, Batel, Centro, Rebouças.\n",
            "inicio= 16/11/2020 16:00 SEG fim= 18/11/2020 04:00 SEG Curitiba (área do Recalque Alto do Reservatório Cajuru): Agua Verde, Batel, Centro, Rebouças.\n",
            "inicio= 19/11/2020 16:00 QUI fim= 21/11/2020 04:00 QUI Curitiba (área do Recalque Alto do Reservatório Cajuru): Agua Verde, Batel, Centro, Rebouças.\n"
          ],
          "name": "stdout"
        }
      ]
    },
    {
      "cell_type": "code",
      "metadata": {
        "id": "851FAy6V-TEI",
        "outputId": "99dbea63-ff60-4f66-c2a9-2b318d860972",
        "colab": {
          "base_uri": "https://localhost:8080/"
        }
      },
      "source": [
        "resultado"
      ],
      "execution_count": 12,
      "outputs": [
        {
          "output_type": "execute_result",
          "data": {
            "text/plain": [
              "[['Início', 'Fim'],\n",
              " ['TER 10/11/2020 16:00', 'QUI 12/11/2020 04:00'],\n",
              " ['SEG 16/11/2020 16:00', 'QUA 18/11/2020 04:00'],\n",
              " ['QUI 19/11/2020 16:00', 'SAB 21/11/2020 04:00']]"
            ]
          },
          "metadata": {
            "tags": []
          },
          "execution_count": 12
        }
      ]
    },
    {
      "cell_type": "code",
      "metadata": {
        "id": "GzZWDoGckq24"
      },
      "source": [
        ""
      ],
      "execution_count": 12,
      "outputs": []
    },
    {
      "cell_type": "markdown",
      "metadata": {
        "id": "YVtdss3HMnkW"
      },
      "source": [
        "## Gerando um relatório em PDF\n",
        "Com os resultados em mãos, vamos gerar um relatório em pdf para divulgar o resultado.\n",
        "\n",
        "Para gerar um relatório em pdf será usada a biblioteca [reportlab](https://www.reportlab.com/). Vamos usar o mínimo de elementos nesse código, um texto, uma tabela e uma imagem. Para mais detalhes da biblioteca vejam o [manual de uso](https://www.reportlab.com/docs/reportlab-userguide.pdf). \n",
        "\n",
        "A biblioteca também não é padrão no Colab, então precisamos adiciona-la ao nosso projeto com `!pip install reportlab`\n",
        "\n",
        "\n",
        "\n",
        "\n"
      ]
    },
    {
      "cell_type": "code",
      "metadata": {
        "id": "IucB09PHPhbM",
        "outputId": "a5104b4b-1334-41f8-a5c8-b5faa495c7a8",
        "colab": {
          "base_uri": "https://localhost:8080/"
        }
      },
      "source": [
        "!pip install reportlab"
      ],
      "execution_count": 13,
      "outputs": [
        {
          "output_type": "stream",
          "text": [
            "Collecting reportlab\n",
            "\u001b[?25l  Downloading https://files.pythonhosted.org/packages/c6/85/c1459fd2092cbcb65df59bc338b5aee9af92cec45d73d107b3016c2773b3/reportlab-3.5.55-cp36-cp36m-manylinux2010_x86_64.whl (2.6MB)\n",
            "\u001b[K     |████████████████████████████████| 2.6MB 13.4MB/s \n",
            "\u001b[?25hRequirement already satisfied: pillow>=4.0.0 in /usr/local/lib/python3.6/dist-packages (from reportlab) (7.0.0)\n",
            "Installing collected packages: reportlab\n",
            "Successfully installed reportlab-3.5.55\n"
          ],
          "name": "stdout"
        }
      ]
    },
    {
      "cell_type": "markdown",
      "metadata": {
        "id": "O_PdXiI-2fLn"
      },
      "source": [
        "Adicionando elementos que vamos utilizar da biblioteca:"
      ]
    },
    {
      "cell_type": "code",
      "metadata": {
        "id": "2-QFnlBKQMKM"
      },
      "source": [
        "from reportlab.pdfgen import canvas\n",
        "from reportlab.platypus import Frame, Image\n",
        "from reportlab.lib.units import cm\n",
        "from reportlab.lib import colors\n",
        "from reportlab.platypus import Paragraph, Frame, Table, Spacer, TableStyle\n",
        "from reportlab.lib.styles import getSampleStyleSheet\n",
        "from reportlab.lib.styles import ParagraphStyle"
      ],
      "execution_count": 14,
      "outputs": []
    },
    {
      "cell_type": "markdown",
      "metadata": {
        "id": "SVentPg_6D2T"
      },
      "source": [
        "### Entendendo a estrutura do reportlab utilizada\n",
        "Para melhor entender a estrutura de código para gerar o relatório veja a figura a seguir.\n",
        "\n",
        "O `Canvas` é uma tela A4 (com uma margem interna)\n",
        "\n",
        "Vamos adicionar um `Frame` que é um container de elementos nesse `Canvas` a 3 cm de distância da margem esquerda e a 12 cm de distância da margem inferior. As distãncias são relativas a posição (0,0) no canto inferior esquedo.\n",
        "\n",
        "\n",
        "Dentro do `Frame` montamos uma `Story`, que é uma sequência de elementos: \n",
        "\n",
        "- Parágrafo 1: texto padrão\n",
        "- Parágrafo 2: criada a partir do texto da região procurada\n",
        "- Tabela: criada a partir da tabela de resultados \n",
        "- Imagem: criada a partir de um link\n",
        "\n",
        "Foram adicionados espaçamentos (`Spacer`) entre os elementos\n",
        "\n",
        "![picture](https://github.com/cesarofuchi/Projects/blob/main/sanepar/img/reportlab.JPG?raw=true)\n",
        "\n",
        "\n",
        "\n",
        "\n",
        "\n"
      ]
    },
    {
      "cell_type": "markdown",
      "metadata": {
        "id": "Qlv3wJQCe5HD"
      },
      "source": [
        "### Código\n",
        "Deixei o código inteiro para que seja mais fácil editar as posições e estilos dos elementos, e gerar um pdf novo. Assim pode-se aprender na prática o que cada mudança nos elementos provoca.\n",
        "\n",
        "Ao final do processo é gerado um pdf com informações sobre a sua região e o horário de início e fim do rodízio."
      ]
    },
    {
      "cell_type": "code",
      "metadata": {
        "id": "kbCLIBbP3Cf9",
        "outputId": "45bff43d-5a2d-4164-a731-7484ab3651f4",
        "colab": {
          "base_uri": "https://localhost:8080/"
        }
      },
      "source": [
        "#criação do Canvas\n",
        "nome_pdf = \"rodizio_sanepar1211.pdf\" \n",
        "c = canvas.Canvas(nome_pdf)\n",
        "c.setTitle(nome_pdf)\n",
        "table_size=len\n",
        "#Criação da tabela a partir do resultado\n",
        "rtable=Table(resultado)\n",
        " # propriedades da tabela\n",
        "t_fontsize=16\n",
        "t_leading=t_fontsize+2\n",
        "\n",
        "rtable.setStyle(TableStyle([\n",
        "  ('LEADING', (0, 0), (-1, -1), t_leading),\n",
        "  ('SIZE', (0, 0), (-1, -1), t_fontsize),\n",
        "  ('INNERGRID', (0, 0), (-1, -1), 0.25, colors.black),\n",
        "  ('BOX', (0, 0), (-1, -1), 0.25, colors.black)\n",
        "]))\n",
        "###############################################################\n",
        "# padrão é formato A4 (21 cm)\n",
        "# posição em CM, posição (0,0) canto inferior esquerdo\n",
        "\n",
        "# estilo do paragrafo 1        \n",
        "titleFormat = '<font size=\"18\" name=\"Helvetica\" color=\"rgb(0, 89, 164)\"><b>%s</b></font>'\n",
        "style = getSampleStyleSheet()['Normal']\n",
        "style.leading = 24\n",
        "\n",
        "# paragrafo 1\n",
        "p1 = Paragraph(titleFormat % 'RODÍZIO DE ABASTECIMENTO', style)\n",
        "\n",
        "# estilo do paragrafo 2\n",
        "titleFormat = '<font size=\"16\" name=\"Helvetica\" color=black><i>%s</i></font>'\n",
        "# paragrafo 2 \n",
        "p2 = Paragraph(titleFormat % textoLocal, style)\n",
        "\n",
        "# imagem \n",
        "im=Image(\"https://github.com/cesarofuchi/Projects/blob/main/sanepar/img/banner_20porcento.jpg?raw=true\")\n",
        "# restrição de tamanho para reduzir a imagem de forma proporcional\n",
        "im._restrictSize(10 * cm, 12 * cm)\n",
        "im.hAlign = 'RIGHT'\n",
        "\n",
        "titleFormat = '<font size=\"16\" name=\"Helvetica\" color=black><b>%s</b></font>'\n",
        "p3 = Paragraph(titleFormat % 'LEI Nº 20189/2020:', style)\n",
        "\n",
        "imMask=Image(\"https://github.com/cesarofuchi/Projects/blob/main/sanepar/img/mascara.jpg?raw=true\")\n",
        "imMask._restrictSize(10* cm, 10 * cm)\n",
        "imMask.hAlign = 'CENTER'\n",
        "\n",
        "\n",
        "# story com os elementos espaçados        \n",
        "story = [p1,\n",
        "         Spacer(1, 10),\n",
        "         p2,\n",
        "         Spacer(1, 10),\n",
        "         rtable,\n",
        "         Spacer(1, 30),\n",
        "         p3,\n",
        "         Spacer(1, 5),\n",
        "         imMask,\n",
        "         Spacer(10, 40),\n",
        "         im]\n",
        "\n",
        "# criação do Frame\n",
        "f = Frame(3*cm, 1*cm, 16 * cm, 25 * cm)\n",
        "# adicionando o Frame (com Story) ao Canvas\n",
        "f.addFromList(story,c)\n",
        "\n",
        "# salvando no diretório local\n",
        "c.save()\n",
        "print('{}.pdf criado com sucesso!'.format(nome_pdf))"
      ],
      "execution_count": 16,
      "outputs": [
        {
          "output_type": "stream",
          "text": [
            "rodizio_sanepar1211.pdf.pdf criado com sucesso!\n"
          ],
          "name": "stdout"
        }
      ]
    },
    {
      "cell_type": "code",
      "metadata": {
        "id": "YeIoyPemTeuF"
      },
      "source": [
        ""
      ],
      "execution_count": 15,
      "outputs": []
    }
  ]
}