{
  "nbformat": 4,
  "nbformat_minor": 0,
  "metadata": {
    "colab": {
      "name": "TabelaSanepar.ipynb",
      "provenance": [],
      "collapsed_sections": [],
      "toc_visible": true,
      "include_colab_link": true
    },
    "kernelspec": {
      "name": "python3",
      "display_name": "Python 3"
    }
  },
  "cells": [
    {
      "cell_type": "markdown",
      "metadata": {
        "id": "view-in-github",
        "colab_type": "text"
      },
      "source": [
        "<a href=\"https://colab.research.google.com/github/cesarofuchi/Projects/blob/main/TabelaSanepar.ipynb\" target=\"_parent\"><img src=\"https://colab.research.google.com/assets/colab-badge.svg\" alt=\"Open In Colab\"/></a>"
      ]
    },
    {
      "cell_type": "markdown",
      "metadata": {
        "id": "j69yxmKl_kkn"
      },
      "source": [
        "<h1> Relatório com previsão de rodizio de água para sua região em Curitiba</h1>\n",
        "\n",
        "A seca pelo qual Curitiba e região metropolitana esta passando pode estar longe de acabar. A Sanepar tem feito um esforço para divulgar o META 20 para economizarmos 20% de água e assim diminuirmos o tempo de rodízio. Os rodízios de água mudam de acordo com os níveis de água dos reservatórios. No meu condomínio o rodízio é avisado no dia por whatsapp, e se você for como eu, que não se informa como deveria, tem que ficar revisando as mensagens para ter certeza de quando começa e quando termina. \n",
        "\n",
        "Pelo site da [Sanepar](http://site.sanepar.com.br/mapa-rodizio-abastecimento-curitiba-rmc) é possível verificar pelo endereço como está a previsão do abastecimento em sua região. Porém ele só informa quando será o próximo rodízio.\n",
        " \n",
        "![picture](https://github.com/cesarofuchi/Projects/blob/main/sanepar/img/banner_20porcento.jpg?raw=true)\n",
        "\n",
        "## Obtendo os dados\n",
        "Acontece que na [agência estadual de notícias](http://www.aen.pr.gov.br/)  existe uma [tabela](http://www.aen.pr.gov.br/arquivos/0910rodizioatualizada.pdf) mais detalhada, com uma previsão maior das datas de rodízio. \n",
        "\n",
        "![picture](https://github.com/cesarofuchi/Projects/blob/main/sanepar/img/Tabela.JPG?raw=true)\n",
        "\n",
        "A tabela possui as datas de início e término do rodízio, quais os bairros afetados e o Grupo do rodízio. Em Curitiba, atualmente temos 3 grupos, mas isso já mudou antes também. \n",
        "\n",
        "Um mesmo bairro pode ter dias diferentes de rodízio, então é preciso se informar qual o seu reservatório de abastecimento, fazendo uma procura pelo bairro e pelas datas de início e término do rodízio (pode conferir pelo site da sanepar isso). \n",
        "\n",
        "Feito isso podemos usar o identificador da primeira coluna ou o nome da sua área (na penúltima coluna) para saber qual a sua micro-região. \n",
        "\n",
        "Exemplo: RISO - (Área do Recalque do Reservetório Iguaçu)\n",
        "\n",
        "Munidos dessa informação vamos extrair as datas da sua região e gerar um relatório em PDF para você imprimir, deixar no elevador, na geladeira, ou simplemente deixar no celular para avaliar as datas em que faltará água na sua casa.\n",
        "\n",
        "Primeiramente devemos fazer o download da tabela para deixar aqui na maquina virtual. Esse link irá mudar de tempos em tempo, então procure a mais atualizada.\n",
        "\n",
        "Vou usar a biblioteca requests para salvar o arquivo na maquina local."
      ]
    },
    {
      "cell_type": "markdown",
      "metadata": {
        "id": "T2ZKYiaSduZa"
      },
      "source": [
        ""
      ]
    },
    {
      "cell_type": "code",
      "metadata": {
        "id": "31D-iKgR8oCr"
      },
      "source": [
        "import requests\n",
        "#import textract\n",
        "response = requests.get(\"http://www.aen.pr.gov.br/arquivos/0910rodizioatualizada.pdf\")\n",
        "#myfile = open(\"out.pdf\", \"w\")\n",
        "\n",
        "with open('document.pdf', 'wb') as fw:\n",
        "    fw.write(response.content)\n"
      ],
      "execution_count": 1,
      "outputs": []
    },
    {
      "cell_type": "markdown",
      "metadata": {
        "id": "y8xA3KMT_T3M"
      },
      "source": [
        "A tabela está salva como \"document.pdf\"\n",
        "\n",
        "## Extração dos dados da tabela em PDF\n",
        "\n",
        "\n",
        "Para extrar e manipular os dados da tabela será utilizada a biblioteca de Python [PDF Plumber](https://github.com/jsvine/pdfplumber). Ela possui uma grande gama de funções e argumentos, e aqui nós vamos começar a nos aventurar com essas funções.\n",
        "\n",
        "Lembrando: Nativamente, o Google Colab não possui essa biblioteca instalada, então nós precisamos instalar a mesma no nosso ambiente.\n",
        "\n",
        "Para isso, vamos utilizar o gerenciador de pacotes pip, e com o comando install vamos instalar a biblioteca."
      ]
    },
    {
      "cell_type": "code",
      "metadata": {
        "id": "3ilgWH859w8a",
        "outputId": "c0bd8804-bd06-4dbb-fbe0-ef63ee14e6ba",
        "colab": {
          "base_uri": "https://localhost:8080/",
          "height": 136
        }
      },
      "source": [
        "!pip install pdfplumber"
      ],
      "execution_count": 2,
      "outputs": [
        {
          "output_type": "stream",
          "text": [
            "Requirement already satisfied: pdfplumber in /usr/local/lib/python3.6/dist-packages (0.5.23)\n",
            "Requirement already satisfied: Pillow>=7.0.0 in /usr/local/lib/python3.6/dist-packages (from pdfplumber) (7.0.0)\n",
            "Requirement already satisfied: pdfminer.six==20200517 in /usr/local/lib/python3.6/dist-packages (from pdfplumber) (20200517)\n",
            "Requirement already satisfied: Wand in /usr/local/lib/python3.6/dist-packages (from pdfplumber) (0.6.3)\n",
            "Requirement already satisfied: pycryptodome in /usr/local/lib/python3.6/dist-packages (from pdfminer.six==20200517->pdfplumber) (3.9.8)\n",
            "Requirement already satisfied: chardet; python_version > \"3.0\" in /usr/local/lib/python3.6/dist-packages (from pdfminer.six==20200517->pdfplumber) (3.0.4)\n",
            "Requirement already satisfied: sortedcontainers in /usr/local/lib/python3.6/dist-packages (from pdfminer.six==20200517->pdfplumber) (2.2.2)\n"
          ],
          "name": "stdout"
        }
      ]
    },
    {
      "cell_type": "markdown",
      "metadata": {
        "id": "syIqqYvOUI8H"
      },
      "source": [
        "### pdfplumber.open()\n",
        "\n",
        "Para abrir um arquivo, vamos associá-lo a uma variável, para que ele possa ser facilmente acessado depois.\n",
        "\n",
        "Utilizamos o comando `pdfplumber.open('caminho/do/meu/arquivo')` com o caminho do arquivo dentro dos parênteses, dentro de aspas, simples ou duplas."
      ]
    },
    {
      "cell_type": "code",
      "metadata": {
        "id": "RLMvsb0CDpJu"
      },
      "source": [
        "#biblioteca para manipular arquivos\n",
        "import pdfplumber"
      ],
      "execution_count": 3,
      "outputs": []
    },
    {
      "cell_type": "code",
      "metadata": {
        "id": "79HPMu-bK1ik"
      },
      "source": [
        "#carregar a tabela em pdf\n",
        "pdf = pdfplumber.open(\"document.pdf\")"
      ],
      "execution_count": 4,
      "outputs": []
    },
    {
      "cell_type": "markdown",
      "metadata": {
        "id": "f6haIldHUf2a"
      },
      "source": [
        "### pages\n",
        "Para acessar as páginas existentes no arquivo, utilizamos a função `pages`.\n",
        "\n",
        "Ela retorna uma lista com as páginas do arquivo.\n",
        "\n",
        "Perceba que a tabela de rodízio possui muitas páginas"
      ]
    },
    {
      "cell_type": "code",
      "metadata": {
        "id": "NCNtk4tuUnEY",
        "outputId": "bcd922a7-bde5-4c19-ce7d-e91138c37f77",
        "colab": {
          "base_uri": "https://localhost:8080/",
          "height": 272
        }
      },
      "source": [
        "pdf.pages"
      ],
      "execution_count": 5,
      "outputs": [
        {
          "output_type": "execute_result",
          "data": {
            "text/plain": [
              "[<Page:1>,\n",
              " <Page:2>,\n",
              " <Page:3>,\n",
              " <Page:4>,\n",
              " <Page:5>,\n",
              " <Page:6>,\n",
              " <Page:7>,\n",
              " <Page:8>,\n",
              " <Page:9>,\n",
              " <Page:10>,\n",
              " <Page:11>,\n",
              " <Page:12>,\n",
              " <Page:13>,\n",
              " <Page:14>,\n",
              " <Page:15>]"
            ]
          },
          "metadata": {
            "tags": []
          },
          "execution_count": 5
        }
      ]
    },
    {
      "cell_type": "code",
      "metadata": {
        "id": "xJL-L3b4U6Nr",
        "outputId": "8854229e-d5e9-4270-ed55-05f8ac306cbf",
        "colab": {
          "base_uri": "https://localhost:8080/",
          "height": 102
        }
      },
      "source": [
        "pdf.metadata"
      ],
      "execution_count": 6,
      "outputs": [
        {
          "output_type": "execute_result",
          "data": {
            "text/plain": [
              "{'Author': 'Edymilson Luiz Dos Santos',\n",
              " 'CreationDate': \"D:20201009075221-03'00'\",\n",
              " 'Creator': 'Microsoft® Excel® 2013',\n",
              " 'ModDate': \"D:20201009075221-03'00'\",\n",
              " 'Producer': 'Microsoft® Excel® 2013'}"
            ]
          },
          "metadata": {
            "tags": []
          },
          "execution_count": 6
        }
      ]
    },
    {
      "cell_type": "markdown",
      "metadata": {
        "id": "P2HdKoJDYUDP"
      },
      "source": [
        "### extract_text()\n",
        "Para extrair um texto de um pdf utilizamos a função `extract_text`\n",
        "\n",
        "Ela retorna o texto em formato string para buscar a informação. Em geral esse processa implica em separar as linhas, procurar por expressões regulares 'regex', etc."
      ]
    },
    {
      "cell_type": "code",
      "metadata": {
        "id": "U3rFJL40LCOX",
        "outputId": "38a01c61-e662-413f-881d-5850dc3aff58",
        "colab": {
          "base_uri": "https://localhost:8080/",
          "height": 120
        }
      },
      "source": [
        "# abrir a primeira pagina do documento\n",
        "pagina = pdf.pages[0]\n",
        "texto = pagina.extract_text()\n",
        "texto"
      ],
      "execution_count": 7,
      "outputs": [
        {
          "output_type": "execute_result",
          "data": {
            "application/vnd.google.colaboratory.intrinsic+json": {
              "type": "string"
            },
            "text/plain": [
              "'09 de Outubro de 2020 - Sexta-feira NOVO GRUPO 3\\nCODOPE INICIADO EM Das Término Normalização Bairros afetados Grupo\\nCuritiba (área da Gravidade do Reservatório Corte Branco): Guabirotuba, Uberaba, Alto \\nGCBR 00030... 09/10/2020 16:00 10/10/2020 16:00 11/10/2020 04:00 Boqueirão, Boqueirão, Hauer. 3\\nCuritiba (Área do Recalque do Reservatório Corte Branco): Cajuru, Guabirotuba, Jardim das \\nRCBR 00031 09/10/2020 16:00 10/10/2020 16:00 11/10/2020 04:00 Américas, Uberaba. 3\\nCuritiba (Área da Gravidade do Reservatório Cajuru): Jardim Botânico, Rebouças, Centro, \\nCristo Rei, Hugo Lange, Prado Velho,  Juvevê, Alto da XV.\\nGCAJ 00040 09/10/2020 16:00 10/10/2020 16:00 11/10/2020 04:00 3\\nPiraquara (área da Gravidade do Reservatório Guarituba Redondo): Planta Pontoni, Planta \\nRicardo Vagner, Jardim Alterosa, Jardim Itiberê, Jardim Dos Eucaliptos, Bosque Centenário, \\nPlanta Guarituba, Bosque Tarumã, Vila Izabel, Vila Palmas, Vila Dirce, Vila Pedro Alcântara, \\nGGRE 00560... 09/10/2020 16:00 10/10/2020 16:00 11/10/2020 04:00 3\\nJardim Florença e Planta São Mateus\\nPinhais (Área da Gravidade do Reservatório Jacob Macanhan): Alto Atuba 1 e 2, Emiliano \\nPerneta 1, Centro 1 e 2, Palmital 1 e 2, Rural, Estância Pinhais 1 e 2, Weissópolis 1, Vila \\nGJMA 00930 09/10/2020 16:00 10/10/2020 16:00 11/10/2020 04:00 Amélia 2 3\\nSão José dos Pinhais (Área da Gravidade do Reservatório Arujá): Aristocrata, Centro, \\nZaniolo, Braga, Cruzeiro, Aguas Belas, Ouro fino, Bom Jesus, Itália, Colônia Rio Grande, Pedro \\nGARJ 01040 09/10/2020 16:00 10/10/2020 16:00 11/10/2020 04:00 3\\nMoro, Santo Antônio, Costeira.\\nCuritiba (Área da Gravidade do Reservatório Bacacheri): Bacacheri, Boa Vista.\\nGBAC 00070 09/10/2020 16:00 10/10/2020 16:00 11/10/2020 04:00 3\\nCuritiba (Área do Recalque Baixo do Reservatório Bacacheri): Ahú, Atuba, Bacacheri, \\nBarrerinha, Boa Vista, Cabral, Centro Civico, Sta.Cândida, São Lourenço, Tingui, Juvevê.\\nRBBC 00072 09/10/2020 16:00 10/10/2020 16:00 11/10/2020 04:00 3\\nCuritiba (área da Gravidade do Reservatório Santa Cândida): Sta.Cândida, Tingui, Bacacheri, \\nGRSC 00120... 09/10/2020 16:00 10/10/2020 16:00 11/10/2020 04:00 Atuba. 3\\nCuritiba (área do Recalque Baixo do Reservatório Santa Cândida): Barrerinha, Boa Vista, \\nRBSC 00121... 09/10/2020 16:00 10/10/2020 16:00 11/10/2020 04:00 Sta.Cândida. 3\\nCuritiba (Área do Recalque Médio do Reservatório Santa Felicidade): Sta.Felicidade, \\nButiatuvinha.\\nRMFL 00142 09/10/2020 16:00 10/10/2020 16:00 11/10/2020 04:00 Campo Magro (Área do Recalque Médio do Reservatório Santa Felicidade): Boa Vista. 3\\nCampo Magro (Área do Booster Boa Vista): Boa Vista.\\nBBOV 00142 09/10/2020 16:00 10/10/2020 16:00 11/10/2020 04:00 3\\nCampo Magro (Área do Booster Santa Cecília): Boa Vista.\\nBOSC 00142 09/10/2020 16:00 10/10/2020 16:00 11/10/2020 04:00 3\\nCuritiba (área do Recalque Alto do Reservatório Santa Felicidade): Butiatuvinha, Lamenha \\nPequena, Santa Felicidade.\\nRAFL 00143... 09/10/2020 16:00 10/10/2020 16:00 11/10/2020 04:00 3\\nAlmirante Tamandaré: Solar Tanguá, Nossa Sra. do Pilar, Tanguá.\\nCuritiba (Área da Gravidade do Reservatório São Braz): Cascatinha, Sta.Felicidade, São Braz\\nGSBR 00530 09/10/2020 16:00 10/10/2020 16:00 11/10/2020 04:00 3\\nCuritiba (área do Recalque do Reservatório São Braz): Butiatuvinha, Cascatinha, Orleans, \\nRSBR 00531 09/10/2020 16:00 10/10/2020 16:00 11/10/2020 04:00 Sta.Felicidade, São Braz, Sto.Inácio 3\\nCuritiba (área da Gravidade do Reservatório Vila Guarani): Santa Candida, Atuba.\\nColombo: Atuba, Guarani, Rio Pequeno, Rio Verde, Campo Pequeno e Alto da Cruz, Mauá, \\nGVGR 00670 09/10/2020 16:00 10/10/2020 16:00 11/10/2020 04:00 Guaraituba, Palmital, Vila Zumbi, Maracanã. 3\\nColombo (área do Recalque do Reservatório Vila Guarani): Guaraituba, Maracanã, Guarani, \\nMonza, Atuba, Rio Pequeno, Campo Pequeno, São Gabriel\\nRVGR 00671 09/10/2020 16:00 10/10/2020 16:00 11/10/2020 04:00 3\\nCuritiba (área do Reservatório Ceasa): Campo de Santana, Caximba, CIC, Ganchinho, \\nRCEA 00541... 09/10/2020 16:00 10/10/2020 16:00 11/10/2020 04:00 Tatuquara, Umbará, Sítio Cercado. 3\\nCuritiba (Área do Recalque do Reservatório Xaxim): Alto Boqueirão, Boqueirão, Ganchinho, \\nRXAX 00941 09/10/2020 16:00 10/10/2020 16:00 11/10/2020 04:00 Hauer, Pinheirinho, Sítio Cercado, Xaxim. 3\\nFazenda Rio Grande (Área da Gravidade do Reservatório Centro Faz. Rio Grande): \\nEucaliptos, Hortência, Iguaçu, Nações, Santarém, Santa Terezinha.\\nGCFG 08030 09/10/2020 16:00 10/10/2020 16:00 11/10/2020 04:00 3\\nFazenda Rio Grande (Área do Recalque do Reservatório Centro Faz. Rio Grande): Dos \\nEstados, Iguaçu, Santa Terezinha, Jd. São Lourenço, Jd Brilhante, Jd Kokubo, Ipê, Eucaliptos, \\nRCFG 08031 09/10/2020 16:00 10/10/2020 16:00 11/10/2020 04:00 3\\nNações.\\nSão José dos Pinhais: Parte do Roseira de S. Sebastião, Jurema, Borda do Campo (GRUPO-02)\\nRRPQ ver plan. Rodízio Rio Pequeno 09/10/2020 16:00 10/10/2020 16:00 11/10/2020 04:00 2RPQ\\nAlmirante Tamandaré: Vila Sta. Terezinha, Jardim Colonial, Jardim São Domingos, Vila \\nRec. Centro + Grav  0022020101 a 0022020105    Rachel, Recantos dos Papagaios, Parte Alta Paraiso, Jardim Planalto, Jardim Valença Jardim \\nPapagaio + Mato  0060000101 a 0061000113    Central , Mato Dentro, Jardim Dona Belezária, Cinthia Mara, Boixininga, Vila Pacotuba, \\n09/10/2020 17:00 11/10/2020 04:00 1ALM\\nDentro + Rec. Monte  0023100101 a 0023100117    Jardim Bela Vista, Planta Maria Carla, Planta Mosacal.\\nSanto 0058100101 a 0058100107\\nColombo (área da válvula José Beira Silva): Arruda, Santa Tereza\\nVJBS 00180102 09/10/2020 16:00 10/10/2020 16:00 11/10/2020 04:00 2CSE\\nColombo (área da válvula José Leal Fontoura): Centro, Jardim Florença, Gabirobal\\nVJLF 00180004 09/10/2020 16:00 10/10/2020 16:00 11/10/2020 04:00 2CSE\\nColombo (área do Booster Uvaranal): Uvaranal, Sapopema\\nBUVA 001804 09/10/2020 16:00 10/10/2020 16:00 11/10/2020 04:00 2CSE\\n001802 Colombo (área do Booster Colombo Centro): Centro (parcial)\\nBCSE 09/10/2020 16:00 10/10/2020 16:00 11/10/2020 04:00 2CSE\\n0018000133'"
            ]
          },
          "metadata": {
            "tags": []
          },
          "execution_count": 7
        }
      ]
    },
    {
      "cell_type": "markdown",
      "metadata": {
        "id": "WWYz8BHMTjVj"
      },
      "source": [
        "###extract_table()\n",
        "Para o caso de planilhas em pdf (como é o caso da [tabela](http://www.aen.pr.gov.br/arquivos/0910rodizioatualizada.pdf) de rodízio) existe uma função mais apropriada chamada `extract_table`, que retorna os dados em formato de lista"
      ]
    },
    {
      "cell_type": "code",
      "metadata": {
        "id": "lIKYl7v-DMhd",
        "outputId": "9334fbef-416f-421c-98a8-b871632f8cd8",
        "colab": {
          "base_uri": "https://localhost:8080/",
          "height": 1000
        }
      },
      "source": [
        "tabela=pdf.pages[0].extract_table()\n",
        "tabela"
      ],
      "execution_count": 8,
      "outputs": [
        {
          "output_type": "execute_result",
          "data": {
            "text/plain": [
              "[['09 de Outubro de 2020 - Sexta-feira NOVO GRUPO 3',\n",
              "  None,\n",
              "  None,\n",
              "  None,\n",
              "  None,\n",
              "  None,\n",
              "  ''],\n",
              " ['',\n",
              "  'CODOPE INICIADO EM',\n",
              "  'Das',\n",
              "  'Término',\n",
              "  'Normalização',\n",
              "  'Bairros afetados',\n",
              "  'Grupo'],\n",
              " ['GCBR',\n",
              "  '00030...',\n",
              "  '09/10/2020 16:00',\n",
              "  '10/10/2020 16:00',\n",
              "  '11/10/2020 04:00',\n",
              "  'Curitiba (área da Gravidade do Reservatório Corte Branco): Guabirotuba, Uberaba, Alto \\nBoqueirão, Boqueirão, Hauer.',\n",
              "  '3'],\n",
              " ['RCBR',\n",
              "  '00031',\n",
              "  '09/10/2020 16:00',\n",
              "  '10/10/2020 16:00',\n",
              "  '11/10/2020 04:00',\n",
              "  'Curitiba (Área do Recalque do Reservatório Corte Branco): Cajuru, Guabirotuba, Jardim das \\nAméricas, Uberaba.',\n",
              "  '3'],\n",
              " ['GCAJ',\n",
              "  '00040',\n",
              "  '09/10/2020 16:00',\n",
              "  '10/10/2020 16:00',\n",
              "  '11/10/2020 04:00',\n",
              "  'Curitiba (Área da Gravidade do Reservatório Cajuru): Jardim Botânico, Rebouças, Centro, \\nCristo Rei, Hugo Lange, Prado Velho,  Juvevê, Alto da XV.',\n",
              "  '3'],\n",
              " ['GGRE',\n",
              "  '00560...',\n",
              "  '09/10/2020 16:00',\n",
              "  '10/10/2020 16:00',\n",
              "  '11/10/2020 04:00',\n",
              "  'Piraquara (área da Gravidade do Reservatório Guarituba Redondo): Planta Pontoni, Planta \\nRicardo Vagner, Jardim Alterosa, Jardim Itiberê, Jardim Dos Eucaliptos, Bosque Centenário, \\nPlanta Guarituba, Bosque Tarumã, Vila Izabel, Vila Palmas, Vila Dirce, Vila Pedro Alcântara, \\nJardim Florença e Planta São Mateus',\n",
              "  '3'],\n",
              " ['GJMA',\n",
              "  '00930',\n",
              "  '09/10/2020 16:00',\n",
              "  '10/10/2020 16:00',\n",
              "  '11/10/2020 04:00',\n",
              "  'Pinhais (Área da Gravidade do Reservatório Jacob Macanhan): Alto Atuba 1 e 2, Emiliano \\nPerneta 1, Centro 1 e 2, Palmital 1 e 2, Rural, Estância Pinhais 1 e 2, Weissópolis 1, Vila \\nAmélia 2',\n",
              "  '3'],\n",
              " ['GARJ',\n",
              "  '01040',\n",
              "  '09/10/2020 16:00',\n",
              "  '10/10/2020 16:00',\n",
              "  '11/10/2020 04:00',\n",
              "  'São José dos Pinhais (Área da Gravidade do Reservatório Arujá): Aristocrata, Centro, \\nZaniolo, Braga, Cruzeiro, Aguas Belas, Ouro fino, Bom Jesus, Itália, Colônia Rio Grande, Pedro \\nMoro, Santo Antônio, Costeira.',\n",
              "  '3'],\n",
              " ['GBAC',\n",
              "  '00070',\n",
              "  '09/10/2020 16:00',\n",
              "  '10/10/2020 16:00',\n",
              "  '11/10/2020 04:00',\n",
              "  'Curitiba (Área da Gravidade do Reservatório Bacacheri): Bacacheri, Boa Vista.',\n",
              "  '3'],\n",
              " ['RBBC',\n",
              "  '00072',\n",
              "  '09/10/2020 16:00',\n",
              "  '10/10/2020 16:00',\n",
              "  '11/10/2020 04:00',\n",
              "  'Curitiba (Área do Recalque Baixo do Reservatório Bacacheri): Ahú, Atuba, Bacacheri, \\nBarrerinha, Boa Vista, Cabral, Centro Civico, Sta.Cândida, São Lourenço, Tingui, Juvevê.',\n",
              "  '3'],\n",
              " ['GRSC',\n",
              "  '00120...',\n",
              "  '09/10/2020 16:00',\n",
              "  '10/10/2020 16:00',\n",
              "  '11/10/2020 04:00',\n",
              "  'Curitiba (área da Gravidade do Reservatório Santa Cândida): Sta.Cândida, Tingui, Bacacheri, \\nAtuba.',\n",
              "  '3'],\n",
              " ['RBSC',\n",
              "  '00121...',\n",
              "  '09/10/2020 16:00',\n",
              "  '10/10/2020 16:00',\n",
              "  '11/10/2020 04:00',\n",
              "  'Curitiba (área do Recalque Baixo do Reservatório Santa Cândida): Barrerinha, Boa Vista, \\nSta.Cândida.',\n",
              "  '3'],\n",
              " ['RMFL',\n",
              "  '00142',\n",
              "  '09/10/2020 16:00',\n",
              "  '10/10/2020 16:00',\n",
              "  '11/10/2020 04:00',\n",
              "  'Curitiba (Área do Recalque Médio do Reservatório Santa Felicidade): Sta.Felicidade, \\nButiatuvinha.\\nCampo Magro (Área do Recalque Médio do Reservatório Santa Felicidade): Boa Vista.',\n",
              "  '3'],\n",
              " ['BBOV',\n",
              "  '00142',\n",
              "  '09/10/2020 16:00',\n",
              "  '10/10/2020 16:00',\n",
              "  '11/10/2020 04:00',\n",
              "  'Campo Magro (Área do Booster Boa Vista): Boa Vista.',\n",
              "  '3'],\n",
              " ['BOSC',\n",
              "  '00142',\n",
              "  '09/10/2020 16:00',\n",
              "  '10/10/2020 16:00',\n",
              "  '11/10/2020 04:00',\n",
              "  'Campo Magro (Área do Booster Santa Cecília): Boa Vista.',\n",
              "  '3'],\n",
              " ['RAFL',\n",
              "  '00143...',\n",
              "  '09/10/2020 16:00',\n",
              "  '10/10/2020 16:00',\n",
              "  '11/10/2020 04:00',\n",
              "  'Curitiba (área do Recalque Alto do Reservatório Santa Felicidade): Butiatuvinha, Lamenha \\nPequena, Santa Felicidade.\\nAlmirante Tamandaré: Solar Tanguá, Nossa Sra. do Pilar, Tanguá.',\n",
              "  '3'],\n",
              " ['GSBR',\n",
              "  '00530',\n",
              "  '09/10/2020 16:00',\n",
              "  '10/10/2020 16:00',\n",
              "  '11/10/2020 04:00',\n",
              "  'Curitiba (Área da Gravidade do Reservatório São Braz): Cascatinha, Sta.Felicidade, São Braz',\n",
              "  '3'],\n",
              " ['RSBR',\n",
              "  '00531',\n",
              "  '09/10/2020 16:00',\n",
              "  '10/10/2020 16:00',\n",
              "  '11/10/2020 04:00',\n",
              "  'Curitiba (área do Recalque do Reservatório São Braz): Butiatuvinha, Cascatinha, Orleans, \\nSta.Felicidade, São Braz, Sto.Inácio',\n",
              "  '3'],\n",
              " ['GVGR',\n",
              "  '00670',\n",
              "  '09/10/2020 16:00',\n",
              "  '10/10/2020 16:00',\n",
              "  '11/10/2020 04:00',\n",
              "  'Curitiba (área da Gravidade do Reservatório Vila Guarani): Santa Candida, Atuba.\\nColombo: Atuba, Guarani, Rio Pequeno, Rio Verde, Campo Pequeno e Alto da Cruz, Mauá, \\nGuaraituba, Palmital, Vila Zumbi, Maracanã.',\n",
              "  '3'],\n",
              " ['RVGR',\n",
              "  '00671',\n",
              "  '09/10/2020 16:00',\n",
              "  '10/10/2020 16:00',\n",
              "  '11/10/2020 04:00',\n",
              "  'Colombo (área do Recalque do Reservatório Vila Guarani): Guaraituba, Maracanã, Guarani, \\nMonza, Atuba, Rio Pequeno, Campo Pequeno, São Gabriel',\n",
              "  '3'],\n",
              " ['RCEA',\n",
              "  '00541...',\n",
              "  '09/10/2020 16:00',\n",
              "  '10/10/2020 16:00',\n",
              "  '11/10/2020 04:00',\n",
              "  'Curitiba (área do Reservatório Ceasa): Campo de Santana, Caximba, CIC, Ganchinho, \\nTatuquara, Umbará, Sítio Cercado.',\n",
              "  '3'],\n",
              " ['RXAX',\n",
              "  '00941',\n",
              "  '09/10/2020 16:00',\n",
              "  '10/10/2020 16:00',\n",
              "  '11/10/2020 04:00',\n",
              "  'Curitiba (Área do Recalque do Reservatório Xaxim): Alto Boqueirão, Boqueirão, Ganchinho, \\nHauer, Pinheirinho, Sítio Cercado, Xaxim.',\n",
              "  '3'],\n",
              " ['GCFG',\n",
              "  '08030',\n",
              "  '09/10/2020 16:00',\n",
              "  '10/10/2020 16:00',\n",
              "  '11/10/2020 04:00',\n",
              "  'Fazenda Rio Grande (Área da Gravidade do Reservatório Centro Faz. Rio Grande): \\nEucaliptos, Hortência, Iguaçu, Nações, Santarém, Santa Terezinha.',\n",
              "  '3'],\n",
              " ['RCFG',\n",
              "  '08031',\n",
              "  '09/10/2020 16:00',\n",
              "  '10/10/2020 16:00',\n",
              "  '11/10/2020 04:00',\n",
              "  'Fazenda Rio Grande (Área do Recalque do Reservatório Centro Faz. Rio Grande): Dos \\nEstados, Iguaçu, Santa Terezinha, Jd. São Lourenço, Jd Brilhante, Jd Kokubo, Ipê, Eucaliptos, \\nNações.',\n",
              "  '3'],\n",
              " ['RRPQ',\n",
              "  'ver plan. Rodízio Rio Pequeno',\n",
              "  '09/10/2020 16:00',\n",
              "  '10/10/2020 16:00',\n",
              "  '11/10/2020 04:00',\n",
              "  'São José dos Pinhais: Parte do Roseira de S. Sebastião, Jurema, Borda do Campo (GRUPO-02)',\n",
              "  '2RPQ'],\n",
              " ['Rec. Centro + Grav \\nPapagaio + Mato \\nDentro + Rec. Monte \\nSanto',\n",
              "  '0022020101 a 0022020105   \\n0060000101 a 0061000113   \\n0023100101 a 0023100117   \\n0058100101 a 0058100107',\n",
              "  '09/10/2020 17:00',\n",
              "  '',\n",
              "  '11/10/2020 04:00',\n",
              "  'Almirante Tamandaré: Vila Sta. Terezinha, Jardim Colonial, Jardim São Domingos, Vila \\nRachel, Recantos dos Papagaios, Parte Alta Paraiso, Jardim Planalto, Jardim Valença Jardim \\nCentral , Mato Dentro, Jardim Dona Belezária, Cinthia Mara, Boixininga, Vila Pacotuba, \\nJardim Bela Vista, Planta Maria Carla, Planta Mosacal.',\n",
              "  '1ALM'],\n",
              " ['VJBS',\n",
              "  '00180102',\n",
              "  '09/10/2020 16:00',\n",
              "  '10/10/2020 16:00',\n",
              "  '11/10/2020 04:00',\n",
              "  'Colombo (área da válvula José Beira Silva): Arruda, Santa Tereza',\n",
              "  '2CSE'],\n",
              " ['VJLF',\n",
              "  '00180004',\n",
              "  '09/10/2020 16:00',\n",
              "  '10/10/2020 16:00',\n",
              "  '11/10/2020 04:00',\n",
              "  'Colombo (área da válvula José Leal Fontoura): Centro, Jardim Florença, Gabirobal',\n",
              "  '2CSE'],\n",
              " ['BUVA',\n",
              "  '001804',\n",
              "  '09/10/2020 16:00',\n",
              "  '10/10/2020 16:00',\n",
              "  '11/10/2020 04:00',\n",
              "  'Colombo (área do Booster Uvaranal): Uvaranal, Sapopema',\n",
              "  '2CSE'],\n",
              " ['BCSE',\n",
              "  '001802\\n0018000133',\n",
              "  '09/10/2020 16:00',\n",
              "  '10/10/2020 16:00',\n",
              "  '11/10/2020 04:00',\n",
              "  'Colombo (área do Booster Colombo Centro): Centro (parcial)',\n",
              "  '2CSE']]"
            ]
          },
          "metadata": {
            "tags": []
          },
          "execution_count": 8
        }
      ]
    },
    {
      "cell_type": "markdown",
      "metadata": {
        "id": "SpiOfNWvZ9Gw"
      },
      "source": [
        "A próxima etapa será juntar todas as páginas para depois extrairmos todas as datas de rodízio para a nossa região. \n",
        "O código a seguir concatena essas listas na variável table"
      ]
    },
    {
      "cell_type": "code",
      "metadata": {
        "id": "zIMeEBnPEXGj"
      },
      "source": [
        "#iterar por todas as paginas e concatenar as tabelas\n",
        "table=[]\n",
        "for i in range(len(pdf.pages)):  \n",
        "  pagina=pdf.pages[i]\n",
        "  table=table+pagina.extract_table() \n",
        "  "
      ],
      "execution_count": 9,
      "outputs": []
    },
    {
      "cell_type": "markdown",
      "metadata": {
        "id": "EcNSVSVYewkF"
      },
      "source": [
        "Para extrair somente as datas da região escolhida, podemos usar a primeira coluna que é o código `coluna=0` ou a sexta coluna `coluna=5` se usarmos toda a string da área/reservatório e comparar com a string da nossa região `str_procura`. É preciso descomentar qual o conjunto escolhido.\n",
        "\n",
        "O código separa as datas de início e fim do rodizio da região na variável `resultado`"
      ]
    },
    {
      "cell_type": "code",
      "metadata": {
        "id": "dTOBttI_PuhW",
        "outputId": "d42505ec-08a0-4832-bee9-cb9fec2d86c5",
        "colab": {
          "base_uri": "https://localhost:8080/",
          "height": 119
        }
      },
      "source": [
        "# escolher método de procura pela sua região\n",
        "\n",
        "#procura por codigo\n",
        "#str_procura='RBBC'\n",
        "#coluna=0\n",
        "\n",
        "#procura por área / reservatório\n",
        "str_procura=\"Área da Gravidade do Reservatório Campo Comprido\"\n",
        "coluna=5\n",
        "\n",
        "resultado=[]\n",
        "\n",
        "for i in range(len(table)):\n",
        "  if table[i][coluna] is not None:\n",
        "    if table[i][coluna].find(str_procura)>=0:\n",
        "      # resultado encontrado, separar os dados de inicio e fim do rodizio\n",
        "      resultado.append([table[i][2],table[i][4]])\n",
        "      # salvando o local para o relatório\n",
        "      textoLocal=table[i][5]\n",
        "      print('inicio=',table[i][2],' fim=', table[i][4], textoLocal)\n",
        "      \n",
        "#adicionando nomes para as colunas\n",
        "resultado.insert(0,['Início','Fim'])\n"
      ],
      "execution_count": 10,
      "outputs": [
        {
          "output_type": "stream",
          "text": [
            "inicio= 11/10/2020 16:00  fim= 13/10/2020 04:00 Curitiba (Área da Gravidade do Reservatório Campo Comprido): Campo Comprido, Cidade \n",
            "Industrial, Mossunguê.\n",
            "inicio= 14/10/2020 16:00  fim= 16/10/2020 04:00 Curitiba (Área da Gravidade do Reservatório Campo Comprido): Campo Comprido, Cidade \n",
            "Industrial, Mossunguê.\n",
            "inicio= 17/10/2020 16:00  fim= 19/10/2020 04:00 Curitiba (Área da Gravidade do Reservatório Campo Comprido): Campo Comprido, Cidade \n",
            "Industrial, Mossunguê.\n"
          ],
          "name": "stdout"
        }
      ]
    },
    {
      "cell_type": "markdown",
      "metadata": {
        "id": "YVtdss3HMnkW"
      },
      "source": [
        "## Gerando um relatório em PDF\n",
        "Com os resultados em mãos, vamos gerar um relatório em pdf para divulgar o resultado.\n",
        "\n",
        "Para gerar um relatório em pdf será usada a biblioteca [reportlab](https://www.reportlab.com/). Vamos usar o mínimo de elementos nesse código, um texto, uma tabela e uma imagem. Para mais detalhes da biblioteca vejam o [manual de uso](https://www.reportlab.com/docs/reportlab-userguide.pdf). \n",
        "\n",
        "A biblioteca também não é padrão no Colab, então precisamos adiciona-la ao nosso projeto com `!pip install reportlab`\n",
        "\n",
        "\n",
        "\n",
        "\n"
      ]
    },
    {
      "cell_type": "code",
      "metadata": {
        "id": "IucB09PHPhbM",
        "outputId": "b872ca31-43f7-45f4-eed9-dede605a6cd7",
        "colab": {
          "base_uri": "https://localhost:8080/",
          "height": 51
        }
      },
      "source": [
        "!pip install reportlab"
      ],
      "execution_count": 11,
      "outputs": [
        {
          "output_type": "stream",
          "text": [
            "Requirement already satisfied: reportlab in /usr/local/lib/python3.6/dist-packages (3.5.53)\n",
            "Requirement already satisfied: pillow>=4.0.0 in /usr/local/lib/python3.6/dist-packages (from reportlab) (7.0.0)\n"
          ],
          "name": "stdout"
        }
      ]
    },
    {
      "cell_type": "markdown",
      "metadata": {
        "id": "O_PdXiI-2fLn"
      },
      "source": [
        "Adicionando elementos que vamos utilizar da biblioteca:"
      ]
    },
    {
      "cell_type": "code",
      "metadata": {
        "id": "2-QFnlBKQMKM"
      },
      "source": [
        "from reportlab.pdfgen import canvas\n",
        "from reportlab.platypus import Frame, Image\n",
        "from reportlab.lib.units import cm\n",
        "from reportlab.lib import colors\n",
        "from reportlab.platypus import Paragraph, Frame, Table, Spacer, TableStyle\n",
        "from reportlab.lib.styles import getSampleStyleSheet\n",
        "from reportlab.lib.styles import ParagraphStyle"
      ],
      "execution_count": 12,
      "outputs": []
    },
    {
      "cell_type": "markdown",
      "metadata": {
        "id": "SVentPg_6D2T"
      },
      "source": [
        "### Entendendo a estrutura do reportlab utilizada\n",
        "Para melhor entender a estrutura de código para gerar o relatório veja a figura a seguir.\n",
        "\n",
        "O `Canvas` é uma tela A4 (com uma margem interna)\n",
        "\n",
        "Vamos adicionar um `Frame` que é um container de elementos nesse `Canvas` a 3 cm de distância da margem esquerda e a 12 cm de distância da margem inferior. As distãncias são relativas a posição (0,0) no canto inferior esquedo.\n",
        "\n",
        "\n",
        "Dentro do `Frame` montamos uma `Story`, que é uma sequência de elementos: \n",
        "\n",
        "- Parágrafo 1: texto padrão\n",
        "- Parágrafo 2: criada a partir do texto da região procurada\n",
        "- Tabela: criada a partir da tabela de resultados \n",
        "- Imagem: criada a partir de um link\n",
        "\n",
        "Foram adicionados espaçamentos (`Spacer`) entre os elementos\n",
        "\n",
        "![picture](https://github.com/cesarofuchi/Projects/blob/master/sanepar/img/reportlab.JPG?raw=true)\n",
        "\n",
        "\n",
        "\n",
        "\n",
        "\n"
      ]
    },
    {
      "cell_type": "markdown",
      "metadata": {
        "id": "Qlv3wJQCe5HD"
      },
      "source": [
        "### Código\n",
        "Deixei o código inteiro para que seja mais fácil editar as posições e estilos dos elementos, e gerar um pdf novo. Assim pode-se aprender na prática o que cada mudança nos elementos provoca.\n",
        "\n",
        "Ao final do processo é gerado um pdf com informações sobre a sua região e o horário de início e fim do rodízio."
      ]
    },
    {
      "cell_type": "code",
      "metadata": {
        "id": "kbCLIBbP3Cf9",
        "outputId": "76d05fec-9860-4d05-921f-9cba8d0a9f23",
        "colab": {
          "base_uri": "https://localhost:8080/",
          "height": 34
        }
      },
      "source": [
        "#criação do Canvas\n",
        "nome_pdf = \"rodizio_sanepar.pdf\" \n",
        "c = canvas.Canvas(nome_pdf)\n",
        "c.setTitle(nome_pdf)\n",
        "table_size=len\n",
        "#Criação da tabela a partir do resultado\n",
        "rtable=Table(resultado)\n",
        " # propriedades da tabela\n",
        "t_fontsize=16\n",
        "t_leading=t_fontsize+2\n",
        "\n",
        "rtable.setStyle(TableStyle([\n",
        "  ('LEADING', (0, 0), (-1, -1), t_leading),\n",
        "  ('SIZE', (0, 0), (-1, -1), t_fontsize),\n",
        "  ('INNERGRID', (0, 0), (-1, -1), 0.25, colors.black),\n",
        "  ('BOX', (0, 0), (-1, -1), 0.25, colors.black)\n",
        "]))\n",
        "###############################################################\n",
        "# padrão é formato A4 (21 cm)\n",
        "# posição em CM, posição (0,0) canto inferior esquerdo\n",
        "\n",
        "# estilo do paragrafo 1        \n",
        "titleFormat = '<font size=\"18\" name=\"Helvetica\" color=\"rgb(0, 89, 164)\"><b>%s</b></font>'\n",
        "style = getSampleStyleSheet()['Normal']\n",
        "style.leading = 24\n",
        "\n",
        "# paragrafo 1\n",
        "p1 = Paragraph(titleFormat % 'RODÍZIO DE ABASTECIMENTO', style)\n",
        "\n",
        "# estilo do paragrafo 2\n",
        "titleFormat = '<font size=\"16\" name=\"Helvetica\" color=black><i>%s</i></font>'\n",
        "# paragrafo 2 \n",
        "p2 = Paragraph(titleFormat % textoLocal, style)\n",
        "\n",
        "# imagem \n",
        "im=Image(\"https://github.com/cesarofuchi/Projects/blob/main/sanepar/img/banner_20porcento.jpg?raw=true\")\n",
        "# restrição de tamanho para reduzir a imagem de forma proporcional\n",
        "im._restrictSize(10 * cm, 12 * cm)\n",
        "im.hAlign = 'RIGHT'\n",
        "\n",
        "# story com os elementos espaçados        \n",
        "story = [p1,\n",
        "         Spacer(1, 10),\n",
        "         p2,\n",
        "         Spacer(1, 10),\n",
        "         rtable,\n",
        "         Spacer(10, 30),\n",
        "         im]\n",
        "\n",
        "# criação do Frame\n",
        "f = Frame(3*cm, 12*cm, 16 * cm, 16 * cm)\n",
        "# adicionando o Frame (com Story) ao Canvas\n",
        "f.addFromList(story,c)\n",
        "\n",
        "# salvando no diretório local\n",
        "c.save()\n",
        "print('{}.pdf criado com sucesso!'.format(nome_pdf))"
      ],
      "execution_count": 14,
      "outputs": [
        {
          "output_type": "stream",
          "text": [
            "rodizio_sanepar.pdf.pdf criado com sucesso!\n"
          ],
          "name": "stdout"
        }
      ]
    },
    {
      "cell_type": "code",
      "metadata": {
        "id": "YeIoyPemTeuF"
      },
      "source": [
        ""
      ],
      "execution_count": 13,
      "outputs": []
    }
  ]
}