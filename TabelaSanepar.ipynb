{
  "nbformat": 4,
  "nbformat_minor": 0,
  "metadata": {
    "colab": {
      "name": "TabelaSanepar.ipynb",
      "provenance": [],
      "collapsed_sections": [],
      "authorship_tag": "ABX9TyM4w2zafcwKFF0k2XsrQuYK",
      "include_colab_link": true
    },
    "kernelspec": {
      "name": "python3",
      "display_name": "Python 3"
    }
  },
  "cells": [
    {
      "cell_type": "markdown",
      "metadata": {
        "id": "view-in-github",
        "colab_type": "text"
      },
      "source": [
        "<a href=\"https://colab.research.google.com/github/cesarofuchi/python_projects/blob/main/TabelaSanepar.ipynb\" target=\"_parent\"><img src=\"https://colab.research.google.com/assets/colab-badge.svg\" alt=\"Open In Colab\"/></a>"
      ]
    },
    {
      "cell_type": "markdown",
      "metadata": {
        "id": "j69yxmKl_kkn"
      },
      "source": [
        "<h1> Relatório com previsão de rodizio de água para sua região em Curitiba</h1>\n",
        "\n",
        "A seca pelo qual Curitiba e região metropolitana esta passando pode estar longe de acabar. A Sanepar tem feito um esforço para divulgar o META 20 para economizarmos 20% de água e assim diminuirmos o tempo de rodízio. Os rodízios de água mudam de acordo com os níveis de água dos reservatórios. No meu condomínio o rodízio é avisado no dia por whatsapp, e se você for como eu, que não se informa como deveria, tem que ficar revisando as mensagens para ter certeza de quando começa e quando termina. \n",
        "\n",
        "Pelo site da [Sanepar](http://site.sanepar.com.br/mapa-rodizio-abastecimento-curitiba-rmc) é possível verificar pelo endereço como está a previsão do abastecimento em sua região. Porém ele só informa quando será o próximo rodízio.\n",
        " \n",
        "![picture](https://github.com/cesarofuchi/python_projects/blob/main/sanepar/img/banner_20porcento.jpg?raw=true)\n",
        "\n",
        "## Obtendo os dados\n",
        "Acontece que na [agência estadual de notícias](http://www.aen.pr.gov.br/)  existe uma [tabela](http://www.aen.pr.gov.br/arquivos/0910rodizioatualizada.pdf) mais detalhada, com uma previsão maior das datas de rodízio. \n",
        "\n",
        "![picture](https://github.com/cesarofuchi/python_projects/blob/main/sanepar/img/Tabela.JPG?raw=true)\n",
        "\n",
        "A tabela possui as datas de início e término do rodízio, quais os bairros afetados e o Grupo do rodízio. Em Curitiba, atualmente temos 3 grupos, mas isso já mudou antes também. \n",
        "\n",
        "Um mesmo bairro pode ter dias diferentes de rodízio, então é preciso se informar qual o seu reservatório de abastecimento, fazendo uma procura pelo bairro e pelas datas de início e término do rodízio (pode conferir pelo site da sanepar isso). \n",
        "\n",
        "Feito isso podemos usar o identificador da primeira coluna ou o nome da sua área (na penúltima coluna) para saber qual a sua micro-região. \n",
        "\n",
        "Exemplo: RISO - (Área do Recalque do Reservetório Iguaçu)\n",
        "\n",
        "Munidos dessa informação vamos extrair as datas da sua região e gerar um relatório em PDF para você imprimir, deixar no elevador, na geladeira, ou simplemente deixar no celular para avaliar as datas em que faltará água na sua casa.\n",
        "\n",
        "Primeiramente devemos fazer o download da tabela para deixar aqui na maquina virtual. Esse link irá mudar de tempos em tempo, então procure a mais atualizada.\n",
        "\n",
        "Vou usar a biblioteca requests para salvar o arquivo na maquina local."
      ]
    },
    {
      "cell_type": "markdown",
      "metadata": {
        "id": "T2ZKYiaSduZa"
      },
      "source": [
        ""
      ]
    },
    {
      "cell_type": "code",
      "metadata": {
        "id": "31D-iKgR8oCr"
      },
      "source": [
        "import requests\n",
        "#import textract\n",
        "response = requests.get(\"http://www.aen.pr.gov.br/arquivos/0910rodizioatualizada.pdf\")\n",
        "#myfile = open(\"out.pdf\", \"w\")\n",
        "\n",
        "with open('document.pdf', 'wb') as fw:\n",
        "    fw.write(response.content)\n"
      ],
      "execution_count": 57,
      "outputs": []
    },
    {
      "cell_type": "markdown",
      "metadata": {
        "id": "y8xA3KMT_T3M"
      },
      "source": [
        "A tabela está salva como \"document.pdf\"\n",
        "\n",
        "## Extração dos dados da tabela em PDF\n",
        "\n",
        "\n",
        "Para extrar e manipular os dados da tabela será utilizada a biblioteca de Python [PDF Plumber](https://github.com/jsvine/pdfplumber). Ela possui uma grande gama de funções e argumentos, e aqui nós vamos começar a nos aventurar com essas funções.\n",
        "\n",
        "Lembrando: Nativamente, o Google Colab não possui essa biblioteca instalada, então nós precisamos instalar a mesma no nosso ambiente.\n",
        "\n",
        "Para isso, vamos utilizar o gerenciador de pacotes pip, e com o comando install vamos instalar a biblioteca."
      ]
    },
    {
      "cell_type": "code",
      "metadata": {
        "id": "3ilgWH859w8a",
        "outputId": "ec8f3745-9b13-4ef2-fd3b-59b554068a99",
        "colab": {
          "base_uri": "https://localhost:8080/",
          "height": 374
        }
      },
      "source": [
        "!pip install pdfplumber"
      ],
      "execution_count": 5,
      "outputs": [
        {
          "output_type": "stream",
          "text": [
            "Collecting pdfplumber\n",
            "  Downloading https://files.pythonhosted.org/packages/2c/06/eb883f00ea3d78a2f860c593645498c39120f763d30b099cc98c4392b312/pdfplumber-0.5.23.tar.gz\n",
            "Collecting pdfminer.six==20200517\n",
            "\u001b[?25l  Downloading https://files.pythonhosted.org/packages/b0/c0/ef1c8758bbd86edb10b5443700aac97d0ba27a9ca2e7696db8cd1fdbd5a8/pdfminer.six-20200517-py3-none-any.whl (5.6MB)\n",
            "\u001b[K     |████████████████████████████████| 5.6MB 6.2MB/s \n",
            "\u001b[?25hRequirement already satisfied: Pillow>=7.0.0 in /usr/local/lib/python3.6/dist-packages (from pdfplumber) (7.0.0)\n",
            "Collecting Wand\n",
            "\u001b[?25l  Downloading https://files.pythonhosted.org/packages/21/4d/0c33672e992ed80983895b36d3fbc3203f8e4a0fd36eb74ea07a563ae3ad/Wand-0.6.3-py2.py3-none-any.whl (133kB)\n",
            "\u001b[K     |████████████████████████████████| 143kB 38.4MB/s \n",
            "\u001b[?25hRequirement already satisfied: sortedcontainers in /usr/local/lib/python3.6/dist-packages (from pdfminer.six==20200517->pdfplumber) (2.2.2)\n",
            "Requirement already satisfied: chardet; python_version > \"3.0\" in /usr/local/lib/python3.6/dist-packages (from pdfminer.six==20200517->pdfplumber) (3.0.4)\n",
            "Collecting pycryptodome\n",
            "\u001b[?25l  Downloading https://files.pythonhosted.org/packages/17/55/17fa0b55849dc135f7bc400993a9206bf06d1b5d9520b0bc8d47c57aaef5/pycryptodome-3.9.8-cp36-cp36m-manylinux1_x86_64.whl (13.7MB)\n",
            "\u001b[K     |████████████████████████████████| 13.7MB 262kB/s \n",
            "\u001b[?25hBuilding wheels for collected packages: pdfplumber\n",
            "  Building wheel for pdfplumber (setup.py) ... \u001b[?25l\u001b[?25hdone\n",
            "  Created wheel for pdfplumber: filename=pdfplumber-0.5.23-cp36-none-any.whl size=29176 sha256=a6e4d55a00babdefbdc328c0a2b0ef653512f7ff98fd15cb06d0dd8a2d24fb41\n",
            "  Stored in directory: /root/.cache/pip/wheels/f6/4d/ae/abb7b92fbed5d09a835c259f26d2a3223ea929a0ad6d322097\n",
            "Successfully built pdfplumber\n",
            "Installing collected packages: pycryptodome, pdfminer.six, Wand, pdfplumber\n",
            "Successfully installed Wand-0.6.3 pdfminer.six-20200517 pdfplumber-0.5.23 pycryptodome-3.9.8\n"
          ],
          "name": "stdout"
        }
      ]
    },
    {
      "cell_type": "markdown",
      "metadata": {
        "id": "syIqqYvOUI8H"
      },
      "source": [
        "### pdfplumber.open()\n",
        "\n",
        "Para abrir um arquivo, vamos associá-lo a uma variável, para que ele possa ser facilmente acessado depois.\n",
        "\n",
        "Utilizamos o comando `pdfplumber.open('caminho/do/meu/arquivo')` com o caminho do arquivo dentro dos parênteses, dentro de aspas, simples ou duplas."
      ]
    },
    {
      "cell_type": "code",
      "metadata": {
        "id": "RLMvsb0CDpJu"
      },
      "source": [
        "#biblioteca para manipular arquivos\n",
        "import pdfplumber"
      ],
      "execution_count": 58,
      "outputs": []
    },
    {
      "cell_type": "code",
      "metadata": {
        "id": "79HPMu-bK1ik"
      },
      "source": [
        "#carregar a tabela em pdf\n",
        "pdf = pdfplumber.open(\"document.pdf\")"
      ],
      "execution_count": 64,
      "outputs": []
    },
    {
      "cell_type": "markdown",
      "metadata": {
        "id": "f6haIldHUf2a"
      },
      "source": [
        "### pages\n",
        "Para acessar as páginas existentes no arquivo, utilizamos a função `pages`.\n",
        "\n",
        "Ela retorna uma lista com as páginas do arquivo.\n",
        "\n",
        "Perceba que a tabela de rodízio possui muitas páginas"
      ]
    },
    {
      "cell_type": "code",
      "metadata": {
        "id": "NCNtk4tuUnEY",
        "outputId": "5bbd8a56-cd65-4e12-d98b-169950ad8a08",
        "colab": {
          "base_uri": "https://localhost:8080/",
          "height": 272
        }
      },
      "source": [
        "pdf.pages"
      ],
      "execution_count": 65,
      "outputs": [
        {
          "output_type": "execute_result",
          "data": {
            "text/plain": [
              "[<Page:1>,\n",
              " <Page:2>,\n",
              " <Page:3>,\n",
              " <Page:4>,\n",
              " <Page:5>,\n",
              " <Page:6>,\n",
              " <Page:7>,\n",
              " <Page:8>,\n",
              " <Page:9>,\n",
              " <Page:10>,\n",
              " <Page:11>,\n",
              " <Page:12>,\n",
              " <Page:13>,\n",
              " <Page:14>,\n",
              " <Page:15>]"
            ]
          },
          "metadata": {
            "tags": []
          },
          "execution_count": 65
        }
      ]
    },
    {
      "cell_type": "code",
      "metadata": {
        "id": "xJL-L3b4U6Nr",
        "outputId": "ed25a359-cc62-40f7-e61c-3bba4c370922",
        "colab": {
          "base_uri": "https://localhost:8080/",
          "height": 102
        }
      },
      "source": [
        "pdf.metadata"
      ],
      "execution_count": 66,
      "outputs": [
        {
          "output_type": "execute_result",
          "data": {
            "text/plain": [
              "{'Author': 'Edymilson Luiz Dos Santos',\n",
              " 'CreationDate': \"D:20201009075221-03'00'\",\n",
              " 'Creator': 'Microsoft® Excel® 2013',\n",
              " 'ModDate': \"D:20201009075221-03'00'\",\n",
              " 'Producer': 'Microsoft® Excel® 2013'}"
            ]
          },
          "metadata": {
            "tags": []
          },
          "execution_count": 66
        }
      ]
    },
    {
      "cell_type": "markdown",
      "metadata": {
        "id": "P2HdKoJDYUDP"
      },
      "source": [
        "### extract_text()\n",
        "Para extrair um texto de um pdf utilizamos a função `extract_text`\n",
        "\n",
        "Ela retorna o texto em formato string para buscar a informação. Em geral esse processa implica em separar as linhas, procurar por expressões regulares 'regex', etc."
      ]
    },
    {
      "cell_type": "code",
      "metadata": {
        "id": "U3rFJL40LCOX",
        "outputId": "35e193e2-b5cc-483c-d2d3-da5c264057f4",
        "colab": {
          "base_uri": "https://localhost:8080/",
          "height": 120
        }
      },
      "source": [
        "# abrir a primeira pagina do documento\n",
        "pagina = pdf.pages[0]\n",
        "texto = pagina.extract_text()\n",
        "texto"
      ],
      "execution_count": 61,
      "outputs": [
        {
          "output_type": "execute_result",
          "data": {
            "application/vnd.google.colaboratory.intrinsic+json": {
              "type": "string"
            },
            "text/plain": [
              "'09 de Outubro de 2020 - Sexta-feira NOVO GRUPO 3\\nCODOPE INICIADO EM Das Término Normalização Bairros afetados Grupo\\nCuritiba (área da Gravidade do Reservatório Corte Branco): Guabirotuba, Uberaba, Alto \\nGCBR 00030... 09/10/2020 16:00 10/10/2020 16:00 11/10/2020 04:00 Boqueirão, Boqueirão, Hauer. 3\\nCuritiba (Área do Recalque do Reservatório Corte Branco): Cajuru, Guabirotuba, Jardim das \\nRCBR 00031 09/10/2020 16:00 10/10/2020 16:00 11/10/2020 04:00 Américas, Uberaba. 3\\nCuritiba (Área da Gravidade do Reservatório Cajuru): Jardim Botânico, Rebouças, Centro, \\nCristo Rei, Hugo Lange, Prado Velho,  Juvevê, Alto da XV.\\nGCAJ 00040 09/10/2020 16:00 10/10/2020 16:00 11/10/2020 04:00 3\\nPiraquara (área da Gravidade do Reservatório Guarituba Redondo): Planta Pontoni, Planta \\nRicardo Vagner, Jardim Alterosa, Jardim Itiberê, Jardim Dos Eucaliptos, Bosque Centenário, \\nPlanta Guarituba, Bosque Tarumã, Vila Izabel, Vila Palmas, Vila Dirce, Vila Pedro Alcântara, \\nGGRE 00560... 09/10/2020 16:00 10/10/2020 16:00 11/10/2020 04:00 3\\nJardim Florença e Planta São Mateus\\nPinhais (Área da Gravidade do Reservatório Jacob Macanhan): Alto Atuba 1 e 2, Emiliano \\nPerneta 1, Centro 1 e 2, Palmital 1 e 2, Rural, Estância Pinhais 1 e 2, Weissópolis 1, Vila \\nGJMA 00930 09/10/2020 16:00 10/10/2020 16:00 11/10/2020 04:00 Amélia 2 3\\nSão José dos Pinhais (Área da Gravidade do Reservatório Arujá): Aristocrata, Centro, \\nZaniolo, Braga, Cruzeiro, Aguas Belas, Ouro fino, Bom Jesus, Itália, Colônia Rio Grande, Pedro \\nGARJ 01040 09/10/2020 16:00 10/10/2020 16:00 11/10/2020 04:00 3\\nMoro, Santo Antônio, Costeira.\\nCuritiba (Área da Gravidade do Reservatório Bacacheri): Bacacheri, Boa Vista.\\nGBAC 00070 09/10/2020 16:00 10/10/2020 16:00 11/10/2020 04:00 3\\nCuritiba (Área do Recalque Baixo do Reservatório Bacacheri): Ahú, Atuba, Bacacheri, \\nBarrerinha, Boa Vista, Cabral, Centro Civico, Sta.Cândida, São Lourenço, Tingui, Juvevê.\\nRBBC 00072 09/10/2020 16:00 10/10/2020 16:00 11/10/2020 04:00 3\\nCuritiba (área da Gravidade do Reservatório Santa Cândida): Sta.Cândida, Tingui, Bacacheri, \\nGRSC 00120... 09/10/2020 16:00 10/10/2020 16:00 11/10/2020 04:00 Atuba. 3\\nCuritiba (área do Recalque Baixo do Reservatório Santa Cândida): Barrerinha, Boa Vista, \\nRBSC 00121... 09/10/2020 16:00 10/10/2020 16:00 11/10/2020 04:00 Sta.Cândida. 3\\nCuritiba (Área do Recalque Médio do Reservatório Santa Felicidade): Sta.Felicidade, \\nButiatuvinha.\\nRMFL 00142 09/10/2020 16:00 10/10/2020 16:00 11/10/2020 04:00 Campo Magro (Área do Recalque Médio do Reservatório Santa Felicidade): Boa Vista. 3\\nCampo Magro (Área do Booster Boa Vista): Boa Vista.\\nBBOV 00142 09/10/2020 16:00 10/10/2020 16:00 11/10/2020 04:00 3\\nCampo Magro (Área do Booster Santa Cecília): Boa Vista.\\nBOSC 00142 09/10/2020 16:00 10/10/2020 16:00 11/10/2020 04:00 3\\nCuritiba (área do Recalque Alto do Reservatório Santa Felicidade): Butiatuvinha, Lamenha \\nPequena, Santa Felicidade.\\nRAFL 00143... 09/10/2020 16:00 10/10/2020 16:00 11/10/2020 04:00 3\\nAlmirante Tamandaré: Solar Tanguá, Nossa Sra. do Pilar, Tanguá.\\nCuritiba (Área da Gravidade do Reservatório São Braz): Cascatinha, Sta.Felicidade, São Braz\\nGSBR 00530 09/10/2020 16:00 10/10/2020 16:00 11/10/2020 04:00 3\\nCuritiba (área do Recalque do Reservatório São Braz): Butiatuvinha, Cascatinha, Orleans, \\nRSBR 00531 09/10/2020 16:00 10/10/2020 16:00 11/10/2020 04:00 Sta.Felicidade, São Braz, Sto.Inácio 3\\nCuritiba (área da Gravidade do Reservatório Vila Guarani): Santa Candida, Atuba.\\nColombo: Atuba, Guarani, Rio Pequeno, Rio Verde, Campo Pequeno e Alto da Cruz, Mauá, \\nGVGR 00670 09/10/2020 16:00 10/10/2020 16:00 11/10/2020 04:00 Guaraituba, Palmital, Vila Zumbi, Maracanã. 3\\nColombo (área do Recalque do Reservatório Vila Guarani): Guaraituba, Maracanã, Guarani, \\nMonza, Atuba, Rio Pequeno, Campo Pequeno, São Gabriel\\nRVGR 00671 09/10/2020 16:00 10/10/2020 16:00 11/10/2020 04:00 3\\nCuritiba (área do Reservatório Ceasa): Campo de Santana, Caximba, CIC, Ganchinho, \\nRCEA 00541... 09/10/2020 16:00 10/10/2020 16:00 11/10/2020 04:00 Tatuquara, Umbará, Sítio Cercado. 3\\nCuritiba (Área do Recalque do Reservatório Xaxim): Alto Boqueirão, Boqueirão, Ganchinho, \\nRXAX 00941 09/10/2020 16:00 10/10/2020 16:00 11/10/2020 04:00 Hauer, Pinheirinho, Sítio Cercado, Xaxim. 3\\nFazenda Rio Grande (Área da Gravidade do Reservatório Centro Faz. Rio Grande): \\nEucaliptos, Hortência, Iguaçu, Nações, Santarém, Santa Terezinha.\\nGCFG 08030 09/10/2020 16:00 10/10/2020 16:00 11/10/2020 04:00 3\\nFazenda Rio Grande (Área do Recalque do Reservatório Centro Faz. Rio Grande): Dos \\nEstados, Iguaçu, Santa Terezinha, Jd. São Lourenço, Jd Brilhante, Jd Kokubo, Ipê, Eucaliptos, \\nRCFG 08031 09/10/2020 16:00 10/10/2020 16:00 11/10/2020 04:00 3\\nNações.\\nSão José dos Pinhais: Parte do Roseira de S. Sebastião, Jurema, Borda do Campo (GRUPO-02)\\nRRPQ ver plan. Rodízio Rio Pequeno 09/10/2020 16:00 10/10/2020 16:00 11/10/2020 04:00 2RPQ\\nAlmirante Tamandaré: Vila Sta. Terezinha, Jardim Colonial, Jardim São Domingos, Vila \\nRec. Centro + Grav  0022020101 a 0022020105    Rachel, Recantos dos Papagaios, Parte Alta Paraiso, Jardim Planalto, Jardim Valença Jardim \\nPapagaio + Mato  0060000101 a 0061000113    Central , Mato Dentro, Jardim Dona Belezária, Cinthia Mara, Boixininga, Vila Pacotuba, \\n09/10/2020 17:00 11/10/2020 04:00 1ALM\\nDentro + Rec. Monte  0023100101 a 0023100117    Jardim Bela Vista, Planta Maria Carla, Planta Mosacal.\\nSanto 0058100101 a 0058100107\\nColombo (área da válvula José Beira Silva): Arruda, Santa Tereza\\nVJBS 00180102 09/10/2020 16:00 10/10/2020 16:00 11/10/2020 04:00 2CSE\\nColombo (área da válvula José Leal Fontoura): Centro, Jardim Florença, Gabirobal\\nVJLF 00180004 09/10/2020 16:00 10/10/2020 16:00 11/10/2020 04:00 2CSE\\nColombo (área do Booster Uvaranal): Uvaranal, Sapopema\\nBUVA 001804 09/10/2020 16:00 10/10/2020 16:00 11/10/2020 04:00 2CSE\\n001802 Colombo (área do Booster Colombo Centro): Centro (parcial)\\nBCSE 09/10/2020 16:00 10/10/2020 16:00 11/10/2020 04:00 2CSE\\n0018000133'"
            ]
          },
          "metadata": {
            "tags": []
          },
          "execution_count": 61
        }
      ]
    },
    {
      "cell_type": "markdown",
      "metadata": {
        "id": "WWYz8BHMTjVj"
      },
      "source": [
        "###extract_table()\n",
        "Para o caso de planilhas em pdf (como é o caso da [tabela](http://www.aen.pr.gov.br/arquivos/0910rodizioatualizada.pdf) de rodízio) existe uma função mais apropriada chamada `extract_table`, que retorna os dados em formato de lista"
      ]
    },
    {
      "cell_type": "code",
      "metadata": {
        "id": "lIKYl7v-DMhd",
        "outputId": "961f46a1-36ce-48fc-b80d-920399ecdf23",
        "colab": {
          "base_uri": "https://localhost:8080/",
          "height": 1000
        }
      },
      "source": [
        "tabela=pdf.pages[0].extract_table()\n",
        "tabela"
      ],
      "execution_count": 62,
      "outputs": [
        {
          "output_type": "execute_result",
          "data": {
            "text/plain": [
              "[['09 de Outubro de 2020 - Sexta-feira NOVO GRUPO 3',\n",
              "  None,\n",
              "  None,\n",
              "  None,\n",
              "  None,\n",
              "  None,\n",
              "  ''],\n",
              " ['',\n",
              "  'CODOPE INICIADO EM',\n",
              "  'Das',\n",
              "  'Término',\n",
              "  'Normalização',\n",
              "  'Bairros afetados',\n",
              "  'Grupo'],\n",
              " ['GCBR',\n",
              "  '00030...',\n",
              "  '09/10/2020 16:00',\n",
              "  '10/10/2020 16:00',\n",
              "  '11/10/2020 04:00',\n",
              "  'Curitiba (área da Gravidade do Reservatório Corte Branco): Guabirotuba, Uberaba, Alto \\nBoqueirão, Boqueirão, Hauer.',\n",
              "  '3'],\n",
              " ['RCBR',\n",
              "  '00031',\n",
              "  '09/10/2020 16:00',\n",
              "  '10/10/2020 16:00',\n",
              "  '11/10/2020 04:00',\n",
              "  'Curitiba (Área do Recalque do Reservatório Corte Branco): Cajuru, Guabirotuba, Jardim das \\nAméricas, Uberaba.',\n",
              "  '3'],\n",
              " ['GCAJ',\n",
              "  '00040',\n",
              "  '09/10/2020 16:00',\n",
              "  '10/10/2020 16:00',\n",
              "  '11/10/2020 04:00',\n",
              "  'Curitiba (Área da Gravidade do Reservatório Cajuru): Jardim Botânico, Rebouças, Centro, \\nCristo Rei, Hugo Lange, Prado Velho,  Juvevê, Alto da XV.',\n",
              "  '3'],\n",
              " ['GGRE',\n",
              "  '00560...',\n",
              "  '09/10/2020 16:00',\n",
              "  '10/10/2020 16:00',\n",
              "  '11/10/2020 04:00',\n",
              "  'Piraquara (área da Gravidade do Reservatório Guarituba Redondo): Planta Pontoni, Planta \\nRicardo Vagner, Jardim Alterosa, Jardim Itiberê, Jardim Dos Eucaliptos, Bosque Centenário, \\nPlanta Guarituba, Bosque Tarumã, Vila Izabel, Vila Palmas, Vila Dirce, Vila Pedro Alcântara, \\nJardim Florença e Planta São Mateus',\n",
              "  '3'],\n",
              " ['GJMA',\n",
              "  '00930',\n",
              "  '09/10/2020 16:00',\n",
              "  '10/10/2020 16:00',\n",
              "  '11/10/2020 04:00',\n",
              "  'Pinhais (Área da Gravidade do Reservatório Jacob Macanhan): Alto Atuba 1 e 2, Emiliano \\nPerneta 1, Centro 1 e 2, Palmital 1 e 2, Rural, Estância Pinhais 1 e 2, Weissópolis 1, Vila \\nAmélia 2',\n",
              "  '3'],\n",
              " ['GARJ',\n",
              "  '01040',\n",
              "  '09/10/2020 16:00',\n",
              "  '10/10/2020 16:00',\n",
              "  '11/10/2020 04:00',\n",
              "  'São José dos Pinhais (Área da Gravidade do Reservatório Arujá): Aristocrata, Centro, \\nZaniolo, Braga, Cruzeiro, Aguas Belas, Ouro fino, Bom Jesus, Itália, Colônia Rio Grande, Pedro \\nMoro, Santo Antônio, Costeira.',\n",
              "  '3'],\n",
              " ['GBAC',\n",
              "  '00070',\n",
              "  '09/10/2020 16:00',\n",
              "  '10/10/2020 16:00',\n",
              "  '11/10/2020 04:00',\n",
              "  'Curitiba (Área da Gravidade do Reservatório Bacacheri): Bacacheri, Boa Vista.',\n",
              "  '3'],\n",
              " ['RBBC',\n",
              "  '00072',\n",
              "  '09/10/2020 16:00',\n",
              "  '10/10/2020 16:00',\n",
              "  '11/10/2020 04:00',\n",
              "  'Curitiba (Área do Recalque Baixo do Reservatório Bacacheri): Ahú, Atuba, Bacacheri, \\nBarrerinha, Boa Vista, Cabral, Centro Civico, Sta.Cândida, São Lourenço, Tingui, Juvevê.',\n",
              "  '3'],\n",
              " ['GRSC',\n",
              "  '00120...',\n",
              "  '09/10/2020 16:00',\n",
              "  '10/10/2020 16:00',\n",
              "  '11/10/2020 04:00',\n",
              "  'Curitiba (área da Gravidade do Reservatório Santa Cândida): Sta.Cândida, Tingui, Bacacheri, \\nAtuba.',\n",
              "  '3'],\n",
              " ['RBSC',\n",
              "  '00121...',\n",
              "  '09/10/2020 16:00',\n",
              "  '10/10/2020 16:00',\n",
              "  '11/10/2020 04:00',\n",
              "  'Curitiba (área do Recalque Baixo do Reservatório Santa Cândida): Barrerinha, Boa Vista, \\nSta.Cândida.',\n",
              "  '3'],\n",
              " ['RMFL',\n",
              "  '00142',\n",
              "  '09/10/2020 16:00',\n",
              "  '10/10/2020 16:00',\n",
              "  '11/10/2020 04:00',\n",
              "  'Curitiba (Área do Recalque Médio do Reservatório Santa Felicidade): Sta.Felicidade, \\nButiatuvinha.\\nCampo Magro (Área do Recalque Médio do Reservatório Santa Felicidade): Boa Vista.',\n",
              "  '3'],\n",
              " ['BBOV',\n",
              "  '00142',\n",
              "  '09/10/2020 16:00',\n",
              "  '10/10/2020 16:00',\n",
              "  '11/10/2020 04:00',\n",
              "  'Campo Magro (Área do Booster Boa Vista): Boa Vista.',\n",
              "  '3'],\n",
              " ['BOSC',\n",
              "  '00142',\n",
              "  '09/10/2020 16:00',\n",
              "  '10/10/2020 16:00',\n",
              "  '11/10/2020 04:00',\n",
              "  'Campo Magro (Área do Booster Santa Cecília): Boa Vista.',\n",
              "  '3'],\n",
              " ['RAFL',\n",
              "  '00143...',\n",
              "  '09/10/2020 16:00',\n",
              "  '10/10/2020 16:00',\n",
              "  '11/10/2020 04:00',\n",
              "  'Curitiba (área do Recalque Alto do Reservatório Santa Felicidade): Butiatuvinha, Lamenha \\nPequena, Santa Felicidade.\\nAlmirante Tamandaré: Solar Tanguá, Nossa Sra. do Pilar, Tanguá.',\n",
              "  '3'],\n",
              " ['GSBR',\n",
              "  '00530',\n",
              "  '09/10/2020 16:00',\n",
              "  '10/10/2020 16:00',\n",
              "  '11/10/2020 04:00',\n",
              "  'Curitiba (Área da Gravidade do Reservatório São Braz): Cascatinha, Sta.Felicidade, São Braz',\n",
              "  '3'],\n",
              " ['RSBR',\n",
              "  '00531',\n",
              "  '09/10/2020 16:00',\n",
              "  '10/10/2020 16:00',\n",
              "  '11/10/2020 04:00',\n",
              "  'Curitiba (área do Recalque do Reservatório São Braz): Butiatuvinha, Cascatinha, Orleans, \\nSta.Felicidade, São Braz, Sto.Inácio',\n",
              "  '3'],\n",
              " ['GVGR',\n",
              "  '00670',\n",
              "  '09/10/2020 16:00',\n",
              "  '10/10/2020 16:00',\n",
              "  '11/10/2020 04:00',\n",
              "  'Curitiba (área da Gravidade do Reservatório Vila Guarani): Santa Candida, Atuba.\\nColombo: Atuba, Guarani, Rio Pequeno, Rio Verde, Campo Pequeno e Alto da Cruz, Mauá, \\nGuaraituba, Palmital, Vila Zumbi, Maracanã.',\n",
              "  '3'],\n",
              " ['RVGR',\n",
              "  '00671',\n",
              "  '09/10/2020 16:00',\n",
              "  '10/10/2020 16:00',\n",
              "  '11/10/2020 04:00',\n",
              "  'Colombo (área do Recalque do Reservatório Vila Guarani): Guaraituba, Maracanã, Guarani, \\nMonza, Atuba, Rio Pequeno, Campo Pequeno, São Gabriel',\n",
              "  '3'],\n",
              " ['RCEA',\n",
              "  '00541...',\n",
              "  '09/10/2020 16:00',\n",
              "  '10/10/2020 16:00',\n",
              "  '11/10/2020 04:00',\n",
              "  'Curitiba (área do Reservatório Ceasa): Campo de Santana, Caximba, CIC, Ganchinho, \\nTatuquara, Umbará, Sítio Cercado.',\n",
              "  '3'],\n",
              " ['RXAX',\n",
              "  '00941',\n",
              "  '09/10/2020 16:00',\n",
              "  '10/10/2020 16:00',\n",
              "  '11/10/2020 04:00',\n",
              "  'Curitiba (Área do Recalque do Reservatório Xaxim): Alto Boqueirão, Boqueirão, Ganchinho, \\nHauer, Pinheirinho, Sítio Cercado, Xaxim.',\n",
              "  '3'],\n",
              " ['GCFG',\n",
              "  '08030',\n",
              "  '09/10/2020 16:00',\n",
              "  '10/10/2020 16:00',\n",
              "  '11/10/2020 04:00',\n",
              "  'Fazenda Rio Grande (Área da Gravidade do Reservatório Centro Faz. Rio Grande): \\nEucaliptos, Hortência, Iguaçu, Nações, Santarém, Santa Terezinha.',\n",
              "  '3'],\n",
              " ['RCFG',\n",
              "  '08031',\n",
              "  '09/10/2020 16:00',\n",
              "  '10/10/2020 16:00',\n",
              "  '11/10/2020 04:00',\n",
              "  'Fazenda Rio Grande (Área do Recalque do Reservatório Centro Faz. Rio Grande): Dos \\nEstados, Iguaçu, Santa Terezinha, Jd. São Lourenço, Jd Brilhante, Jd Kokubo, Ipê, Eucaliptos, \\nNações.',\n",
              "  '3'],\n",
              " ['RRPQ',\n",
              "  'ver plan. Rodízio Rio Pequeno',\n",
              "  '09/10/2020 16:00',\n",
              "  '10/10/2020 16:00',\n",
              "  '11/10/2020 04:00',\n",
              "  'São José dos Pinhais: Parte do Roseira de S. Sebastião, Jurema, Borda do Campo (GRUPO-02)',\n",
              "  '2RPQ'],\n",
              " ['Rec. Centro + Grav \\nPapagaio + Mato \\nDentro + Rec. Monte \\nSanto',\n",
              "  '0022020101 a 0022020105   \\n0060000101 a 0061000113   \\n0023100101 a 0023100117   \\n0058100101 a 0058100107',\n",
              "  '09/10/2020 17:00',\n",
              "  '',\n",
              "  '11/10/2020 04:00',\n",
              "  'Almirante Tamandaré: Vila Sta. Terezinha, Jardim Colonial, Jardim São Domingos, Vila \\nRachel, Recantos dos Papagaios, Parte Alta Paraiso, Jardim Planalto, Jardim Valença Jardim \\nCentral , Mato Dentro, Jardim Dona Belezária, Cinthia Mara, Boixininga, Vila Pacotuba, \\nJardim Bela Vista, Planta Maria Carla, Planta Mosacal.',\n",
              "  '1ALM'],\n",
              " ['VJBS',\n",
              "  '00180102',\n",
              "  '09/10/2020 16:00',\n",
              "  '10/10/2020 16:00',\n",
              "  '11/10/2020 04:00',\n",
              "  'Colombo (área da válvula José Beira Silva): Arruda, Santa Tereza',\n",
              "  '2CSE'],\n",
              " ['VJLF',\n",
              "  '00180004',\n",
              "  '09/10/2020 16:00',\n",
              "  '10/10/2020 16:00',\n",
              "  '11/10/2020 04:00',\n",
              "  'Colombo (área da válvula José Leal Fontoura): Centro, Jardim Florença, Gabirobal',\n",
              "  '2CSE'],\n",
              " ['BUVA',\n",
              "  '001804',\n",
              "  '09/10/2020 16:00',\n",
              "  '10/10/2020 16:00',\n",
              "  '11/10/2020 04:00',\n",
              "  'Colombo (área do Booster Uvaranal): Uvaranal, Sapopema',\n",
              "  '2CSE'],\n",
              " ['BCSE',\n",
              "  '001802\\n0018000133',\n",
              "  '09/10/2020 16:00',\n",
              "  '10/10/2020 16:00',\n",
              "  '11/10/2020 04:00',\n",
              "  'Colombo (área do Booster Colombo Centro): Centro (parcial)',\n",
              "  '2CSE']]"
            ]
          },
          "metadata": {
            "tags": []
          },
          "execution_count": 62
        }
      ]
    },
    {
      "cell_type": "markdown",
      "metadata": {
        "id": "SpiOfNWvZ9Gw"
      },
      "source": [
        "A próxima etapa será juntar todas as páginas para depois extrairmos todas as datas de rodízio para a nossa região. \n",
        "O código a seguir concatena essas listas na variável table"
      ]
    },
    {
      "cell_type": "code",
      "metadata": {
        "id": "zIMeEBnPEXGj"
      },
      "source": [
        "#iterar por todas as paginas e concatenar as tabelas\n",
        "table=[]\n",
        "for i in range(len(relatorio.pages)):  \n",
        "  pagina=relatorio.pages[i]\n",
        "  table=table+pagina.extract_table() \n",
        "  "
      ],
      "execution_count": 24,
      "outputs": []
    },
    {
      "cell_type": "markdown",
      "metadata": {
        "id": "EcNSVSVYewkF"
      },
      "source": [
        "Para extrair somente as datas da região escolhida, podemos usar a primeira coluna que é o código `coluna=0` ou a sexta coluna `coluna=5` se usarmos toda a string da área/reservatório e comparar com a string da nossa região `str_procura`. É preciso descomentar qual o conjunto escolhido.\n",
        "\n",
        "O código separa as datas de início e fim do rodizio da região na variável `resultado`"
      ]
    },
    {
      "cell_type": "code",
      "metadata": {
        "id": "dTOBttI_PuhW",
        "outputId": "a166bfd3-a315-4497-eb98-74476dad96cf",
        "colab": {
          "base_uri": "https://localhost:8080/",
          "height": 119
        }
      },
      "source": [
        "# escolher método de procura pela sua região\n",
        "\n",
        "#procura por codigo\n",
        "#str_procura='RBBC'\n",
        "#coluna=0\n",
        "\n",
        "#procura por área / reservatório\n",
        "str_procura=\"Área da Gravidade do Reservatório Campo Comprido\"\n",
        "coluna=5\n",
        "\n",
        "resultado=[]\n",
        "\n",
        "for i in range(len(table)):\n",
        "  if table[i][coluna] is not None:\n",
        "    if table[i][coluna].find(str_procura)>=0:\n",
        "      # resultado encontrado, separar os dados de inicio e fim do rodizio\n",
        "      resultado.append([table[i][2],table[i][4]])\n",
        "      # salvando o local para o relatório\n",
        "      textoLocal=table[i][5]\n",
        "      print('inicio=',table[i][2],' fim=', table[i][4], textoLocal)\n",
        "      \n",
        "#adicionando nomes para as colunas\n",
        "resultado.insert(0,['Início','Fim'])\n"
      ],
      "execution_count": 160,
      "outputs": [
        {
          "output_type": "stream",
          "text": [
            "inicio= 11/10/2020 16:00  fim= 13/10/2020 04:00 Curitiba (Área da Gravidade do Reservatório Campo Comprido): Campo Comprido, Cidade \n",
            "Industrial, Mossunguê.\n",
            "inicio= 14/10/2020 16:00  fim= 16/10/2020 04:00 Curitiba (Área da Gravidade do Reservatório Campo Comprido): Campo Comprido, Cidade \n",
            "Industrial, Mossunguê.\n",
            "inicio= 17/10/2020 16:00  fim= 19/10/2020 04:00 Curitiba (Área da Gravidade do Reservatório Campo Comprido): Campo Comprido, Cidade \n",
            "Industrial, Mossunguê.\n"
          ],
          "name": "stdout"
        }
      ]
    },
    {
      "cell_type": "markdown",
      "metadata": {
        "id": "YVtdss3HMnkW"
      },
      "source": [
        "## Gerando um relatório em PDF\n",
        "Com os resultados em mãos, vamos gerar um relatório em pdf para divulgar o resultado.\n",
        "\n",
        "Para gerar um relatório em pdf será usada a biblioteca [reportlab](https://www.reportlab.com/). Vamos usar o mínimo de elementos nesse código, um texto, uma tabela e uma imagem. Para mais detalhes da biblioteca vejam o [manual de uso](https://www.reportlab.com/docs/reportlab-userguide.pdf). \n",
        "\n",
        "A biblioteca também não é padrão no Colab, então precisamos adiciona-la ao nosso projeto com `!pip install reportlab`\n",
        "\n",
        "\n",
        "\n",
        "\n"
      ]
    },
    {
      "cell_type": "code",
      "metadata": {
        "id": "IucB09PHPhbM",
        "outputId": "204fbae2-977b-4bcc-cc82-189e9fec9d00",
        "colab": {
          "base_uri": "https://localhost:8080/",
          "height": 119
        }
      },
      "source": [
        "!pip install reportlab"
      ],
      "execution_count": 17,
      "outputs": [
        {
          "output_type": "stream",
          "text": [
            "Collecting reportlab\n",
            "\u001b[?25l  Downloading https://files.pythonhosted.org/packages/7a/f8/c207f6017e8a841e1d229fd6b88b5de72884fe043bdb7e1c271b7a32d76b/reportlab-3.5.53-cp36-cp36m-manylinux2010_x86_64.whl (2.6MB)\n",
            "\u001b[K     |████████████████████████████████| 2.6MB 2.7MB/s \n",
            "\u001b[?25hRequirement already satisfied: pillow>=4.0.0 in /usr/local/lib/python3.6/dist-packages (from reportlab) (7.0.0)\n",
            "Installing collected packages: reportlab\n",
            "Successfully installed reportlab-3.5.53\n"
          ],
          "name": "stdout"
        }
      ]
    },
    {
      "cell_type": "markdown",
      "metadata": {
        "id": "O_PdXiI-2fLn"
      },
      "source": [
        "Adicionando elementos que vamos utilizar da biblioteca:"
      ]
    },
    {
      "cell_type": "code",
      "metadata": {
        "id": "2-QFnlBKQMKM"
      },
      "source": [
        "from reportlab.pdfgen import canvas\n",
        "from reportlab.platypus import Frame, Image\n",
        "from reportlab.lib.units import cm\n",
        "from reportlab.platypus import Paragraph, Frame, Table, Spacer, TableStyle\n",
        "from reportlab.lib.styles import getSampleStyleSheet\n",
        "from reportlab.lib.styles import ParagraphStyle"
      ],
      "execution_count": 105,
      "outputs": []
    },
    {
      "cell_type": "markdown",
      "metadata": {
        "id": "SVentPg_6D2T"
      },
      "source": [
        "### Entendendo a estrutura do reportlab utilizada\n",
        "Para melhor entender a estrutura de código para gerar o relatório veja a figura a seguir.\n",
        "\n",
        "O `Canvas` é uma tela A4 (com uma margem interna)\n",
        "\n",
        "Vamos adicionar um `Frame` que é um container de elementos nesse `Canvas` a 3 cm de distância da margem esquerda e a 12 cm de distância da margem inferior. As distãncias são relativas a posição (0,0) no canto inferior esquedo.\n",
        "\n",
        "\n",
        "Dentro do `Frame` montamos uma `Story`, que é uma sequência de elementos: \n",
        "\n",
        "- Parágrafo 1: texto padrão\n",
        "- Parágrafo 2: criada a partir do texto da região procurada\n",
        "- Tabela: criada a partir da tabela de resultados \n",
        "- Imagem: criada a partir de um link\n",
        "\n",
        "Foram adicionados espaçamentos (`Spacer`) entre os elementos\n",
        "\n",
        "![picture](https://github.com/cesarofuchi/python_projects/blob/master/sanepar/img/reportlab.JPG?raw=true)\n",
        "\n",
        "\n",
        "\n",
        "\n",
        "\n"
      ]
    },
    {
      "cell_type": "markdown",
      "metadata": {
        "id": "Qlv3wJQCe5HD"
      },
      "source": [
        "### Código\n",
        "Deixei o código inteiro para que seja mais fácil editar as posições e estilos dos elementos, e gerar um pdf novo. Assim pode-se aprender na prática o que cada mudança nos elementos provoca.\n",
        "\n",
        "Ao final do processo é gerado um pdf com informações sobre a sua região e o horário de início e fim do rodízio."
      ]
    },
    {
      "cell_type": "code",
      "metadata": {
        "id": "kbCLIBbP3Cf9",
        "outputId": "6c0d65eb-9df9-40fc-9fb8-03d408dd921b",
        "colab": {
          "base_uri": "https://localhost:8080/",
          "height": 34
        }
      },
      "source": [
        "#criação do Canvas\n",
        "nome_pdf = \"rodizio_sanepar.pdf\" \n",
        "c = canvas.Canvas(nome_pdf)\n",
        "c.setTitle(nome_pdf)\n",
        "\n",
        "#Criação da tabela a partir do resultado\n",
        "rtable=Table(resultado)\n",
        " # propriedades da tabela\n",
        "t_fontsize=16\n",
        "t_leading=table_size+2\n",
        "\n",
        "rtable.setStyle(TableStyle([\n",
        "  ('LEADING', (0, 0), (-1, -1), t_leading),\n",
        "  ('SIZE', (0, 0), (-1, -1), t_fontsize),\n",
        "  ('INNERGRID', (0, 0), (-1, -1), 0.25, colors.black),\n",
        "  ('BOX', (0, 0), (-1, -1), 0.25, colors.black)\n",
        "]))\n",
        "###############################################################\n",
        "# padrão é formato A4 (21 cm)\n",
        "# posição em CM, posição (0,0) canto inferior esquerdo\n",
        "\n",
        "# estilo do paragrafo 1        \n",
        "titleFormat = '<font size=\"18\" name=\"Helvetica\" color=\"rgb(0, 89, 164)\"><b>%s</b></font>'\n",
        "style = getSampleStyleSheet()['Normal']\n",
        "style.leading = 24\n",
        "\n",
        "# paragrafo 1\n",
        "p1 = Paragraph(titleFormat % 'RODÍZIO DE ABASTECIMENTO', style)\n",
        "\n",
        "# estilo do paragrafo 2\n",
        "titleFormat = '<font size=\"16\" name=\"Helvetica\" color=black><i>%s</i></font>'\n",
        "# paragrafo 2 \n",
        "p2 = Paragraph(titleFormat % textoLocal, style)\n",
        "\n",
        "# imagem \n",
        "im=Image(\"https://github.com/cesarofuchi/python_projects/blob/main/sanepar/img/banner_20porcento.jpg?raw=true\")\n",
        "# restrição de tamanho para reduzir a imagem de forma proporcional\n",
        "im._restrictSize(10 * cm, 12 * cm)\n",
        "im.hAlign = 'RIGHT'\n",
        "\n",
        "# story com os elementos espaçados        \n",
        "story = [p1,\n",
        "         Spacer(1, 10),\n",
        "         p2,\n",
        "         Spacer(1, 10),\n",
        "         rtable,\n",
        "         Spacer(10, 30),\n",
        "         im]\n",
        "\n",
        "# criação do Frame\n",
        "f = Frame(3*cm, 12*cm, 16 * cm, 16 * cm)\n",
        "# adicionando o Frame (com Story) ao Canvas\n",
        "f.addFromList(story,c)\n",
        "\n",
        "# salvando no diretório local\n",
        "c.save()\n",
        "print('{}.pdf criado com sucesso!'.format(nome_pdf))"
      ],
      "execution_count": 163,
      "outputs": [
        {
          "output_type": "stream",
          "text": [
            "rodizio_sanepar.pdf.pdf criado com sucesso!\n"
          ],
          "name": "stdout"
        }
      ]
    }
  ]
}