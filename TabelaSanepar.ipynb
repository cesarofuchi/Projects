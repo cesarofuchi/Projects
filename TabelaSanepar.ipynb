{
  "nbformat": 4,
  "nbformat_minor": 0,
  "metadata": {
    "colab": {
      "name": "TabelaSanepar.ipynb",
      "provenance": [],
      "collapsed_sections": [],
      "toc_visible": true,
      "include_colab_link": true
    },
    "kernelspec": {
      "name": "python3",
      "display_name": "Python 3"
    }
  },
  "cells": [
    {
      "cell_type": "markdown",
      "metadata": {
        "id": "view-in-github",
        "colab_type": "text"
      },
      "source": [
        "<a href=\"https://colab.research.google.com/github/cesarofuchi/Projects/blob/main/TabelaSanepar.ipynb\" target=\"_parent\"><img src=\"https://colab.research.google.com/assets/colab-badge.svg\" alt=\"Open In Colab\"/></a>"
      ]
    },
    {
      "cell_type": "markdown",
      "metadata": {
        "id": "j69yxmKl_kkn"
      },
      "source": [
        "<h1> Relatório com previsão de rodizio de água para sua região em Curitiba</h1>\n",
        "\n",
        "A seca pelo qual Curitiba e região metropolitana esta passando pode estar longe de acabar. A Sanepar tem feito um esforço para divulgar o META 20 para economizarmos 20% de água e assim diminuirmos o tempo de rodízio. Os rodízios de água mudam de acordo com os níveis de água dos reservatórios. No meu condomínio o rodízio é avisado no dia por whatsapp, e se você for como eu, que não se informa como deveria, tem que ficar revisando as mensagens para ter certeza de quando começa e quando termina. \n",
        "\n",
        "Pelo site da [Sanepar](http://site.sanepar.com.br/mapa-rodizio-abastecimento-curitiba-rmc) é possível verificar pelo endereço como está a previsão do abastecimento em sua região. Porém ele só informa quando será o próximo rodízio.\n",
        " \n",
        "![picture](https://github.com/cesarofuchi/Projects/blob/main/sanepar/img/banner_20porcento.jpg?raw=true)\n",
        "\n",
        "## Obtendo os dados\n",
        "Acontece que na [agência estadual de notícias](http://www.aen.pr.gov.br/)  existe uma [tabela](http://www.aen.pr.gov.br/arquivos/0910rodizioatualizada.pdf) mais detalhada, com uma previsão maior das datas de rodízio. \n",
        "\n",
        "\n",
        "![picture](https://github.com/cesarofuchi/Projects/blob/main/sanepar/img/Tabela.JPG?raw=true)\n",
        "\n",
        "A tabela possui as datas de início e término do rodízio, quais os bairros afetados e o Grupo do rodízio. Em Curitiba, atualmente temos 3 grupos, mas isso já mudou antes também. \n",
        "\n",
        "Um mesmo bairro pode ter dias diferentes de rodízio, então é preciso se informar qual o seu reservatório de abastecimento, fazendo uma procura pelo bairro e pelas datas de início e término do rodízio (pode conferir pelo site da sanepar isso). \n",
        "\n",
        "Feito isso podemos usar o identificador da primeira coluna ou o nome da sua área (na penúltima coluna) para saber qual a sua micro-região. \n",
        "\n",
        "Exemplo: RISO - (Área do Recalque do Reservatório Iguaçu)\n",
        "\n",
        "# Atualização 16/10\n",
        "\n",
        "[tabela 16/10](http://www.aen.pr.gov.br/arquivos/1610_rodiziormc.pdf)\n",
        "\n",
        "- Nessa atualização foram retirados os códigos de cada região. Portanto devemos procurar apenas pela string da região.\n",
        "- Tabelas separadas em uma mesma página: O código foi atualizado para que funcione com mais de  uma tabela por página\n",
        "\n",
        "\n",
        "#Continuando ...\n",
        "Munidos dessa informação vamos extrair as datas da sua região e gerar um relatório em PDF para você imprimir, deixar no elevador, na geladeira, ou simplemente deixar no celular para avaliar as datas em que faltará água na sua casa.\n",
        "\n",
        "Primeiramente devemos fazer o download da tabela para deixar aqui na maquina virtual. Esse link irá mudar de tempos em tempo, então procure a mais atualizada.\n",
        "\n",
        "Vou usar a biblioteca requests para salvar o arquivo na maquina local."
      ]
    },
    {
      "cell_type": "markdown",
      "metadata": {
        "id": "T2ZKYiaSduZa"
      },
      "source": [
        ""
      ]
    },
    {
      "cell_type": "code",
      "metadata": {
        "id": "31D-iKgR8oCr"
      },
      "source": [
        "import requests\n",
        "#import textract\n",
        "response = requests.get(\"http://www.aen.pr.gov.br/arquivos/1610_rodiziormc.pdf\")\n",
        "#myfile = open(\"out.pdf\", \"w\")\n",
        "\n",
        "with open('document.pdf', 'wb') as fw:\n",
        "    fw.write(response.content)\n"
      ],
      "execution_count": null,
      "outputs": []
    },
    {
      "cell_type": "markdown",
      "metadata": {
        "id": "y8xA3KMT_T3M"
      },
      "source": [
        "A tabela está salva como \"document.pdf\"\n",
        "\n",
        "## Extração dos dados da tabela em PDF\n",
        "\n",
        "\n",
        "Para extrar e manipular os dados da tabela será utilizada a biblioteca de Python [PDF Plumber](https://github.com/jsvine/pdfplumber). Ela possui uma grande gama de funções e argumentos, e aqui nós vamos começar a nos aventurar com essas funções.\n",
        "\n",
        "Lembrando: Nativamente, o Google Colab não possui essa biblioteca instalada, então nós precisamos instalar a mesma no nosso ambiente.\n",
        "\n",
        "Para isso, vamos utilizar o gerenciador de pacotes pip, e com o comando install vamos instalar a biblioteca."
      ]
    },
    {
      "cell_type": "code",
      "metadata": {
        "id": "3ilgWH859w8a",
        "outputId": "71e141f1-06ca-45a1-fd9f-f4be77eeb499",
        "colab": {
          "base_uri": "https://localhost:8080/",
          "height": 136
        }
      },
      "source": [
        "!pip install pdfplumber"
      ],
      "execution_count": null,
      "outputs": [
        {
          "output_type": "stream",
          "text": [
            "Requirement already satisfied: pdfplumber in /usr/local/lib/python3.6/dist-packages (0.5.23)\n",
            "Requirement already satisfied: Pillow>=7.0.0 in /usr/local/lib/python3.6/dist-packages (from pdfplumber) (7.0.0)\n",
            "Requirement already satisfied: pdfminer.six==20200517 in /usr/local/lib/python3.6/dist-packages (from pdfplumber) (20200517)\n",
            "Requirement already satisfied: Wand in /usr/local/lib/python3.6/dist-packages (from pdfplumber) (0.6.3)\n",
            "Requirement already satisfied: pycryptodome in /usr/local/lib/python3.6/dist-packages (from pdfminer.six==20200517->pdfplumber) (3.9.8)\n",
            "Requirement already satisfied: sortedcontainers in /usr/local/lib/python3.6/dist-packages (from pdfminer.six==20200517->pdfplumber) (2.2.2)\n",
            "Requirement already satisfied: chardet; python_version > \"3.0\" in /usr/local/lib/python3.6/dist-packages (from pdfminer.six==20200517->pdfplumber) (3.0.4)\n"
          ],
          "name": "stdout"
        }
      ]
    },
    {
      "cell_type": "markdown",
      "metadata": {
        "id": "syIqqYvOUI8H"
      },
      "source": [
        "### pdfplumber.open()\n",
        "\n",
        "Para abrir um arquivo, vamos associá-lo a uma variável, para que ele possa ser facilmente acessado depois.\n",
        "\n",
        "Utilizamos o comando `pdfplumber.open('caminho/do/meu/arquivo')` com o caminho do arquivo dentro dos parênteses, dentro de aspas, simples ou duplas."
      ]
    },
    {
      "cell_type": "code",
      "metadata": {
        "id": "RLMvsb0CDpJu"
      },
      "source": [
        "#biblioteca para manipular arquivos\n",
        "import pdfplumber"
      ],
      "execution_count": null,
      "outputs": []
    },
    {
      "cell_type": "code",
      "metadata": {
        "id": "79HPMu-bK1ik"
      },
      "source": [
        "#carregar a tabela em pdf\n",
        "pdf = pdfplumber.open(\"document.pdf\")"
      ],
      "execution_count": null,
      "outputs": []
    },
    {
      "cell_type": "markdown",
      "metadata": {
        "id": "f6haIldHUf2a"
      },
      "source": [
        "### pages\n",
        "Para acessar as páginas existentes no arquivo, utilizamos a função `pages`.\n",
        "\n",
        "Ela retorna uma lista com as páginas do arquivo.\n",
        "\n",
        "Perceba que a tabela de rodízio possui muitas páginas"
      ]
    },
    {
      "cell_type": "code",
      "metadata": {
        "id": "NCNtk4tuUnEY",
        "outputId": "6e02a5db-04ad-4818-f3c4-47581e0a533c",
        "colab": {
          "base_uri": "https://localhost:8080/",
          "height": 527
        }
      },
      "source": [
        "pdf.pages"
      ],
      "execution_count": null,
      "outputs": [
        {
          "output_type": "execute_result",
          "data": {
            "text/plain": [
              "[<Page:1>,\n",
              " <Page:2>,\n",
              " <Page:3>,\n",
              " <Page:4>,\n",
              " <Page:5>,\n",
              " <Page:6>,\n",
              " <Page:7>,\n",
              " <Page:8>,\n",
              " <Page:9>,\n",
              " <Page:10>,\n",
              " <Page:11>,\n",
              " <Page:12>,\n",
              " <Page:13>,\n",
              " <Page:14>,\n",
              " <Page:15>,\n",
              " <Page:16>,\n",
              " <Page:17>,\n",
              " <Page:18>,\n",
              " <Page:19>,\n",
              " <Page:20>,\n",
              " <Page:21>,\n",
              " <Page:22>,\n",
              " <Page:23>,\n",
              " <Page:24>,\n",
              " <Page:25>,\n",
              " <Page:26>,\n",
              " <Page:27>,\n",
              " <Page:28>,\n",
              " <Page:29>,\n",
              " <Page:30>]"
            ]
          },
          "metadata": {
            "tags": []
          },
          "execution_count": 5
        }
      ]
    },
    {
      "cell_type": "code",
      "metadata": {
        "id": "xJL-L3b4U6Nr",
        "outputId": "3bc49573-f60d-46dc-c5ff-ade5dc43828c",
        "colab": {
          "base_uri": "https://localhost:8080/",
          "height": 102
        }
      },
      "source": [
        "pdf.metadata"
      ],
      "execution_count": null,
      "outputs": [
        {
          "output_type": "execute_result",
          "data": {
            "text/plain": [
              "{'Author': 'Edymilson Luiz Dos Santos',\n",
              " 'CreationDate': \"D:20201016073727-03'00'\",\n",
              " 'Creator': 'Microsoft® Excel® 2013',\n",
              " 'ModDate': \"D:20201016073727-03'00'\",\n",
              " 'Producer': 'Microsoft® Excel® 2013'}"
            ]
          },
          "metadata": {
            "tags": []
          },
          "execution_count": 6
        }
      ]
    },
    {
      "cell_type": "markdown",
      "metadata": {
        "id": "P2HdKoJDYUDP"
      },
      "source": [
        "### extract_text()\n",
        "Para extrair um texto de um pdf utilizamos a função `extract_text`\n",
        "\n",
        "Ela retorna o texto em formato string para buscar a informação. Em geral esse processa implica em separar as linhas, procurar por expressões regulares 'regex', etc."
      ]
    },
    {
      "cell_type": "code",
      "metadata": {
        "id": "U3rFJL40LCOX",
        "outputId": "30da9b07-5705-406f-e41e-5769a1e1853f",
        "colab": {
          "base_uri": "https://localhost:8080/",
          "height": 120
        }
      },
      "source": [
        "# abrir a primeira pagina do documento\n",
        "pagina = pdf.pages[0]\n",
        "texto = pagina.extract_text()\n",
        "texto"
      ],
      "execution_count": null,
      "outputs": [
        {
          "output_type": "execute_result",
          "data": {
            "application/vnd.google.colaboratory.intrinsic+json": {
              "type": "string"
            },
            "text/plain": [
              "\"16 de Outubro de 2020\\nInício Normalização Bairros afetados Grupo\\nCuritiba (área do Recalque Salgado Filho do Reservatório Iguaçu): Uberaba, Cajuru.\\nSão José Pinhais: Cidade Jardim.\\n16/10/2020 16:00 18/10/2020 04:00 1\\nCuritiba (área do Recalque do Reservatório  Iguaçú): Cajuru\\n16/10/2020 16:00 18/10/2020 04:00 1\\nSão José dos Pinhais  (área do Recalque do Reservatório Iguaçú): Guatupê, Ipê\\n16/10/2020 16:00 18/10/2020 04:00 1\\nSão José dos Pinhais  (área do Booster Santa Fé): Guatupê, Academia, Cristal.\\n16/10/2020 16:00 18/10/2020 04:00 1\\nPiraquara (Área do Recalque do Reservatório Guarituba Redondo): Jardim Tarumã, Vila Lori, Jardim Das \\nOrquídeas, Jardim Tocantins, Jardim Urussanga, Jardim Santa Clara, Vila Mariana, Planta Monte Líbano, Vila \\nHolandesa, Planta Amazonas, Planta Terezinha, Jardim Trianon, Jardim Santa Helena, Bosque Pinheiro e Fazenda \\n16/10/2020 16:00 18/10/2020 04:00 1\\nGuarituba\\nCuritiba (área da Gravidade do Reservatório Bairro Alto): Bacacheri, Bairro Alto, Jardim Social, Tarumã, Capão da \\n16/10/2020 16:00 18/10/2020 04:00 Imbuia. 1\\nCuritiba (área do Recalque do Reservatório Bairro Alto): Bairro Alto, Tarumã, Capão da Imbuia, Bacacheri, Jardim \\nSocial\\n16/10/2020 16:00 18/10/2020 04:00 1\\nColombo: Atuba\\nSão José dos Pinhais (área da Gravidade Aeroporto): Afonso Pena, Aviação, Boneca do Iguaçu.\\n16/10/2020 16:00 18/10/2020 04:00 1\\nSão José dos Pinhais (Área do Recalque do Reservatório Aeroporto): Afonso Pena, Águas Belas, I\\nndependencia, Boneca do Iguaçú, Iná, Aviação, Aristocrata, Guatupê, Rio Pequeno.\\n16/10/2020 16:00 18/10/2020 04:00 1\\nPinhais (Área do Recalque do Reservatório Vila Amélia): Esperança, Rural, Vila Amélia 1 e 2.\\n16/10/2020 16:00 18/10/2020 04:00 1\\nPinhais (Área do Recalque do Reservatório da ETA Iraí): Rural, Vila Amélia 1 e 2, Maria Antonieta, Jardim \\nTropical, Planta Santa Catarina, Vila Nova, Bairro Holandês, Alves Corrêa, Jardim Havaí.\\n16/10/2020 16:00 18/10/2020 04:00 1\\nPiraquara (Área do Recalque do Reservatório da ETA Iraí): Guarituba.\\nCuritiba (Área do Recalque do Reservatório Tarumã): Tarumã e Capão da Imbuia\\n16/10/2020 16:00 18/10/2020 04:00 1\\nCuritiba (área do Recalque Alto do Reservatório Santa Cândida): Cachoeira, Barrerinha, Sta.Cândida\\n16/10/2020 16:00 18/10/2020 04:00 1\\nCuritiba (área do Recalque Alto do Reservatório Bacacheri): Barrerinha, Ahú, Boa Vista, São Lourenço\\n16/10/2020 16:00 18/10/2020 04:00 1\\nCuritiba (área do Recalque do Booster Santa Efigênia): Barrerinha, Cachoeira, Abranches.\\n16/10/2020 16:00 18/10/2020 04:00 1\\nCuritiba (Área da Gravidade do Reservatório Mercês): Abranches, Bigorrilho, Bom Retiro, Mercê\\n16/10/2020 16:00 18/10/2020 04:00 s, Pilarzinho, São Francisco, São Lourenço, Vista Alegre, Cascatinha, São João. 1\\nCuritiba (Área do Recalque do Reservatório Mercês): Abranches, Bom Retiro, Mercês, Pilarzinho, São Lourenço, \\n16/10/2020 16:00 18/10/2020 04:00 Vista Alegre, Cascatinha. 1\\nCuritiba (área da Gravidade do Reservatório Batel): Bigorrilho, Camp.Siqueira, Semináro, Batel, Mercês, Centro.\\n16/10/2020 16:00 18/10/2020 04:00 1\\nCuritiba (área do Recalque para Cachoeira do Reservatório Santa Cândida): Barrerinha, Boa Vista, São Lourenço.\\n16/10/2020 16:00 18/10/2020 04:00 1\\nAlmirante Tamandaré (área do Booster Barreirinha): Lamenha Grande. \\nCuritiba: Abranches, Pilarzinho, Taboão, Barrerinha.\\n16/10/2020 16:00 18/10/2020 04:00 1\\nAlmirante Tamandaré (área da Gravidade do Reservatório Cachoeira): São Jorge,Colonia Prado, Graziele, \\n16/10/2020 16:00 18/10/2020 04:00 Cachoeira, Jardim Graziele, Prado. 1\\nCuritiba: Cachoeira.\\nAlmirante Tamandaré (área do Recalque do Reservatório Cachoeira): Cachoeira\\nCuritiba: Cachoeira\\n16/10/2020 16:00 18/10/2020 04:00 1\\nCampina Grande do Sul (área do Recalque do Reservatório Jardim Araçatuba): (COHAPAR) Cicamp, Área \\nIndustrial Pocinho, Área Industrial Riachuelo, Área Industrial São Paulo, Área Industrial Sede, Área Remanescente, \\nCacaiguera, Chácaras Olhos D'Água, Jardim João Paulo II, Jardim Araçatuba, Jardim da Campina, Jardim da Colina, \\nJardim Daher, Jardim Diamante, Jardim Sta. Angelina, Jardim Sta. Rosa, Mitra, Recanto Verde, Sta. Rita de Cássia, \\n16/10/2020 16:00 18/10/2020 04:00 1\\nSede Campina Grande, Centro, Nova Campina, Lagoão, Rancho Alegre.\\nQuatro Barras: Centro (Área industrial)\\nColombo (Área do Recalque do Reservatório Colônia Faria): Monte Castelo, Colônia Faria, Rincão, Canguiri, \\n16/10/2020 16:00 18/10/2020 04:00 Guaraituba. 1\""
            ]
          },
          "metadata": {
            "tags": []
          },
          "execution_count": 7
        }
      ]
    },
    {
      "cell_type": "markdown",
      "metadata": {
        "id": "WWYz8BHMTjVj"
      },
      "source": [
        "###extract_table()\n",
        "Para o caso de planilhas em pdf (como é o caso da [tabela](http://www.aen.pr.gov.br/arquivos/0910rodizioatualizada.pdf) de rodízio) existe uma função mais apropriada chamada `extract_table`, que retorna os dados em formato de lista"
      ]
    },
    {
      "cell_type": "code",
      "metadata": {
        "id": "oo3yE1kmpKII",
        "outputId": "f609ce2b-cde0-4d14-9f8a-1d8bb25ee088",
        "colab": {
          "base_uri": "https://localhost:8080/",
          "height": 1000
        }
      },
      "source": [
        "pdf.pages[0].extract_table()"
      ],
      "execution_count": null,
      "outputs": [
        {
          "output_type": "execute_result",
          "data": {
            "text/plain": [
              "[['16 de Outubro de 2020', None, None, ''],\n",
              " ['Início', 'Normalização', 'Bairros afetados', 'Grupo'],\n",
              " ['16/10/2020 16:00',\n",
              "  '18/10/2020 04:00',\n",
              "  'Curitiba (área do Recalque Salgado Filho do Reservatório Iguaçu): Uberaba, Cajuru.\\nSão José Pinhais: Cidade Jardim.',\n",
              "  '1'],\n",
              " ['16/10/2020 16:00',\n",
              "  '18/10/2020 04:00',\n",
              "  'Curitiba (área do Recalque do Reservatório  Iguaçú): Cajuru',\n",
              "  '1'],\n",
              " ['16/10/2020 16:00',\n",
              "  '18/10/2020 04:00',\n",
              "  'São José dos Pinhais  (área do Recalque do Reservatório Iguaçú): Guatupê, Ipê',\n",
              "  '1'],\n",
              " ['16/10/2020 16:00',\n",
              "  '18/10/2020 04:00',\n",
              "  'São José dos Pinhais  (área do Booster Santa Fé): Guatupê, Academia, Cristal.',\n",
              "  '1'],\n",
              " ['16/10/2020 16:00',\n",
              "  '18/10/2020 04:00',\n",
              "  'Piraquara (Área do Recalque do Reservatório Guarituba Redondo): Jardim Tarumã, Vila Lori, Jardim Das \\nOrquídeas, Jardim Tocantins, Jardim Urussanga, Jardim Santa Clara, Vila Mariana, Planta Monte Líbano, Vila \\nHolandesa, Planta Amazonas, Planta Terezinha, Jardim Trianon, Jardim Santa Helena, Bosque Pinheiro e Fazenda \\nGuarituba',\n",
              "  '1'],\n",
              " ['16/10/2020 16:00',\n",
              "  '18/10/2020 04:00',\n",
              "  'Curitiba (área da Gravidade do Reservatório Bairro Alto): Bacacheri, Bairro Alto, Jardim Social, Tarumã, Capão da \\nImbuia.',\n",
              "  '1'],\n",
              " ['16/10/2020 16:00',\n",
              "  '18/10/2020 04:00',\n",
              "  'Curitiba (área do Recalque do Reservatório Bairro Alto): Bairro Alto, Tarumã, Capão da Imbuia, Bacacheri, Jardim \\nSocial\\nColombo: Atuba',\n",
              "  '1'],\n",
              " ['16/10/2020 16:00',\n",
              "  '18/10/2020 04:00',\n",
              "  'São José dos Pinhais (área da Gravidade Aeroporto): Afonso Pena, Aviação, Boneca do Iguaçu.',\n",
              "  '1'],\n",
              " ['16/10/2020 16:00',\n",
              "  '18/10/2020 04:00',\n",
              "  'São José dos Pinhais (Área do Recalque do Reservatório Aeroporto): Afonso Pena, Águas Belas, I\\nndependencia, Boneca do Iguaçú, Iná, Aviação, Aristocrata, Guatupê, Rio Pequeno.',\n",
              "  '1'],\n",
              " ['16/10/2020 16:00',\n",
              "  '18/10/2020 04:00',\n",
              "  'Pinhais (Área do Recalque do Reservatório Vila Amélia): Esperança, Rural, Vila Amélia 1 e 2.',\n",
              "  '1'],\n",
              " ['16/10/2020 16:00',\n",
              "  '18/10/2020 04:00',\n",
              "  'Pinhais (Área do Recalque do Reservatório da ETA Iraí): Rural, Vila Amélia 1 e 2, Maria Antonieta, Jardim \\nTropical, Planta Santa Catarina, Vila Nova, Bairro Holandês, Alves Corrêa, Jardim Havaí.\\nPiraquara (Área do Recalque do Reservatório da ETA Iraí): Guarituba.',\n",
              "  '1'],\n",
              " ['16/10/2020 16:00',\n",
              "  '18/10/2020 04:00',\n",
              "  'Curitiba (Área do Recalque do Reservatório Tarumã): Tarumã e Capão da Imbuia',\n",
              "  '1'],\n",
              " ['16/10/2020 16:00',\n",
              "  '18/10/2020 04:00',\n",
              "  'Curitiba (área do Recalque Alto do Reservatório Santa Cândida): Cachoeira, Barrerinha, Sta.Cândida',\n",
              "  '1'],\n",
              " ['16/10/2020 16:00',\n",
              "  '18/10/2020 04:00',\n",
              "  'Curitiba (área do Recalque Alto do Reservatório Bacacheri): Barrerinha, Ahú, Boa Vista, São Lourenço',\n",
              "  '1'],\n",
              " ['16/10/2020 16:00',\n",
              "  '18/10/2020 04:00',\n",
              "  'Curitiba (área do Recalque do Booster Santa Efigênia): Barrerinha, Cachoeira, Abranches.',\n",
              "  '1'],\n",
              " ['16/10/2020 16:00',\n",
              "  '18/10/2020 04:00',\n",
              "  'Curitiba (Área da Gravidade do Reservatório Mercês): Abranches, Bigorrilho, Bom Retiro, Mercê\\ns, Pilarzinho, São Francisco, São Lourenço, Vista Alegre, Cascatinha, São João.',\n",
              "  '1'],\n",
              " ['16/10/2020 16:00',\n",
              "  '18/10/2020 04:00',\n",
              "  'Curitiba (Área do Recalque do Reservatório Mercês): Abranches, Bom Retiro, Mercês, Pilarzinho, São Lourenço, \\nVista Alegre, Cascatinha.',\n",
              "  '1'],\n",
              " ['16/10/2020 16:00',\n",
              "  '18/10/2020 04:00',\n",
              "  'Curitiba (área da Gravidade do Reservatório Batel): Bigorrilho, Camp.Siqueira, Semináro, Batel, Mercês, Centro.',\n",
              "  '1'],\n",
              " ['16/10/2020 16:00',\n",
              "  '18/10/2020 04:00',\n",
              "  'Curitiba (área do Recalque para Cachoeira do Reservatório Santa Cândida): Barrerinha, Boa Vista, São Lourenço.',\n",
              "  '1'],\n",
              " ['16/10/2020 16:00',\n",
              "  '18/10/2020 04:00',\n",
              "  'Almirante Tamandaré (área do Booster Barreirinha): Lamenha Grande. \\nCuritiba: Abranches, Pilarzinho, Taboão, Barrerinha.',\n",
              "  '1'],\n",
              " ['16/10/2020 16:00',\n",
              "  '18/10/2020 04:00',\n",
              "  'Almirante Tamandaré (área da Gravidade do Reservatório Cachoeira): São Jorge,Colonia Prado, Graziele, \\nCachoeira, Jardim Graziele, Prado.\\nCuritiba: Cachoeira.',\n",
              "  '1'],\n",
              " ['16/10/2020 16:00',\n",
              "  '18/10/2020 04:00',\n",
              "  'Almirante Tamandaré (área do Recalque do Reservatório Cachoeira): Cachoeira\\nCuritiba: Cachoeira',\n",
              "  '1'],\n",
              " ['16/10/2020 16:00',\n",
              "  '18/10/2020 04:00',\n",
              "  \"Campina Grande do Sul (área do Recalque do Reservatório Jardim Araçatuba): (COHAPAR) Cicamp, Área \\nIndustrial Pocinho, Área Industrial Riachuelo, Área Industrial São Paulo, Área Industrial Sede, Área Remanescente, \\nCacaiguera, Chácaras Olhos D'Água, Jardim João Paulo II, Jardim Araçatuba, Jardim da Campina, Jardim da Colina, \\nJardim Daher, Jardim Diamante, Jardim Sta. Angelina, Jardim Sta. Rosa, Mitra, Recanto Verde, Sta. Rita de Cássia, \\nSede Campina Grande, Centro, Nova Campina, Lagoão, Rancho Alegre.\\nQuatro Barras: Centro (Área industrial)\",\n",
              "  '1'],\n",
              " ['16/10/2020 16:00',\n",
              "  '18/10/2020 04:00',\n",
              "  'Colombo (Área do Recalque do Reservatório Colônia Faria): Monte Castelo, Colônia Faria, Rincão, Canguiri, \\nGuaraituba.',\n",
              "  '1']]"
            ]
          },
          "metadata": {
            "tags": []
          },
          "execution_count": 8
        }
      ]
    },
    {
      "cell_type": "markdown",
      "metadata": {
        "id": "1aDwBuXkpUJ1"
      },
      "source": [
        "###find_tables()\n",
        "\n",
        "Existem casos em que existem planilhas separadas na mesma página. A função `extract_table` somente retorna a maior tabela da página. Portanto devemos procurar essas planilhas pela função `find_table` e procurar se existem mais de uma tabela dentro da página na variável `tablesPage`. Dessa forma adicionamos mais um nível de tabelas no loop."
      ]
    },
    {
      "cell_type": "code",
      "metadata": {
        "id": "lIKYl7v-DMhd",
        "outputId": "6e3c504a-8676-41e7-b443-7be5c5938c1f",
        "colab": {
          "base_uri": "https://localhost:8080/",
          "height": 1000
        }
      },
      "source": [
        "tableTest=[] \n",
        "#exemplo em que existe mais de uma tabela \n",
        "tablesPage=pdf.pages[1].find_tables()\n",
        "  #podem existir mais de uma tabela na mesma pagina\n",
        "for j in range(len(tablesPage)):\n",
        "  tableTest=tableTest+tablesPage[j].extract(x_tolerance = 1) \n",
        "tableTest"
      ],
      "execution_count": null,
      "outputs": [
        {
          "output_type": "execute_result",
          "data": {
            "text/plain": [
              "[['16/10/2020 16:00',\n",
              "  '18/10/2020 04:00',\n",
              "  'Campina Grande do Sul (Área do Recalque Faria - Jd. Nezita do Reservatório Colônia Faria): Eugênia Maria, Vila \\nChacrinha, Vila Sta.Cecilia, Jardim Graciosa, Jardim Paulista, Jardim Nossa Sra das Graças, Joana Olimpia, \\nMoradias Timbu, Sta. Rita de Cassia, Oswaldo Florêncio, Vila Cosme.\\nColombo (Área do Recalque Faria - Jd. Nezita do Reservatório Colônia Faria): Bella Vista, Parque Industrial, \\nCanguiri.\\nQuatro Barrras (Área do Recalque Faria - Jd. Nezita do Reservatório Colônia Faria): Graciosa, Nossa Sra. Das \\nGraças, Jarim Menino Deus, Jardim Creplive, Patrícia, Maria Alice, Menino Deus, Centro, Pousada 4 Barras, Centro, \\nJardim Orestes Tha, Loteamento Bosque Merhy, Itapira, Chácaras São Sebastião, Florestal, Jardim Acassia, \\nCapininha, São Pedro.\\nPinhais (Área do Recalque Faria - Jd. Nezita do Reservatório Colônia Faria): IAPAR, Palmital',\n",
              "  '1'],\n",
              " ['16/10/2020 16:00',\n",
              "  '18/10/2020 04:00',\n",
              "  'Campina Grande do Sul (Área do Recalque do Reservatório Jardim Nezita): Jardim Graciosa, Jardim Ipanema, \\nJardim Nezita, Jardim Paulista, Jardim Sta. Fé, Jardim Nossa Sra. das Graças, Timbu Velho, Vila Cosme.\\nQuatro Barras (Área do Recalque do Reservatório Jardim Nezita): Graciosa, Nossa Sra. das Graças, Jardim \\nMenino Deus.',\n",
              "  '1'],\n",
              " ['16/10/2020 16:00',\n",
              "  '18/10/2020 04:00',\n",
              "  'Curitiba (Área da Gravidade do Reservatório da ETA Passaúna): Cidade Industrial, Fazendinha.',\n",
              "  '1'],\n",
              " ['16/10/2020 16:00',\n",
              "  '18/10/2020 04:00',\n",
              "  'Araucária (área do Recalque do Reservatório Passaúna): Barigui, Thomaz Coelho, Capela Velha, Sabiá, \\nTindiquera, Costeira, Cachoeira, S.Miguel, Olaria, J.Las Vegas, Arvoredo, Jatobá, Panamérica, J.Atenas.\\nCuritiba: Cidade Industrial, São Miguel, Augusta.',\n",
              "  '1'],\n",
              " ['16/10/2020 16:00',\n",
              "  '18/10/2020 04:00',\n",
              "  'Araucária (área do Recalque do Reservatório Araucária Sabiá): Boqueirão, Cachoeira, Capela Velha, Centro, \\nCosteira, Estação, Fazenda Velha, Laranjeiras, Passaúna, Sabiá, Vila Nova, D. Victoria, Jd. Plinio',\n",
              "  '1'],\n",
              " ['16/10/2020 16:00',\n",
              "  '18/10/2020 04:00',\n",
              "  'Araucária (área do Recalque do Reservatório Araucária Centro): Cachoeira, Centro, Iguaçu.',\n",
              "  '1'],\n",
              " ['16/10/2020 16:00',\n",
              "  '18/10/2020 04:00',\n",
              "  'Araucária (área do Booster Bela Vista): Campo Redondo, Palmital, Botiatuva.',\n",
              "  '1'],\n",
              " ['16/10/2020 16:00',\n",
              "  '18/10/2020 04:00',\n",
              "  'Curitiba (área da Gravidade do Reservatório Portão): Água Verde, Guaira, Fanny, Lindoia, Novo Mundo, Capão \\nRaso.',\n",
              "  '1'],\n",
              " ['16/10/2020 16:00',\n",
              "  '18/10/2020 04:00',\n",
              "  'Curitiba (área do Recalque Baixo do Reservatório Portão): Água Verde, Boqueirão, Capão Raso, CIC, Fanny, \\nFazendinha, Guaira, Hauer, Lindoia, Novo Mundo, Pinheirinho, Portão, Santa Quitéria, Seminário, Vila Izabel, \\nXaxim.',\n",
              "  '1'],\n",
              " ['16/10/2020 16:00',\n",
              "  '18/10/2020 04:00',\n",
              "  'Curitiba (área da Gravidade do Reservatório Campo do Santana): Campo de Santana, Caximba, CIC, Ganchinho, \\nTatuquara.',\n",
              "  '1'],\n",
              " ['16/10/2020 16:00',\n",
              "  '18/10/2020 04:00',\n",
              "  'São José dos Pinhais: Partes do Quississana; Costeira; Muricy (GRUPO-01)',\n",
              "  '1RPQ'],\n",
              " ['16/10/2020 17:00',\n",
              "  '18/10/2020 04:00',\n",
              "  'Almirante Tamandaré: Monte Santo, Campo Verde, São Francisco, Jardim Tatiana, Jardim Arvoredo, Pq. São \\nJorge, Jardim Gramado, Jardim Josiane, Vila Ajambi, Jardim Roma, Vila Edwirges, Jardim Arco Iris, Planto Sto \\nAntonio, Jardim São Venâncio.',\n",
              "  '4ALM'],\n",
              " ['16/10/2020 16:00',\n",
              "  '18/10/2020 04:00',\n",
              "  \"Bocaiuva do Sul: Vila Velha, Jd Yolanda, Vila Costa, Cachoeirinha, Cabeça D'anta\",\n",
              "  '4BOS'],\n",
              " ['16/10/2020 16:00',\n",
              "  '18/10/2020 04:00',\n",
              "  'Colombo (área da válvula Colombo sede 1): Arruda, Curitibano, Santa Fé, São Gabriel, Ana Rosa, Santa Tereza, \\nRoça Grande (parcial)',\n",
              "  '3CSE'],\n",
              " ['16/10/2020 09:00',\n",
              "  '17/10/2020 15:00',\n",
              "  'Quatro Barras: Pinheirinho',\n",
              "  '3BOC'],\n",
              " ['17 de Outubro de 2020', None, None, ''],\n",
              " ['Início', 'Normalização', 'Bairros afetados', 'Grupo'],\n",
              " ['17/10/2020 16:00',\n",
              "  '19/10/2020 04:00',\n",
              "  'Curitiba (área do Recalque Baixo do Reservatório Cajuru): Cabral, Juvevê, Hugo Lange, Alto da Glória, Centro, \\nJardim Social, Bacacheri, Alto da XV, Cristo Rei, Prado Velho, Jardim Botânico.',\n",
              "  '2'],\n",
              " ['17/10/2020 16:00',\n",
              "  '19/10/2020 04:00',\n",
              "  'Curitiba (área do Recalque Alto do Reservatório Cajuru): Agua Verde, Batel, Centro, Rebouças.',\n",
              "  '2'],\n",
              " ['17/10/2020 16:00',\n",
              "  '19/10/2020 04:00',\n",
              "  'São José dos Pinhais (área do Recalque do Reservatório São José Centro): São Domingos, Aristocrata, Aeroporto, \\nÁguas Belas, Centro.',\n",
              "  '2'],\n",
              " ['17/10/2020 16:00',\n",
              "  '19/10/2020 04:00',\n",
              "  'São José dos Pinhais (Área do Reservatório São Marcos): São Marcos, Campina do Taquaral, Parque da Fonte.',\n",
              "  '2'],\n",
              " ['17/10/2020 16:00',\n",
              "  '19/10/2020 04:00',\n",
              "  'Pinhais (área do Recalque do Reservatório Jacob Macanhan): Alto Atuba 1 e 2, Emiliano Perneta 2, Centro 1 e 2, \\nPalmital 1 e 2, Sete Vilas, Estância Pinhais 2.',\n",
              "  '2'],\n",
              " ['17/10/2020 16:00',\n",
              "  '19/10/2020 04:00',\n",
              "  'Pinhais (Área da Gravidade do Reservatório Apoiado Alphaville): Alphaville Graciosa',\n",
              "  '2'],\n",
              " ['17/10/2020 16:00',\n",
              "  '19/10/2020 04:00',\n",
              "  'Pinhais (Área da Gravidade do Reservatório Elevado Alphaville): Alphaville Graciosa',\n",
              "  '2']]"
            ]
          },
          "metadata": {
            "tags": []
          },
          "execution_count": 9
        }
      ]
    },
    {
      "cell_type": "markdown",
      "metadata": {
        "id": "SpiOfNWvZ9Gw"
      },
      "source": [
        "A próxima etapa será juntar todas as páginas para depois extrairmos todas as datas de rodízio para a nossa região. \n",
        "O código a seguir concatena essas listas na variável table"
      ]
    },
    {
      "cell_type": "code",
      "metadata": {
        "id": "zIMeEBnPEXGj"
      },
      "source": [
        "#iterar por todas as paginas e concatenar as tabelas\n",
        "table=[]\n",
        "tablesPage=[]         \n",
        "for i in range(len(pdf.pages)):  \n",
        "  pagina=pdf.pages[i]  \n",
        "  tablesPage=pdf.pages[i].find_tables()\n",
        "    #podem existir mais de uma tabela na mesma pagina\n",
        "  for j in range(len(tablesPage)):\n",
        "    table=table+tablesPage[j].extract(x_tolerance = 1) \n",
        "  "
      ],
      "execution_count": null,
      "outputs": []
    },
    {
      "cell_type": "markdown",
      "metadata": {
        "id": "EcNSVSVYewkF"
      },
      "source": [
        "Para extrair somente as datas da região escolhida, podemos usar a primeira coluna que é o código `coluna=0` ou a sexta coluna `coluna=5` se usarmos toda a string da área/reservatório e comparar com a string da nossa região `str_procura`. É preciso descomentar qual o conjunto escolhido.\n",
        "\n",
        "O código separa as datas de início e fim do rodizio da região na variável `resultado`"
      ]
    },
    {
      "cell_type": "code",
      "metadata": {
        "id": "dTOBttI_PuhW",
        "outputId": "08a1ae55-e1db-461b-ee35-47a633d59022",
        "colab": {
          "base_uri": "https://localhost:8080/",
          "height": 136
        }
      },
      "source": [
        "# escolher método de procura pela sua região\n",
        "\n",
        "#procura por codigo\n",
        "#str_procura='RBBC'\n",
        "#coluna=0\n",
        "\n",
        "#procura por área / reservatório\n",
        "str_procura=\"área do Recalque Alto do Reservatório Cajuru\"\n",
        "coluna=-2\n",
        "\n",
        "resultado=[]\n",
        "\n",
        "for i in range(len(table)):\n",
        "  if table[i][coluna] is not None:\n",
        "    if table[i][coluna].find(str_procura)>=0:\n",
        "      # resultado encontrado, separar os dados de inicio e fim do rodizio\n",
        "      resultado.append([table[i][0],table[i][1]])\n",
        "      # salvando o local para o relatório\n",
        "      textoLocal=table[i][coluna]\n",
        "      print('inicio=',table[i][0],' fim=', table[i][1], textoLocal)\n",
        "      \n",
        "#adicionando nomes para as colunas\n",
        "resultado.insert(0,['Início','Fim'])\n"
      ],
      "execution_count": null,
      "outputs": [
        {
          "output_type": "stream",
          "text": [
            "inicio= 17/10/2020 16:00  fim= 19/10/2020 04:00 Curitiba (área do Recalque Alto do Reservatório Cajuru): Agua Verde, Batel, Centro, Rebouças.\n",
            "inicio= 20/10/2020 16:00  fim= 22/10/2020 04:00 Curitiba (área do Recalque Alto do Reservatório Cajuru): Agua Verde, Batel, Centro, Rebouças.\n",
            "inicio= 23/10/2020 16:00  fim= 25/10/2020 04:00 Curitiba (área do Recalque Alto do Reservatório Cajuru): Agua Verde, Batel, Centro, Rebouças.\n",
            "inicio= 26/10/2020 16:00  fim= 28/10/2020 04:00 Curitiba (área do Recalque Alto do Reservatório Cajuru): Agua Verde, Batel, Centro, Rebouças.\n",
            "inicio= 29/10/2020 16:00  fim= 30/10/2020 16:00 Curitiba (área do Recalque Alto do Reservatório Cajuru): Agua Verde, Batel, Centro, Rebouças.\n",
            "inicio= 01/11/2020 16:00  fim= 02/11/2020 16:00 Curitiba (área do Recalque Alto do Reservatório Cajuru): Agua Verde, Batel, Centro, Rebouças.\n",
            "inicio= 04/11/2020 16:00  fim= 05/11/2020 16:00 Curitiba (área do Recalque Alto do Reservatório Cajuru): Agua Verde, Batel, Centro, Rebouças.\n"
          ],
          "name": "stdout"
        }
      ]
    },
    {
      "cell_type": "code",
      "metadata": {
        "id": "GzZWDoGckq24"
      },
      "source": [
        ""
      ],
      "execution_count": null,
      "outputs": []
    },
    {
      "cell_type": "markdown",
      "metadata": {
        "id": "YVtdss3HMnkW"
      },
      "source": [
        "## Gerando um relatório em PDF\n",
        "Com os resultados em mãos, vamos gerar um relatório em pdf para divulgar o resultado.\n",
        "\n",
        "Para gerar um relatório em pdf será usada a biblioteca [reportlab](https://www.reportlab.com/). Vamos usar o mínimo de elementos nesse código, um texto, uma tabela e uma imagem. Para mais detalhes da biblioteca vejam o [manual de uso](https://www.reportlab.com/docs/reportlab-userguide.pdf). \n",
        "\n",
        "A biblioteca também não é padrão no Colab, então precisamos adiciona-la ao nosso projeto com `!pip install reportlab`\n",
        "\n",
        "\n",
        "\n",
        "\n"
      ]
    },
    {
      "cell_type": "code",
      "metadata": {
        "id": "IucB09PHPhbM",
        "outputId": "611b8d20-d199-4fd8-e14b-c07031edbcf1",
        "colab": {
          "base_uri": "https://localhost:8080/",
          "height": 51
        }
      },
      "source": [
        "!pip install reportlab"
      ],
      "execution_count": null,
      "outputs": [
        {
          "output_type": "stream",
          "text": [
            "Requirement already satisfied: reportlab in /usr/local/lib/python3.6/dist-packages (3.5.53)\n",
            "Requirement already satisfied: pillow>=4.0.0 in /usr/local/lib/python3.6/dist-packages (from reportlab) (7.0.0)\n"
          ],
          "name": "stdout"
        }
      ]
    },
    {
      "cell_type": "markdown",
      "metadata": {
        "id": "O_PdXiI-2fLn"
      },
      "source": [
        "Adicionando elementos que vamos utilizar da biblioteca:"
      ]
    },
    {
      "cell_type": "code",
      "metadata": {
        "id": "2-QFnlBKQMKM"
      },
      "source": [
        "from reportlab.pdfgen import canvas\n",
        "from reportlab.platypus import Frame, Image\n",
        "from reportlab.lib.units import cm\n",
        "from reportlab.lib import colors\n",
        "from reportlab.platypus import Paragraph, Frame, Table, Spacer, TableStyle\n",
        "from reportlab.lib.styles import getSampleStyleSheet\n",
        "from reportlab.lib.styles import ParagraphStyle"
      ],
      "execution_count": null,
      "outputs": []
    },
    {
      "cell_type": "markdown",
      "metadata": {
        "id": "SVentPg_6D2T"
      },
      "source": [
        "### Entendendo a estrutura do reportlab utilizada\n",
        "Para melhor entender a estrutura de código para gerar o relatório veja a figura a seguir.\n",
        "\n",
        "O `Canvas` é uma tela A4 (com uma margem interna)\n",
        "\n",
        "Vamos adicionar um `Frame` que é um container de elementos nesse `Canvas` a 3 cm de distância da margem esquerda e a 12 cm de distância da margem inferior. As distãncias são relativas a posição (0,0) no canto inferior esquedo.\n",
        "\n",
        "\n",
        "Dentro do `Frame` montamos uma `Story`, que é uma sequência de elementos: \n",
        "\n",
        "- Parágrafo 1: texto padrão\n",
        "- Parágrafo 2: criada a partir do texto da região procurada\n",
        "- Tabela: criada a partir da tabela de resultados \n",
        "- Imagem: criada a partir de um link\n",
        "\n",
        "Foram adicionados espaçamentos (`Spacer`) entre os elementos\n",
        "\n",
        "![picture](https://github.com/cesarofuchi/Projects/blob/main/sanepar/img/reportlab.JPG?raw=true)\n",
        "\n",
        "\n",
        "\n",
        "\n",
        "\n"
      ]
    },
    {
      "cell_type": "markdown",
      "metadata": {
        "id": "Qlv3wJQCe5HD"
      },
      "source": [
        "### Código\n",
        "Deixei o código inteiro para que seja mais fácil editar as posições e estilos dos elementos, e gerar um pdf novo. Assim pode-se aprender na prática o que cada mudança nos elementos provoca.\n",
        "\n",
        "Ao final do processo é gerado um pdf com informações sobre a sua região e o horário de início e fim do rodízio."
      ]
    },
    {
      "cell_type": "code",
      "metadata": {
        "id": "kbCLIBbP3Cf9",
        "outputId": "2ab8889c-4272-459e-c848-76c6f88a30c8",
        "colab": {
          "base_uri": "https://localhost:8080/",
          "height": 34
        }
      },
      "source": [
        "#criação do Canvas\n",
        "nome_pdf = \"rodizio_sanepar.pdf\" \n",
        "c = canvas.Canvas(nome_pdf)\n",
        "c.setTitle(nome_pdf)\n",
        "table_size=len\n",
        "#Criação da tabela a partir do resultado\n",
        "rtable=Table(resultado)\n",
        " # propriedades da tabela\n",
        "t_fontsize=16\n",
        "t_leading=t_fontsize+2\n",
        "\n",
        "rtable.setStyle(TableStyle([\n",
        "  ('LEADING', (0, 0), (-1, -1), t_leading),\n",
        "  ('SIZE', (0, 0), (-1, -1), t_fontsize),\n",
        "  ('INNERGRID', (0, 0), (-1, -1), 0.25, colors.black),\n",
        "  ('BOX', (0, 0), (-1, -1), 0.25, colors.black)\n",
        "]))\n",
        "###############################################################\n",
        "# padrão é formato A4 (21 cm)\n",
        "# posição em CM, posição (0,0) canto inferior esquerdo\n",
        "\n",
        "# estilo do paragrafo 1        \n",
        "titleFormat = '<font size=\"18\" name=\"Helvetica\" color=\"rgb(0, 89, 164)\"><b>%s</b></font>'\n",
        "style = getSampleStyleSheet()['Normal']\n",
        "style.leading = 24\n",
        "\n",
        "# paragrafo 1\n",
        "p1 = Paragraph(titleFormat % 'RODÍZIO DE ABASTECIMENTO', style)\n",
        "\n",
        "# estilo do paragrafo 2\n",
        "titleFormat = '<font size=\"16\" name=\"Helvetica\" color=black><i>%s</i></font>'\n",
        "# paragrafo 2 \n",
        "p2 = Paragraph(titleFormat % textoLocal, style)\n",
        "\n",
        "# imagem \n",
        "im=Image(\"https://github.com/cesarofuchi/Projects/blob/main/sanepar/img/banner_20porcento.jpg?raw=true\")\n",
        "# restrição de tamanho para reduzir a imagem de forma proporcional\n",
        "im._restrictSize(10 * cm, 12 * cm)\n",
        "im.hAlign = 'RIGHT'\n",
        "\n",
        "# story com os elementos espaçados        \n",
        "story = [p1,\n",
        "         Spacer(1, 10),\n",
        "         p2,\n",
        "         Spacer(1, 10),\n",
        "         rtable,\n",
        "         Spacer(10, 30),\n",
        "         im]\n",
        "\n",
        "# criação do Frame\n",
        "f = Frame(3*cm, 12*cm, 16 * cm, 16 * cm)\n",
        "# adicionando o Frame (com Story) ao Canvas\n",
        "f.addFromList(story,c)\n",
        "\n",
        "# salvando no diretório local\n",
        "c.save()\n",
        "print('{}.pdf criado com sucesso!'.format(nome_pdf))"
      ],
      "execution_count": null,
      "outputs": [
        {
          "output_type": "stream",
          "text": [
            "rodizio_sanepar.pdf.pdf criado com sucesso!\n"
          ],
          "name": "stdout"
        }
      ]
    },
    {
      "cell_type": "code",
      "metadata": {
        "id": "YeIoyPemTeuF"
      },
      "source": [
        ""
      ],
      "execution_count": null,
      "outputs": []
    }
  ]
}